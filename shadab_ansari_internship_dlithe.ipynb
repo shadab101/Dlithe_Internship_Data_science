{
  "nbformat": 4,
  "nbformat_minor": 0,
  "metadata": {
    "colab": {
      "name": "shadab_ansari_internship_dlithe.ipynb",
      "provenance": [],
      "collapsed_sections": []
    },
    "kernelspec": {
      "name": "python3",
      "display_name": "Python 3"
    },
    "language_info": {
      "name": "python"
    }
  },
  "cells": [
    {
      "cell_type": "markdown",
      "source": [
        "**# Day - 1**\n",
        "\n",
        "**Data** **types** "
      ],
      "metadata": {
        "id": "F1_Y08qD6iMO"
      }
    },
    {
      "cell_type": "code",
      "source": [
        "# Integer\n",
        "# Pre-defined functions\n",
        "\n",
        "type(1)\n"
      ],
      "metadata": {
        "colab": {
          "base_uri": "https://localhost:8080/"
        },
        "id": "Irwg8Qid6wZC",
        "outputId": "4679a632-7f21-4377-8e8d-f0985af24077"
      },
      "execution_count": null,
      "outputs": [
        {
          "output_type": "execute_result",
          "data": {
            "text/plain": [
              "int"
            ]
          },
          "metadata": {},
          "execution_count": 299
        }
      ]
    },
    {
      "cell_type": "code",
      "source": [
        "# do this write the value 12.4 and tell me the output\n",
        "type(12.4)\n",
        "value=12.4\n",
        "print(type(value))"
      ],
      "metadata": {
        "colab": {
          "base_uri": "https://localhost:8080/"
        },
        "id": "YxMQUdfO7sd2",
        "outputId": "df4704a6-343b-47a8-e4b0-5ae3788edd82"
      },
      "execution_count": null,
      "outputs": [
        {
          "output_type": "stream",
          "name": "stdout",
          "text": [
            "<class 'float'>\n"
          ]
        }
      ]
    },
    {
      "cell_type": "code",
      "source": [
        "type('string')"
      ],
      "metadata": {
        "colab": {
          "base_uri": "https://localhost:8080/"
        },
        "id": "8n9XMVgP8CW0",
        "outputId": "f2dac583-9d63-4502-e57b-d330dc858038"
      },
      "execution_count": null,
      "outputs": [
        {
          "output_type": "execute_result",
          "data": {
            "text/plain": [
              "str"
            ]
          },
          "metadata": {},
          "execution_count": 301
        }
      ]
    },
    {
      "cell_type": "code",
      "source": [
        "type(\"string\")"
      ],
      "metadata": {
        "colab": {
          "base_uri": "https://localhost:8080/"
        },
        "id": "7lXKDp4C8YR7",
        "outputId": "abb48e59-a585-4b1d-ab9e-b007ceeaa8df"
      },
      "execution_count": null,
      "outputs": [
        {
          "output_type": "execute_result",
          "data": {
            "text/plain": [
              "str"
            ]
          },
          "metadata": {},
          "execution_count": 302
        }
      ]
    },
    {
      "cell_type": "code",
      "source": [
        "# To - do \n",
        "type('2')"
      ],
      "metadata": {
        "colab": {
          "base_uri": "https://localhost:8080/"
        },
        "id": "14Dh6jYq8a7r",
        "outputId": "3fe6c782-7f44-4b74-a455-67a65031a1b9"
      },
      "execution_count": null,
      "outputs": [
        {
          "output_type": "execute_result",
          "data": {
            "text/plain": [
              "str"
            ]
          },
          "metadata": {},
          "execution_count": 303
        }
      ]
    },
    {
      "cell_type": "code",
      "source": [
        "type(1j + 2)"
      ],
      "metadata": {
        "colab": {
          "base_uri": "https://localhost:8080/"
        },
        "id": "WDhWMsgm8dzJ",
        "outputId": "c65e58aa-7953-4a1a-e076-b1fc231d67dc"
      },
      "execution_count": null,
      "outputs": [
        {
          "output_type": "execute_result",
          "data": {
            "text/plain": [
              "complex"
            ]
          },
          "metadata": {},
          "execution_count": 304
        }
      ]
    },
    {
      "cell_type": "code",
      "source": [
        "#List\n",
        "type([1,2,3,4,4,5,6])"
      ],
      "metadata": {
        "colab": {
          "base_uri": "https://localhost:8080/"
        },
        "id": "JsYXqwnt83Em",
        "outputId": "c6a7f063-5068-4899-e85e-e0c8fdae329f"
      },
      "execution_count": null,
      "outputs": [
        {
          "output_type": "execute_result",
          "data": {
            "text/plain": [
              "list"
            ]
          },
          "metadata": {},
          "execution_count": 305
        }
      ]
    },
    {
      "cell_type": "code",
      "source": [
        "# TO do\n",
        "# Make a list and tuple mentioning each data type\n",
        "list=[type(9),type(9.4),type(\"string\"),type([1,2,3,4,4,5,6]),type(2j + 4),type((1,2,34,5,6))]\n",
        "print(type(list))\n",
        "print(list)\n",
        "\n",
        "tuple=(type(9),type(9.4),type(\"string\"),type([1,2,3,4,4,5,6]),type(2j + 4),type((1,2,34,5,6)))\n",
        "print(type(tuple))\n",
        "print(tuple)"
      ],
      "metadata": {
        "id": "OMtT8In69Y40",
        "outputId": "aaa33993-6245-4570-a227-5e98cb1c3af4",
        "colab": {
          "base_uri": "https://localhost:8080/"
        }
      },
      "execution_count": null,
      "outputs": [
        {
          "output_type": "stream",
          "name": "stdout",
          "text": [
            "<class 'list'>\n",
            "[<class 'int'>, <class 'float'>, <class 'str'>, <class 'list'>, <class 'complex'>, <class 'tuple'>]\n",
            "<class 'tuple'>\n",
            "(<class 'int'>, <class 'float'>, <class 'str'>, <class 'list'>, <class 'complex'>, <class 'tuple'>)\n"
          ]
        }
      ]
    },
    {
      "cell_type": "code",
      "source": [
        "# Tuple\n",
        "type((1,2,34,5,6))"
      ],
      "metadata": {
        "colab": {
          "base_uri": "https://localhost:8080/"
        },
        "id": "Y1eSESqt9gVE",
        "outputId": "5146191b-e4c8-40b1-fc59-8d98bd3632cf"
      },
      "execution_count": null,
      "outputs": [
        {
          "output_type": "execute_result",
          "data": {
            "text/plain": [
              "tuple"
            ]
          },
          "metadata": {},
          "execution_count": 307
        }
      ]
    },
    {
      "cell_type": "code",
      "source": [
        "{'Name':'Raju', 'Roll_no': 234, 'Age':26, 'Address':'fwkjgfiygku'}"
      ],
      "metadata": {
        "colab": {
          "base_uri": "https://localhost:8080/"
        },
        "id": "B0JLhruC-cA8",
        "outputId": "fd1d7d85-dc60-46c7-c67a-7a44ab16d5d1"
      },
      "execution_count": null,
      "outputs": [
        {
          "output_type": "execute_result",
          "data": {
            "text/plain": [
              "{'Address': 'fwkjgfiygku', 'Age': 26, 'Name': 'Raju', 'Roll_no': 234}"
            ]
          },
          "metadata": {},
          "execution_count": 308
        }
      ]
    },
    {
      "cell_type": "code",
      "source": [
        "type({'Name':'Raju', 'Roll_no': 234, 'Age':26, 'Address':'fwkjgfiygku'})"
      ],
      "metadata": {
        "colab": {
          "base_uri": "https://localhost:8080/"
        },
        "id": "MgdyhHNi-sgr",
        "outputId": "2614328b-4abb-442e-8978-2d85140f9191"
      },
      "execution_count": null,
      "outputs": [
        {
          "output_type": "execute_result",
          "data": {
            "text/plain": [
              "dict"
            ]
          },
          "metadata": {},
          "execution_count": 309
        }
      ]
    },
    {
      "cell_type": "code",
      "source": [
        "#Make a dictionary adding your Name and your basic details\n",
        "n={\n",
        "    \"name\": \"shadab ansari\",\n",
        "    \"college\": \"BMSIT\",\n",
        "    \"branch\":\"MCA\",\n",
        "    \"semester\":\"4th sem\"\n",
        "}\n",
        "print(n)"
      ],
      "metadata": {
        "id": "2Q_OaiDb-yvS",
        "colab": {
          "base_uri": "https://localhost:8080/"
        },
        "outputId": "3bc71344-72b6-4e0f-d456-8cf5612cd084"
      },
      "execution_count": null,
      "outputs": [
        {
          "output_type": "stream",
          "name": "stdout",
          "text": [
            "{'name': 'shadab ansari', 'college': 'BMSIT', 'branch': 'MCA', 'semester': '4th sem'}\n"
          ]
        }
      ]
    },
    {
      "cell_type": "code",
      "source": [
        "#Print function\n",
        "print(\"Hello my name is Shadab Ansari\")"
      ],
      "metadata": {
        "colab": {
          "base_uri": "https://localhost:8080/"
        },
        "id": "YAVFWqJI-7XW",
        "outputId": "7e352d1f-3253-40f1-c505-78af4cddf304"
      },
      "execution_count": null,
      "outputs": [
        {
          "output_type": "stream",
          "name": "stdout",
          "text": [
            "Hello my name is Shadab Ansari\n"
          ]
        }
      ]
    },
    {
      "cell_type": "code",
      "source": [
        "print(1)"
      ],
      "metadata": {
        "colab": {
          "base_uri": "https://localhost:8080/"
        },
        "id": "jV-1XQtQ_uFG",
        "outputId": "60f95ceb-7df9-4995-d1a1-3ca79065f280"
      },
      "execution_count": null,
      "outputs": [
        {
          "output_type": "stream",
          "name": "stdout",
          "text": [
            "1\n"
          ]
        }
      ]
    },
    {
      "cell_type": "code",
      "source": [
        "# To do \n",
        "# You have to print the type of the data and store it.\n",
        "# MVP should be realistic rather than idealistic. It should be conservative rather than ambitious. \n",
        "#If all else fails, knowing that you achieve your MVP is a huge accomplishment.\n",
        "\n",
        "x=type(1)\n",
        "y=type(\"COLLEGE\")\n",
        "print(x)\n",
        "print(y)\n"
      ],
      "metadata": {
        "id": "WTqcILu3_vax",
        "colab": {
          "base_uri": "https://localhost:8080/"
        },
        "outputId": "9f6a077c-1194-4bd2-967a-2ff90cec2ea2"
      },
      "execution_count": null,
      "outputs": [
        {
          "output_type": "stream",
          "name": "stdout",
          "text": [
            "<class 'int'>\n",
            "<class 'str'>\n"
          ]
        }
      ]
    },
    {
      "cell_type": "code",
      "source": [
        "# Variables and identifiers\n",
        "str1 = 'Hello my name is SHADAB ANSARI'"
      ],
      "metadata": {
        "id": "SsDdqBxdADs_"
      },
      "execution_count": null,
      "outputs": []
    },
    {
      "cell_type": "code",
      "source": [
        "str1"
      ],
      "metadata": {
        "colab": {
          "base_uri": "https://localhost:8080/",
          "height": 35
        },
        "id": "rdaulHVyAude",
        "outputId": "2e059dde-2c30-42cc-edc0-c0a591b599d3"
      },
      "execution_count": null,
      "outputs": [
        {
          "output_type": "execute_result",
          "data": {
            "application/vnd.google.colaboratory.intrinsic+json": {
              "type": "string"
            },
            "text/plain": [
              "'Hello my name is SHADAB ANSARI'"
            ]
          },
          "metadata": {},
          "execution_count": 315
        }
      ]
    },
    {
      "cell_type": "markdown",
      "source": [
        "### Data operators - "
      ],
      "metadata": {
        "id": "XcNeByvBBgYU"
      }
    },
    {
      "cell_type": "code",
      "source": [
        "a = 6\n",
        "b = 3\n",
        "\n",
        "# Multiplication\n",
        "value1=(a*b)\n",
        "print(value1)\n",
        "# subtraction\n",
        "value2=(a-b)\n",
        "print(value2)\n",
        "# Floor division \n",
        "value3=(a//b)\n",
        "print(value3)\n",
        "# Division \n",
        "value4=(a/b)\n",
        "print(value4)\n",
        "# Addition\n",
        "value5=(a+b)\n",
        "print(value5)\n",
        "\n",
        "# Exponention\n",
        "value6=(a**b)\n",
        "print(value6)\n",
        "#store into a variable and print the variable"
      ],
      "metadata": {
        "colab": {
          "base_uri": "https://localhost:8080/"
        },
        "id": "CNuU6RX_lbxU",
        "outputId": "8edf28a2-4e4a-4cba-fb0c-bc035d21bbb6"
      },
      "execution_count": null,
      "outputs": [
        {
          "output_type": "stream",
          "name": "stdout",
          "text": [
            "18\n",
            "3\n",
            "2\n",
            "2.0\n",
            "9\n",
            "216\n"
          ]
        }
      ]
    },
    {
      "cell_type": "markdown",
      "source": [
        "Relation operator"
      ],
      "metadata": {
        "id": "6TrAuI5UDnry"
      }
    },
    {
      "cell_type": "code",
      "source": [
        "34 == 25"
      ],
      "metadata": {
        "colab": {
          "base_uri": "https://localhost:8080/"
        },
        "id": "mBWdd7zFC3wp",
        "outputId": "12f8f19c-f809-4800-dcf9-d3659fbaaf53"
      },
      "execution_count": null,
      "outputs": [
        {
          "output_type": "execute_result",
          "data": {
            "text/plain": [
              "False"
            ]
          },
          "metadata": {},
          "execution_count": 317
        }
      ]
    },
    {
      "cell_type": "code",
      "source": [
        "34>45"
      ],
      "metadata": {
        "colab": {
          "base_uri": "https://localhost:8080/"
        },
        "id": "Ax00wePADfK6",
        "outputId": "b534c22e-1355-4a88-b21e-53ea8da07eab"
      },
      "execution_count": null,
      "outputs": [
        {
          "output_type": "execute_result",
          "data": {
            "text/plain": [
              "False"
            ]
          },
          "metadata": {},
          "execution_count": 318
        }
      ]
    },
    {
      "cell_type": "code",
      "source": [
        "34<45"
      ],
      "metadata": {
        "colab": {
          "base_uri": "https://localhost:8080/"
        },
        "id": "9OM9J0iyDhlZ",
        "outputId": "fa84242b-963d-49a7-f03d-9ae8235089ab"
      },
      "execution_count": null,
      "outputs": [
        {
          "output_type": "execute_result",
          "data": {
            "text/plain": [
              "True"
            ]
          },
          "metadata": {},
          "execution_count": 319
        }
      ]
    },
    {
      "cell_type": "code",
      "source": [
        "34!=45"
      ],
      "metadata": {
        "colab": {
          "base_uri": "https://localhost:8080/"
        },
        "id": "w8-mRmneDjgM",
        "outputId": "989ee08c-ddb6-4527-f995-53c5d241971b"
      },
      "execution_count": null,
      "outputs": [
        {
          "output_type": "execute_result",
          "data": {
            "text/plain": [
              "True"
            ]
          },
          "metadata": {},
          "execution_count": 320
        }
      ]
    },
    {
      "cell_type": "markdown",
      "source": [
        "Assignment operators"
      ],
      "metadata": {
        "id": "f1Kx3sdeDyrr"
      }
    },
    {
      "cell_type": "code",
      "source": [
        "x = 12"
      ],
      "metadata": {
        "id": "cQfnFLTQDxtT"
      },
      "execution_count": null,
      "outputs": []
    },
    {
      "cell_type": "code",
      "source": [
        "x+=2\n",
        "print(x)"
      ],
      "metadata": {
        "colab": {
          "base_uri": "https://localhost:8080/"
        },
        "id": "1RDsN0CpD6VI",
        "outputId": "35e5ed4a-2626-4166-d1a7-c5f3537f35fb"
      },
      "execution_count": null,
      "outputs": [
        {
          "output_type": "stream",
          "name": "stdout",
          "text": [
            "14\n"
          ]
        }
      ]
    },
    {
      "cell_type": "code",
      "source": [
        "x*=3"
      ],
      "metadata": {
        "id": "RXH_6YYAECZ4"
      },
      "execution_count": null,
      "outputs": []
    },
    {
      "cell_type": "code",
      "source": [
        "print(x)"
      ],
      "metadata": {
        "colab": {
          "base_uri": "https://localhost:8080/"
        },
        "id": "wz-kfVLJEFvs",
        "outputId": "c43393a0-fd95-49d7-e6d9-cbebe04a67df"
      },
      "execution_count": null,
      "outputs": [
        {
          "output_type": "stream",
          "name": "stdout",
          "text": [
            "42\n"
          ]
        }
      ]
    },
    {
      "cell_type": "markdown",
      "source": [
        "# Python Logical Operators\n",
        "\n",
        "1. And\n",
        "2. Or\n",
        "3. Not"
      ],
      "metadata": {
        "id": "-MbXhVWqEOJk"
      }
    },
    {
      "cell_type": "code",
      "source": [
        "#and operators\n",
        "\n",
        "23<45 and 49 != 49 and 2 == 2\n"
      ],
      "metadata": {
        "colab": {
          "base_uri": "https://localhost:8080/"
        },
        "id": "VP6cOvbLEJwt",
        "outputId": "6e00386c-de61-4c82-9d02-b876bb072f80"
      },
      "execution_count": null,
      "outputs": [
        {
          "output_type": "execute_result",
          "data": {
            "text/plain": [
              "False"
            ]
          },
          "metadata": {},
          "execution_count": 325
        }
      ]
    },
    {
      "cell_type": "code",
      "source": [
        "# Or operator\n",
        "23<45 or 49 != 49 or 2 == 2\n",
        "\n"
      ],
      "metadata": {
        "colab": {
          "base_uri": "https://localhost:8080/"
        },
        "id": "-z7dkA73EvXl",
        "outputId": "dfedfb4d-e088-4d20-f579-d8560d5532f4"
      },
      "execution_count": null,
      "outputs": [
        {
          "output_type": "execute_result",
          "data": {
            "text/plain": [
              "True"
            ]
          },
          "metadata": {},
          "execution_count": 326
        }
      ]
    },
    {
      "cell_type": "code",
      "source": [
        "'shadab' == 'Shadab'"
      ],
      "metadata": {
        "colab": {
          "base_uri": "https://localhost:8080/"
        },
        "id": "hfVWZmY9E7Uq",
        "outputId": "8193d7d8-b5db-4148-94c6-28d2f8881b77"
      },
      "execution_count": null,
      "outputs": [
        {
          "output_type": "execute_result",
          "data": {
            "text/plain": [
              "False"
            ]
          },
          "metadata": {},
          "execution_count": 327
        }
      ]
    },
    {
      "cell_type": "code",
      "source": [
        "# not operator\n",
        "\n",
        "not('shadab' == 'Shadab')"
      ],
      "metadata": {
        "colab": {
          "base_uri": "https://localhost:8080/"
        },
        "id": "jqAG2XYCFDWp",
        "outputId": "2aabbfd6-7185-41e1-f963-e6834edd8314"
      },
      "execution_count": null,
      "outputs": [
        {
          "output_type": "execute_result",
          "data": {
            "text/plain": [
              "True"
            ]
          },
          "metadata": {},
          "execution_count": 328
        }
      ]
    },
    {
      "cell_type": "markdown",
      "source": [
        "**LIST, TUPLE, DICTIONARY**"
      ],
      "metadata": {
        "id": "LNYzvGlQUQ6I"
      }
    },
    {
      "cell_type": "code",
      "source": [
        "#Manipulation of list \n",
        "\n",
        "# TO Do \n",
        "# You have to make your own list ( all the items are integers)\n",
        "l=[1,2,3,4,5,6,7,89,10,11,12,13,14,15,16,17,18,19,20]\n",
        "print(\"original list:\",l)"
      ],
      "metadata": {
        "id": "mdB92bzVC177",
        "colab": {
          "base_uri": "https://localhost:8080/"
        },
        "outputId": "97d03539-f0d6-4800-bc1d-0ad308895759"
      },
      "execution_count": null,
      "outputs": [
        {
          "output_type": "stream",
          "name": "stdout",
          "text": [
            "original list: [1, 2, 3, 4, 5, 6, 7, 89, 10, 11, 12, 13, 14, 15, 16, 17, 18, 19, 20]\n"
          ]
        }
      ]
    },
    {
      "cell_type": "code",
      "source": [
        "# to -do \n",
        "#You have to insert 37 in 8th index and 2 in 12th index and 5 in 1000 index\n",
        "l.insert(8,37)\n",
        "print(l)\n",
        "l.insert(12,2)\n",
        "print(l)\n",
        "l.insert(1000,5)\n",
        "print(l)"
      ],
      "metadata": {
        "colab": {
          "base_uri": "https://localhost:8080/"
        },
        "id": "IEDnityBGpoL",
        "outputId": "5edf16fb-0162-4db7-95b8-a24baeebedaa"
      },
      "execution_count": null,
      "outputs": [
        {
          "output_type": "stream",
          "name": "stdout",
          "text": [
            "[1, 2, 3, 4, 5, 6, 7, 89, 37, 10, 11, 12, 13, 14, 15, 16, 17, 18, 19, 20]\n",
            "[1, 2, 3, 4, 5, 6, 7, 89, 37, 10, 11, 12, 2, 13, 14, 15, 16, 17, 18, 19, 20]\n",
            "[1, 2, 3, 4, 5, 6, 7, 89, 37, 10, 11, 12, 2, 13, 14, 15, 16, 17, 18, 19, 20, 5]\n"
          ]
        }
      ]
    },
    {
      "cell_type": "code",
      "source": [
        "#To Do \n",
        "#a = 12\n",
        "#b = 3\n",
        "# c = 45\n",
        "#Write a swapping function where a == c, b ==a, c = b"
      ],
      "metadata": {
        "id": "t3Wv_F7TKJBS"
      },
      "execution_count": null,
      "outputs": []
    },
    {
      "cell_type": "code",
      "source": [
        ""
      ],
      "metadata": {
        "id": "8MPe5N3ZMg_n"
      },
      "execution_count": null,
      "outputs": []
    },
    {
      "cell_type": "code",
      "source": [
        ""
      ],
      "metadata": {
        "id": "HvpBypD-Mo-a"
      },
      "execution_count": null,
      "outputs": []
    },
    {
      "cell_type": "code",
      "source": [
        ""
      ],
      "metadata": {
        "id": "s34iPGzMjq4M"
      },
      "execution_count": null,
      "outputs": []
    },
    {
      "cell_type": "code",
      "source": [
        "a=12\n",
        "b=3\n",
        "c=45\n",
        "a,b,c=c,a,b\n",
        "#swapped a(12) with c(45)\n",
        "print(\"a value is:\",a)\n",
        "#swapped b(3) with a(12)\n",
        "print(\"b value is:\",b)\n",
        "#swapped c(45) with b(3)\n",
        "print(\"c value is:\",c)"
      ],
      "metadata": {
        "colab": {
          "base_uri": "https://localhost:8080/"
        },
        "id": "lT7Z3Jh_IdGI",
        "outputId": "f97d5ed3-8338-4f8d-ec3b-a861d053dbfe"
      },
      "execution_count": null,
      "outputs": [
        {
          "output_type": "stream",
          "name": "stdout",
          "text": [
            "a value is: 45\n",
            "b value is: 12\n",
            "c value is: 3\n"
          ]
        }
      ]
    },
    {
      "cell_type": "code",
      "source": [
        "tuple=(78,65,43,27,39,'happy','mood')\n",
        "tuple1=('abc',2,3,4,'def')\n",
        "print(tuple[1:3])\n",
        "print(tuple + tuple1)"
      ],
      "metadata": {
        "colab": {
          "base_uri": "https://localhost:8080/"
        },
        "id": "dkhjazuOJTsI",
        "outputId": "238c09a9-b032-4b69-a6f1-44b65dd19383"
      },
      "execution_count": null,
      "outputs": [
        {
          "output_type": "stream",
          "name": "stdout",
          "text": [
            "(65, 43)\n",
            "(78, 65, 43, 27, 39, 'happy', 'mood', 'abc', 2, 3, 4, 'def')\n"
          ]
        }
      ]
    },
    {
      "cell_type": "code",
      "source": [
        "#to-do\n",
        "#Create a tuple ('Hello','World') \n",
        "tuple3=('Hello','World')\n",
        "print(tuple3)"
      ],
      "metadata": {
        "colab": {
          "base_uri": "https://localhost:8080/"
        },
        "id": "M9kSrwEYOfH0",
        "outputId": "6212cb9f-a093-442f-a2b3-e56fcc0a4ffe"
      },
      "execution_count": null,
      "outputs": [
        {
          "output_type": "stream",
          "name": "stdout",
          "text": [
            "('Hello', 'World')\n"
          ]
        }
      ]
    },
    {
      "cell_type": "code",
      "source": [
        "#tuple unpacking\n",
        "tup2=('this','tuple','is','cool')\n",
        "d,f,g,h=tup2\n",
        "print(d+\" \"+f+\" \"+g+\" \"+h)"
      ],
      "metadata": {
        "colab": {
          "base_uri": "https://localhost:8080/"
        },
        "id": "XlLeigvBR169",
        "outputId": "8a9f9767-851c-4d79-ccff-6a18c5b3d56c"
      },
      "execution_count": null,
      "outputs": [
        {
          "output_type": "stream",
          "name": "stdout",
          "text": [
            "this tuple is cool\n"
          ]
        }
      ]
    },
    {
      "cell_type": "code",
      "source": [
        "dic={\n",
        "    \"name\": \"shadab ansari\",\n",
        "    \"college\": \"BMSIT\",\n",
        "    \"branch\":\"MCA\",\n",
        "    \"semester\":\"4th sem\"\n",
        "}\n",
        "print(dic)"
      ],
      "metadata": {
        "colab": {
          "base_uri": "https://localhost:8080/"
        },
        "id": "npFktoyjOG41",
        "outputId": "fa6503be-b17c-4d42-dd1d-9842e7d4ce14"
      },
      "execution_count": null,
      "outputs": [
        {
          "output_type": "stream",
          "name": "stdout",
          "text": [
            "{'name': 'shadab ansari', 'college': 'BMSIT', 'branch': 'MCA', 'semester': '4th sem'}\n"
          ]
        }
      ]
    },
    {
      "cell_type": "code",
      "source": [
        "#deleting the key\n",
        "del dic['name']\n",
        "print(dic)"
      ],
      "metadata": {
        "colab": {
          "base_uri": "https://localhost:8080/"
        },
        "id": "093ro5TAPpDZ",
        "outputId": "4d12f090-14f7-452c-d59f-730d494e77ee"
      },
      "execution_count": null,
      "outputs": [
        {
          "output_type": "stream",
          "name": "stdout",
          "text": [
            "{'college': 'BMSIT', 'branch': 'MCA', 'semester': '4th sem'}\n"
          ]
        }
      ]
    },
    {
      "cell_type": "code",
      "source": [
        "dic['yob']=1999\n",
        "print(dic)\n"
      ],
      "metadata": {
        "colab": {
          "base_uri": "https://localhost:8080/"
        },
        "id": "cZ65N9bdQWOq",
        "outputId": "3d6d72bc-eddf-4d9f-b251-6454017bec8b"
      },
      "execution_count": null,
      "outputs": [
        {
          "output_type": "stream",
          "name": "stdout",
          "text": [
            "{'college': 'BMSIT', 'branch': 'MCA', 'semester': '4th sem', 'yob': 1999}\n"
          ]
        }
      ]
    },
    {
      "cell_type": "code",
      "source": [
        "dic.pop(\"branch\")"
      ],
      "metadata": {
        "colab": {
          "base_uri": "https://localhost:8080/",
          "height": 35
        },
        "id": "IQsLgudhQk1i",
        "outputId": "ae24f4d2-7521-47c4-d51a-cda730af62b9"
      },
      "execution_count": null,
      "outputs": [
        {
          "output_type": "execute_result",
          "data": {
            "application/vnd.google.colaboratory.intrinsic+json": {
              "type": "string"
            },
            "text/plain": [
              "'MCA'"
            ]
          },
          "metadata": {},
          "execution_count": 338
        }
      ]
    },
    {
      "cell_type": "code",
      "source": [
        "\"\"\"\n",
        "dct1=dict(a=1,b=2)\n",
        "print(dct1) \n",
        "b=dict(dct1)\n",
        "print(b)\n",
        "\"\"\""
      ],
      "metadata": {
        "id": "UUrooNWRT_gk"
      },
      "execution_count": null,
      "outputs": []
    },
    {
      "cell_type": "code",
      "source": [
        "# unpacking of dictionary\n",
        "d2=dict(a=1,b=2,c=3)\n",
        "print(d2)\n",
        "x,y,z=d2\n",
        "print(x)\n",
        "print(y)\n",
        "print(z)"
      ],
      "metadata": {
        "colab": {
          "base_uri": "https://localhost:8080/"
        },
        "id": "XxfCrsN3RUyG",
        "outputId": "e03084fa-0c16-4a32-92a3-e6c908f6d664"
      },
      "execution_count": null,
      "outputs": [
        {
          "output_type": "stream",
          "name": "stdout",
          "text": [
            "{'a': 1, 'b': 2, 'c': 3}\n",
            "a\n",
            "b\n",
            "c\n"
          ]
        }
      ]
    },
    {
      "cell_type": "markdown",
      "source": [
        "**IF...ELSE**"
      ],
      "metadata": {
        "id": "3a4mLOAEUHzB"
      }
    },
    {
      "cell_type": "code",
      "source": [
        " # To - do \n",
        " # Specify what it is doing\n",
        " # Also mention and clear errors\n",
        " \n",
        "#originial code\n",
        "string = 'Parade'\n",
        "\n",
        "if string == 'Parade':\n",
        "  print('hello')\n",
        "    string = string*3  # indentatio error\n",
        "    print(string)   # indentatio error\n"
      ],
      "metadata": {
        "id": "a63GkKm_Vemm",
        "colab": {
          "base_uri": "https://localhost:8080/",
          "height": 135
        },
        "outputId": "2556fa38-75d4-426d-f8cf-e71db4a8f8da"
      },
      "execution_count": null,
      "outputs": [
        {
          "output_type": "error",
          "ename": "IndentationError",
          "evalue": "ignored",
          "traceback": [
            "\u001b[0;36m  File \u001b[0;32m\"<ipython-input-1-d6fc81832209>\"\u001b[0;36m, line \u001b[0;32m6\u001b[0m\n\u001b[0;31m    string = string*3\u001b[0m\n\u001b[0m    ^\u001b[0m\n\u001b[0;31mIndentationError\u001b[0m\u001b[0;31m:\u001b[0m unexpected indent\n"
          ]
        }
      ]
    },
    {
      "cell_type": "code",
      "source": [
        "#fixed code\n",
        "string = 'Parade'\n",
        "\n",
        "if string == 'Parade': #checking variable string(parade) with 'parade'\n",
        "  print('hello') # hello is printde\n",
        "  string = string*3  #parade is printed 3 times\n",
        "  print(string)   #string(parade) is printed\n",
        "\n",
        " # To - do \n",
        " # Specify what it is doing\n",
        " # Also mention and clear errors"
      ],
      "metadata": {
        "colab": {
          "base_uri": "https://localhost:8080/"
        },
        "id": "wHJuSTB8PRI5",
        "outputId": "0c8818ee-ae8c-43c0-9caa-770eaef5455d"
      },
      "execution_count": null,
      "outputs": [
        {
          "output_type": "stream",
          "name": "stdout",
          "text": [
            "hello\n",
            "ParadeParadeParade\n"
          ]
        }
      ]
    },
    {
      "cell_type": "code",
      "source": [
        "# nested if...else to check the number is zero,-ve,+ve\n",
        "i=-1\n",
        "if(i<0):\n",
        "  print(\"i is negative\")\n",
        "else:\n",
        "    if(i==0):\n",
        "      print(\"i is zero\")\n",
        "    else:\n",
        "      print(\"i is positive\")"
      ],
      "metadata": {
        "colab": {
          "base_uri": "https://localhost:8080/"
        },
        "id": "g039T0A-P5t_",
        "outputId": "9f754cc6-6e09-4dbb-c7d1-f6fb719f1048"
      },
      "execution_count": null,
      "outputs": [
        {
          "output_type": "stream",
          "name": "stdout",
          "text": [
            "i is negative\n"
          ]
        }
      ]
    },
    {
      "cell_type": "code",
      "source": [
        "#if..elif statements \n",
        "\n",
        "i=16\n",
        "if(i<15):\n",
        "  print(\"i is less than  15\")\n",
        "elif(i==15):\n",
        "  print(\"i is 15\")\n",
        "else:\n",
        "  print(\"i is greater than 15\")"
      ],
      "metadata": {
        "colab": {
          "base_uri": "https://localhost:8080/"
        },
        "id": "62NiqPhYg_dj",
        "outputId": "0bedcf67-402e-41b0-be4f-3bcb5f17344b"
      },
      "execution_count": null,
      "outputs": [
        {
          "output_type": "stream",
          "name": "stdout",
          "text": [
            "i is greater than 15\n"
          ]
        }
      ]
    },
    {
      "cell_type": "code",
      "source": [
        "i=18\n",
        "if i<20: print(\"i is less than 20\")"
      ],
      "metadata": {
        "colab": {
          "base_uri": "https://localhost:8080/"
        },
        "id": "zRbjiZxQh47C",
        "outputId": "d05ce0b1-eb26-45ed-9a8d-6027ba83a8c8"
      },
      "execution_count": null,
      "outputs": [
        {
          "output_type": "stream",
          "name": "stdout",
          "text": [
            "i is less than 20\n"
          ]
        }
      ]
    },
    {
      "cell_type": "code",
      "source": [
        "# to-do\n",
        "#you have to explore if-else short hand code\n",
        "#else - i is greater than or equal to 10\n",
        "\n",
        "x=10\n",
        "print(\"x is less than 10\") if x<10 else print(\"i is greater than or equal to 10\") # shorthand code of if...else"
      ],
      "metadata": {
        "colab": {
          "base_uri": "https://localhost:8080/"
        },
        "id": "5nx9gJ9gy7M4",
        "outputId": "a955478c-14c3-4aec-aa73-8eb5ac0f63b5"
      },
      "execution_count": null,
      "outputs": [
        {
          "output_type": "stream",
          "name": "stdout",
          "text": [
            "i is greater than or equal to 10\n"
          ]
        }
      ]
    },
    {
      "cell_type": "markdown",
      "source": [
        "**FOR** **loops**"
      ],
      "metadata": {
        "id": "VW90MN7kjCOU"
      }
    },
    {
      "cell_type": "code",
      "source": [
        "for var in [3,4,5,6,8,9]:\n",
        "  print(var,end=\" \")\n",
        "print(\"\\nlast element in list:\",var) #last element is the last index where the for loop stops"
      ],
      "metadata": {
        "colab": {
          "base_uri": "https://localhost:8080/"
        },
        "id": "KEP4RPrpjGkY",
        "outputId": "a19be78e-d1c9-4b69-f528-3a9d12d0d8de"
      },
      "execution_count": null,
      "outputs": [
        {
          "output_type": "stream",
          "name": "stdout",
          "text": [
            "3 4 5 6 8 9 \n",
            "last elementin list: 9\n"
          ]
        }
      ]
    },
    {
      "cell_type": "code",
      "source": [
        "# I have to replace banana with a mushroom and store it in a new list\n",
        "items = ['tomato','onion','brinjal','banana']\n",
        "new_list=[]\n",
        "print(\"original list:\",items) # original list\n",
        "for i in range(len(items)):\n",
        "  if(items[i]==\"banana\"): # if \"banana\" is present in the list\n",
        "    items[i]=\"mushroom\" #replacing the \"banana with \"mushroom\"\n",
        "    new_list=items # copying the updated list to a new list \"new_list\"\n",
        "print(\"updated list:\",new_list)"
      ],
      "metadata": {
        "colab": {
          "base_uri": "https://localhost:8080/"
        },
        "id": "esKhLefFkLfl",
        "outputId": "f4cd32cf-1df8-4722-a221-ad10026cd99c"
      },
      "execution_count": null,
      "outputs": [
        {
          "output_type": "stream",
          "name": "stdout",
          "text": [
            "original list: ['tomato', 'onion', 'brinjal', 'banana']\n",
            "updated list: ['tomato', 'onion', 'brinjal', 'mushroom']\n"
          ]
        }
      ]
    },
    {
      "cell_type": "code",
      "source": [
        "s = list(input())\n",
        "print(s)\n",
        "#we have to enter the list in list-input() without spaces"
      ],
      "metadata": {
        "colab": {
          "base_uri": "https://localhost:8080/"
        },
        "id": "aY9LBAmysrMO",
        "outputId": "5d773232-819b-44ef-80fc-97c17f2fd28c"
      },
      "execution_count": null,
      "outputs": [
        {
          "output_type": "stream",
          "name": "stdout",
          "text": [
            "12345\n",
            "['1', '2', '3', '4', '5']\n"
          ]
        }
      ]
    },
    {
      "cell_type": "code",
      "source": [
        "# to do \n",
        "# come is improvization\n",
        "\n",
        "s = list(input().split(\" \"))\n",
        "print(s)\n",
        "#we have to enter the list in list-input() using spaces otherwise the item without spaces will be considered as a single element in the list"
      ],
      "metadata": {
        "colab": {
          "base_uri": "https://localhost:8080/"
        },
        "id": "moiMiHF7j-RN",
        "outputId": "2381cdc4-cb3e-4476-d03a-bca85b888671"
      },
      "execution_count": null,
      "outputs": [
        {
          "output_type": "stream",
          "name": "stdout",
          "text": [
            "1 2 3 4 5\n",
            "['1', '2', '3', '4', '5']\n"
          ]
        }
      ]
    },
    {
      "cell_type": "code",
      "source": [
        "# To-do\n",
        "# perform the sum of first 10 natural numbers\n",
        "\n",
        "sum=0 # sum is initialized\n",
        "for i in range(1,11): #for range is from 1-10\n",
        "  sum+=i #sum of first 10 natural numbers\n",
        "print(\"Sum of 10 natural numbers:\",sum)"
      ],
      "metadata": {
        "colab": {
          "base_uri": "https://localhost:8080/"
        },
        "id": "idlh1QUsuD4m",
        "outputId": "b755aff8-6985-4dd2-ec77-609615766133"
      },
      "execution_count": null,
      "outputs": [
        {
          "output_type": "stream",
          "name": "stdout",
          "text": [
            "sum of 10 natural numbers: 55\n"
          ]
        }
      ]
    },
    {
      "cell_type": "code",
      "source": [
        "questions = ['name','color','shape']\n",
        "answers = ['apple','red','a circle']\n",
        "for questions,answers in zip(questions,answers):\n",
        "  print(\"what is your \"+questions+\" i am \"+answers)\n"
      ],
      "metadata": {
        "colab": {
          "base_uri": "https://localhost:8080/"
        },
        "id": "QWEdRrSdoRyi",
        "outputId": "f96a4cab-a0a4-4de0-8923-a31ef4519f12"
      },
      "execution_count": null,
      "outputs": [
        {
          "output_type": "stream",
          "name": "stdout",
          "text": [
            "what is your name i am apple\n",
            "what is your color i am red\n",
            "what is your shape i am a circle\n"
          ]
        }
      ]
    },
    {
      "cell_type": "code",
      "source": [
        "l=list(int(input()))\n",
        "sum=0\n",
        "for i in l:\n",
        "  sum=sum+i\n",
        "print(sum)"
      ],
      "metadata": {
        "colab": {
          "base_uri": "https://localhost:8080/",
          "height": 263
        },
        "id": "uy8d4Yz1quNT",
        "outputId": "6a3d3ce2-283d-49c2-8d66-9e03bc20f168"
      },
      "execution_count": null,
      "outputs": [
        {
          "name": "stdout",
          "output_type": "stream",
          "text": [
            "l=list(map(int,input().split()))\n"
          ]
        },
        {
          "output_type": "error",
          "ename": "ValueError",
          "evalue": "ignored",
          "traceback": [
            "\u001b[0;31m---------------------------------------------------------------------------\u001b[0m",
            "\u001b[0;31mValueError\u001b[0m                                Traceback (most recent call last)",
            "\u001b[0;32m<ipython-input-9-bf28ec67b35f>\u001b[0m in \u001b[0;36m<module>\u001b[0;34m()\u001b[0m\n\u001b[0;32m----> 1\u001b[0;31m \u001b[0ml\u001b[0m\u001b[0;34m=\u001b[0m\u001b[0mlist\u001b[0m\u001b[0;34m(\u001b[0m\u001b[0mint\u001b[0m\u001b[0;34m(\u001b[0m\u001b[0minput\u001b[0m\u001b[0;34m(\u001b[0m\u001b[0;34m)\u001b[0m\u001b[0;34m)\u001b[0m\u001b[0;34m)\u001b[0m\u001b[0;34m\u001b[0m\u001b[0;34m\u001b[0m\u001b[0m\n\u001b[0m\u001b[1;32m      2\u001b[0m \u001b[0msum\u001b[0m\u001b[0;34m=\u001b[0m\u001b[0;36m0\u001b[0m\u001b[0;34m\u001b[0m\u001b[0;34m\u001b[0m\u001b[0m\n\u001b[1;32m      3\u001b[0m \u001b[0;32mfor\u001b[0m \u001b[0mi\u001b[0m \u001b[0;32min\u001b[0m \u001b[0ml\u001b[0m\u001b[0;34m:\u001b[0m\u001b[0;34m\u001b[0m\u001b[0;34m\u001b[0m\u001b[0m\n\u001b[1;32m      4\u001b[0m   \u001b[0msum\u001b[0m\u001b[0;34m=\u001b[0m\u001b[0msum\u001b[0m\u001b[0;34m+\u001b[0m\u001b[0mi\u001b[0m\u001b[0;34m\u001b[0m\u001b[0;34m\u001b[0m\u001b[0m\n\u001b[1;32m      5\u001b[0m \u001b[0mprint\u001b[0m\u001b[0;34m(\u001b[0m\u001b[0msum\u001b[0m\u001b[0;34m)\u001b[0m\u001b[0;34m\u001b[0m\u001b[0;34m\u001b[0m\u001b[0m\n",
            "\u001b[0;31mValueError\u001b[0m: invalid literal for int() with base 10: 'l=list(map(int,input().split()))'"
          ]
        }
      ]
    },
    {
      "cell_type": "code",
      "source": [
        "#list map funtion\n",
        "l=list(map(int,input().split()))\n",
        "sum=0\n",
        "for i in l:\n",
        "  sum=sum+i\n",
        "  print(sum)\n",
        "print(sum)"
      ],
      "metadata": {
        "colab": {
          "base_uri": "https://localhost:8080/"
        },
        "id": "QV1BEHNVs9Uk",
        "outputId": "e63f31ee-aab7-4af8-ce3c-3c0ad99d641a"
      },
      "execution_count": null,
      "outputs": [
        {
          "name": "stdout",
          "output_type": "stream",
          "text": [
            "1 2 3 \n"
          ]
        }
      ]
    },
    {
      "cell_type": "code",
      "source": [
        "import pandas as pd\n",
        "import numpy as np"
      ],
      "metadata": {
        "id": "uwj8_g2Cs7zM"
      },
      "execution_count": null,
      "outputs": []
    },
    {
      "cell_type": "code",
      "source": [
        "!pip install pandas\n",
        "!pip install numpy"
      ],
      "metadata": {
        "colab": {
          "base_uri": "https://localhost:8080/"
        },
        "id": "VNVWwMkt9UJt",
        "outputId": "581441ee-ae8b-43fa-f883-008aea34d55c"
      },
      "execution_count": null,
      "outputs": [
        {
          "output_type": "stream",
          "name": "stdout",
          "text": [
            "Requirement already satisfied: pandas in /usr/local/lib/python3.7/dist-packages (1.3.5)\n",
            "Requirement already satisfied: numpy>=1.17.3 in /usr/local/lib/python3.7/dist-packages (from pandas) (1.21.5)\n",
            "Requirement already satisfied: python-dateutil>=2.7.3 in /usr/local/lib/python3.7/dist-packages (from pandas) (2.8.2)\n",
            "Requirement already satisfied: pytz>=2017.3 in /usr/local/lib/python3.7/dist-packages (from pandas) (2018.9)\n",
            "Requirement already satisfied: six>=1.5 in /usr/local/lib/python3.7/dist-packages (from python-dateutil>=2.7.3->pandas) (1.15.0)\n",
            "Requirement already satisfied: numpy in /usr/local/lib/python3.7/dist-packages (1.21.5)\n"
          ]
        }
      ]
    },
    {
      "cell_type": "code",
      "source": [
        "\n",
        "data=[1,2,3,4,5,6,np.nan]\n",
        "df=pd.Series(data)\n",
        "print(df)"
      ],
      "metadata": {
        "colab": {
          "base_uri": "https://localhost:8080/"
        },
        "id": "VANzdu1693C7",
        "outputId": "b60101cd-7e9b-4385-e7e7-f2eae0e12bb0"
      },
      "execution_count": null,
      "outputs": [
        {
          "output_type": "stream",
          "name": "stdout",
          "text": [
            "0    1.0\n",
            "1    2.0\n",
            "2    3.0\n",
            "3    4.0\n",
            "4    5.0\n",
            "5    6.0\n",
            "6    NaN\n",
            "dtype: float64\n"
          ]
        }
      ]
    },
    {
      "cell_type": "code",
      "source": [
        "df1=pd.date_range('20220310',periods=10)\n",
        "print(df1)"
      ],
      "metadata": {
        "colab": {
          "base_uri": "https://localhost:8080/"
        },
        "id": "giGPLwgJ_Z3R",
        "outputId": "92a0f3c6-293e-4620-e359-6fd35e0d5194"
      },
      "execution_count": null,
      "outputs": [
        {
          "output_type": "stream",
          "name": "stdout",
          "text": [
            "DatetimeIndex(['2022-03-10', '2022-03-11', '2022-03-12', '2022-03-13',\n",
            "               '2022-03-14', '2022-03-15', '2022-03-16', '2022-03-17',\n",
            "               '2022-03-18', '2022-03-19'],\n",
            "              dtype='datetime64[ns]', freq='D')\n"
          ]
        }
      ]
    },
    {
      "cell_type": "code",
      "source": [
        "s1=pd.Series([1,2,3,4,5,6,7])\n",
        "s2=pd.Series([1.1,2.2,3.3,4.4,5.5,6.6,7.7])\n",
        "s3=pd.Series(['a','b','c','d','e','f','g'])\n",
        "data={'first':s1,'second':s2,'third':s3}\n",
        "df=pd.DataFrame(data)\n",
        "print(df)\n",
        "#print(pd.DataFrame(s1))\n",
        "#print(pd.DataFrame(s2))\n",
        "#print(pd.DataFrame(s3))"
      ],
      "metadata": {
        "colab": {
          "base_uri": "https://localhost:8080/"
        },
        "id": "_WhHmWEs_231",
        "outputId": "20a781d2-71c5-41d2-b66a-d3e14b98e473"
      },
      "execution_count": null,
      "outputs": [
        {
          "output_type": "stream",
          "name": "stdout",
          "text": [
            "   first  second third\n",
            "0      1     1.1     a\n",
            "1      2     2.2     b\n",
            "2      3     3.3     c\n",
            "3      4     4.4     d\n",
            "4      5     5.5     e\n",
            "5      6     6.6     f\n",
            "6      7     7.7     g\n"
          ]
        }
      ]
    },
    {
      "cell_type": "code",
      "source": [
        "df.to_csv('basic.csv')"
      ],
      "metadata": {
        "id": "oH3p3lrSCLA8"
      },
      "execution_count": null,
      "outputs": []
    },
    {
      "cell_type": "code",
      "source": [
        "a=pd.read_csv('basic.csv')\n",
        "print(a)"
      ],
      "metadata": {
        "colab": {
          "base_uri": "https://localhost:8080/"
        },
        "id": "puWa48CZCjjm",
        "outputId": "905d3757-c123-4358-9959-e970203c8a48"
      },
      "execution_count": null,
      "outputs": [
        {
          "output_type": "stream",
          "name": "stdout",
          "text": [
            "   Unnamed: 0  first  second third\n",
            "0           0      1     1.1     a\n",
            "1           1      2     2.2     b\n",
            "2           2      3     3.3     c\n",
            "3           3      4     4.4     d\n",
            "4           4      5     5.5     e\n",
            "5           5      6     6.6     f\n",
            "6           6      7     7.7     g\n"
          ]
        }
      ]
    },
    {
      "cell_type": "code",
      "source": [
        "df = pd.DataFrame({'A':[1,2,3,4],\n",
        "                   'B':pd.Timestamp('20220310'),\n",
        "                   'C':pd.Series(1,index = list(range(4))),\n",
        "                   'D': np.array([5]*4, dtype = 'int32'),\n",
        "                   'E': pd.Categorical(['test','train','train','test'])})\n",
        "print(df)"
      ],
      "metadata": {
        "colab": {
          "base_uri": "https://localhost:8080/"
        },
        "id": "cgo2GcktDfaE",
        "outputId": "fa3273ad-be83-4e77-beb1-5dfdff9db73b"
      },
      "execution_count": null,
      "outputs": [
        {
          "output_type": "stream",
          "name": "stdout",
          "text": [
            "   A          B  C  D      E\n",
            "0  1 2022-03-10  1  5   test\n",
            "1  2 2022-03-10  1  5  train\n",
            "2  3 2022-03-10  1  5  train\n",
            "3  4 2022-03-10  1  5   test\n"
          ]
        }
      ]
    },
    {
      "cell_type": "code",
      "source": [
        "  import pandas as pd\n",
        "  df=pd.read_csv('m.csv')\n",
        "  print(df)"
      ],
      "metadata": {
        "colab": {
          "base_uri": "https://localhost:8080/"
        },
        "id": "JtuwrHpOLynh",
        "outputId": "06e0c4ab-e37a-440b-e999-5c89bfae3486"
      },
      "execution_count": null,
      "outputs": [
        {
          "output_type": "stream",
          "name": "stdout",
          "text": [
            "     Unnamed: 0    #                   Name   Type 1  Type 2  HP  Attack  \\\n",
            "0             0    1              Bulbasaur    Grass  Poison  45      49   \n",
            "1             1    2                Ivysaur    Grass  Poison  60      62   \n",
            "2             2    3               Venusaur    Grass  Poison  80      82   \n",
            "3             3    3  VenusaurMega Venusaur    Grass  Poison  80     100   \n",
            "4             4    4             Charmander     Fire     NaN  39      52   \n",
            "..          ...  ...                    ...      ...     ...  ..     ...   \n",
            "795         795  719                Diancie     Rock   Fairy  50     100   \n",
            "796         796  719    DiancieMega Diancie     Rock   Fairy  50     160   \n",
            "797         797  720    HoopaHoopa Confined  Psychic   Ghost  80     110   \n",
            "798         798  720     HoopaHoopa Unbound  Psychic    Dark  80     160   \n",
            "799         799  721              Volcanion     Fire   Water  80     110   \n",
            "\n",
            "     Defense  Sp. Atk  Sp. Def  Speed  Generation  Legendary   Avg_speed  \\\n",
            "0         49       65       65     45           1      False   66.444444   \n",
            "1         63       80       80     60           1      False   81.333333   \n",
            "2         83      100      100     80           1      False  101.250000   \n",
            "3        123      122      120     80           1      False  123.500000   \n",
            "4         43       60       50     65           1      False   60.769231   \n",
            "..       ...      ...      ...    ...         ...        ...         ...   \n",
            "795      150      100      150     50           6       True  103.000000   \n",
            "796      110      160      110    110           6       True  161.000000   \n",
            "797       60      150      130     70           6       True  151.857143   \n",
            "798       60      170      130     80           6       True  171.625000   \n",
            "799      120      130       90     70           6       True  131.285714   \n",
            "\n",
            "     count  \n",
            "0        1  \n",
            "1        1  \n",
            "2        1  \n",
            "3        1  \n",
            "4        1  \n",
            "..     ...  \n",
            "795      1  \n",
            "796      1  \n",
            "797      1  \n",
            "798      1  \n",
            "799      1  \n",
            "\n",
            "[800 rows x 15 columns]\n"
          ]
        }
      ]
    },
    {
      "cell_type": "code",
      "source": [
        "df.iloc[4,2]"
      ],
      "metadata": {
        "colab": {
          "base_uri": "https://localhost:8080/",
          "height": 35
        },
        "id": "t34Zm4XOMICy",
        "outputId": "9100e541-0d93-4d04-f8c0-8234d2543294"
      },
      "execution_count": null,
      "outputs": [
        {
          "output_type": "execute_result",
          "data": {
            "application/vnd.google.colaboratory.intrinsic+json": {
              "type": "string"
            },
            "text/plain": [
              "'Charmander'"
            ]
          },
          "metadata": {},
          "execution_count": 7
        }
      ]
    },
    {
      "cell_type": "code",
      "source": [
        "df['total']=df['HP']+df['Attack']\n",
        "print(df['total'])\n"
      ],
      "metadata": {
        "colab": {
          "base_uri": "https://localhost:8080/"
        },
        "id": "Lsra1yjXOmbE",
        "outputId": "50de009d-6fd8-4e34-85b2-5f640a9c5486"
      },
      "execution_count": null,
      "outputs": [
        {
          "output_type": "stream",
          "name": "stdout",
          "text": [
            "0       94\n",
            "1      122\n",
            "2      162\n",
            "3      180\n",
            "4       91\n",
            "      ... \n",
            "795    150\n",
            "796    210\n",
            "797    190\n",
            "798    240\n",
            "799    190\n",
            "Name: total, Length: 800, dtype: int64\n",
            "     Unnamed: 0    #                   Name   Type 1  Type 2  HP  Attack  \\\n",
            "0             0    1              Bulbasaur    Grass  Poison  45      49   \n",
            "1             1    2                Ivysaur    Grass  Poison  60      62   \n",
            "2             2    3               Venusaur    Grass  Poison  80      82   \n",
            "3             3    3  VenusaurMega Venusaur    Grass  Poison  80     100   \n",
            "4             4    4             Charmander     Fire     NaN  39      52   \n",
            "..          ...  ...                    ...      ...     ...  ..     ...   \n",
            "795         795  719                Diancie     Rock   Fairy  50     100   \n",
            "796         796  719    DiancieMega Diancie     Rock   Fairy  50     160   \n",
            "797         797  720    HoopaHoopa Confined  Psychic   Ghost  80     110   \n",
            "798         798  720     HoopaHoopa Unbound  Psychic    Dark  80     160   \n",
            "799         799  721              Volcanion     Fire   Water  80     110   \n",
            "\n",
            "     Defense  Sp. Atk  Sp. Def  Speed  Generation  Legendary   Avg_speed  \\\n",
            "0         49       65       65     45           1      False   66.444444   \n",
            "1         63       80       80     60           1      False   81.333333   \n",
            "2         83      100      100     80           1      False  101.250000   \n",
            "3        123      122      120     80           1      False  123.500000   \n",
            "4         43       60       50     65           1      False   60.769231   \n",
            "..       ...      ...      ...    ...         ...        ...         ...   \n",
            "795      150      100      150     50           6       True  103.000000   \n",
            "796      110      160      110    110           6       True  161.000000   \n",
            "797       60      150      130     70           6       True  151.857143   \n",
            "798       60      170      130     80           6       True  171.625000   \n",
            "799      120      130       90     70           6       True  131.285714   \n",
            "\n",
            "     count  total  \n",
            "0        1     94  \n",
            "1        1    122  \n",
            "2        1    162  \n",
            "3        1    180  \n",
            "4        1     91  \n",
            "..     ...    ...  \n",
            "795      1    150  \n",
            "796      1    210  \n",
            "797      1    190  \n",
            "798      1    240  \n",
            "799      1    190  \n",
            "\n",
            "[800 rows x 16 columns]\n"
          ]
        }
      ]
    },
    {
      "cell_type": "code",
      "source": [
        "df.drop(columns=['total'])\n",
        "print(df)"
      ],
      "metadata": {
        "colab": {
          "base_uri": "https://localhost:8080/"
        },
        "id": "VjdEVB48PF6Z",
        "outputId": "07f020d4-9358-44c4-bf1e-ba511fc2e0c4"
      },
      "execution_count": null,
      "outputs": [
        {
          "output_type": "stream",
          "name": "stdout",
          "text": [
            "     Unnamed: 0    #                   Name   Type 1  Type 2  HP  Attack  \\\n",
            "0             0    1              Bulbasaur    Grass  Poison  45      49   \n",
            "1             1    2                Ivysaur    Grass  Poison  60      62   \n",
            "2             2    3               Venusaur    Grass  Poison  80      82   \n",
            "3             3    3  VenusaurMega Venusaur    Grass  Poison  80     100   \n",
            "4             4    4             Charmander     Fire     NaN  39      52   \n",
            "..          ...  ...                    ...      ...     ...  ..     ...   \n",
            "795         795  719                Diancie     Rock   Fairy  50     100   \n",
            "796         796  719    DiancieMega Diancie     Rock   Fairy  50     160   \n",
            "797         797  720    HoopaHoopa Confined  Psychic   Ghost  80     110   \n",
            "798         798  720     HoopaHoopa Unbound  Psychic    Dark  80     160   \n",
            "799         799  721              Volcanion     Fire   Water  80     110   \n",
            "\n",
            "     Defense  Sp. Atk  Sp. Def  Speed  Generation  Legendary   Avg_speed  \\\n",
            "0         49       65       65     45           1      False   66.444444   \n",
            "1         63       80       80     60           1      False   81.333333   \n",
            "2         83      100      100     80           1      False  101.250000   \n",
            "3        123      122      120     80           1      False  123.500000   \n",
            "4         43       60       50     65           1      False   60.769231   \n",
            "..       ...      ...      ...    ...         ...        ...         ...   \n",
            "795      150      100      150     50           6       True  103.000000   \n",
            "796      110      160      110    110           6       True  161.000000   \n",
            "797       60      150      130     70           6       True  151.857143   \n",
            "798       60      170      130     80           6       True  171.625000   \n",
            "799      120      130       90     70           6       True  131.285714   \n",
            "\n",
            "     count  total  \n",
            "0        1     94  \n",
            "1        1    122  \n",
            "2        1    162  \n",
            "3        1    180  \n",
            "4        1     91  \n",
            "..     ...    ...  \n",
            "795      1    150  \n",
            "796      1    210  \n",
            "797      1    190  \n",
            "798      1    240  \n",
            "799      1    190  \n",
            "\n",
            "[800 rows x 16 columns]\n"
          ]
        }
      ]
    },
    {
      "cell_type": "code",
      "source": [
        "data=df.sort_values('Name',ascending=True)\n",
        "print(data)"
      ],
      "metadata": {
        "colab": {
          "base_uri": "https://localhost:8080/"
        },
        "id": "rVVtZA4oPPKr",
        "outputId": "75f0af5a-195e-48a2-c58a-4477ad42b26f"
      },
      "execution_count": null,
      "outputs": [
        {
          "output_type": "stream",
          "name": "stdout",
          "text": [
            "     Unnamed: 0    #                     Name   Type 1  Type 2   HP  Attack  \\\n",
            "510         510  460                Abomasnow    Grass     Ice   90      92   \n",
            "511         511  460  AbomasnowMega Abomasnow    Grass     Ice   90     132   \n",
            "68           68   63                     Abra  Psychic     NaN   25      20   \n",
            "392         392  359                    Absol     Dark     NaN   65     130   \n",
            "393         393  359          AbsolMega Absol     Dark     NaN   65     150   \n",
            "..          ...  ...                      ...      ...     ...  ...     ...   \n",
            "632         632  571                  Zoroark     Dark     NaN   60     105   \n",
            "631         631  570                    Zorua     Dark     NaN   40      65   \n",
            "46           46   41                    Zubat   Poison  Flying   40      45   \n",
            "695         695  634                 Zweilous     Dark  Dragon   72      85   \n",
            "794         794  718         Zygarde50% Forme   Dragon  Ground  108     100   \n",
            "\n",
            "     Defense  Sp. Atk  Sp. Def  Speed  Generation  Legendary   Avg_speed  \\\n",
            "510       75       92       85     60           4      False   93.416667   \n",
            "511      105      132      105     30           4      False  135.500000   \n",
            "68        15      105       55     90           1      False  105.611111   \n",
            "392       60       75       60     75           3      False   75.800000   \n",
            "393       60      115       60    115           3      False  115.521739   \n",
            "..       ...      ...      ...    ...         ...        ...         ...   \n",
            "632       60      120       60    105           5      False  120.571429   \n",
            "631       40       80       40     65           5      False   80.615385   \n",
            "46        35       30       40     55           1      False   30.727273   \n",
            "695       70       65       70     58           5      False   66.206897   \n",
            "794      121       81       95     95           6       True   82.000000   \n",
            "\n",
            "     count  total  \n",
            "510      1    182  \n",
            "511      1    222  \n",
            "68       1     45  \n",
            "392      1    195  \n",
            "393      1    215  \n",
            "..     ...    ...  \n",
            "632      1    165  \n",
            "631      1    105  \n",
            "46       1     85  \n",
            "695      1    157  \n",
            "794      1    208  \n",
            "\n",
            "[800 rows x 16 columns]\n"
          ]
        }
      ]
    },
    {
      "cell_type": "code",
      "source": [
        "data.to_excel('filter.xlsx')\n",
        "df1=pd.read_excel('filter.xlsx')\n",
        "print(df)"
      ],
      "metadata": {
        "colab": {
          "base_uri": "https://localhost:8080/"
        },
        "id": "vudyXeX1PeTi",
        "outputId": "3df72b9c-71f9-4750-aa33-7430b62b9841"
      },
      "execution_count": null,
      "outputs": [
        {
          "output_type": "stream",
          "name": "stdout",
          "text": [
            "     Unnamed: 0    #                   Name   Type 1  Type 2  HP  Attack  \\\n",
            "0             0    1              Bulbasaur    Grass  Poison  45      49   \n",
            "1             1    2                Ivysaur    Grass  Poison  60      62   \n",
            "2             2    3               Venusaur    Grass  Poison  80      82   \n",
            "3             3    3  VenusaurMega Venusaur    Grass  Poison  80     100   \n",
            "4             4    4             Charmander     Fire     NaN  39      52   \n",
            "..          ...  ...                    ...      ...     ...  ..     ...   \n",
            "795         795  719                Diancie     Rock   Fairy  50     100   \n",
            "796         796  719    DiancieMega Diancie     Rock   Fairy  50     160   \n",
            "797         797  720    HoopaHoopa Confined  Psychic   Ghost  80     110   \n",
            "798         798  720     HoopaHoopa Unbound  Psychic    Dark  80     160   \n",
            "799         799  721              Volcanion     Fire   Water  80     110   \n",
            "\n",
            "     Defense  Sp. Atk  Sp. Def  Speed  Generation  Legendary   Avg_speed  \\\n",
            "0         49       65       65     45           1      False   66.444444   \n",
            "1         63       80       80     60           1      False   81.333333   \n",
            "2         83      100      100     80           1      False  101.250000   \n",
            "3        123      122      120     80           1      False  123.500000   \n",
            "4         43       60       50     65           1      False   60.769231   \n",
            "..       ...      ...      ...    ...         ...        ...         ...   \n",
            "795      150      100      150     50           6       True  103.000000   \n",
            "796      110      160      110    110           6       True  161.000000   \n",
            "797       60      150      130     70           6       True  151.857143   \n",
            "798       60      170      130     80           6       True  171.625000   \n",
            "799      120      130       90     70           6       True  131.285714   \n",
            "\n",
            "     count  total  \n",
            "0        1     94  \n",
            "1        1    122  \n",
            "2        1    162  \n",
            "3        1    180  \n",
            "4        1     91  \n",
            "..     ...    ...  \n",
            "795      1    150  \n",
            "796      1    210  \n",
            "797      1    190  \n",
            "798      1    240  \n",
            "799      1    190  \n",
            "\n",
            "[800 rows x 16 columns]\n"
          ]
        }
      ]
    },
    {
      "cell_type": "code",
      "source": [
        ""
      ],
      "metadata": {
        "id": "jeqd1vZmQBIg"
      },
      "execution_count": null,
      "outputs": []
    },
    {
      "cell_type": "code",
      "source": [
        "new_df=df.loc[(df['Type 1']=='Grass') & (df['Type 2']=='Ice') & (df['HP']>70)]\n",
        "print(new_df)"
      ],
      "metadata": {
        "colab": {
          "base_uri": "https://localhost:8080/"
        },
        "id": "1t15OfoOQJfy",
        "outputId": "03154acf-0f67-450d-fe21-53040f421f92"
      },
      "execution_count": null,
      "outputs": [
        {
          "output_type": "stream",
          "name": "stdout",
          "text": [
            "     Unnamed: 0    #                     Name Type 1 Type 2  HP  Attack  \\\n",
            "510         510  460                Abomasnow  Grass    Ice  90      92   \n",
            "511         511  460  AbomasnowMega Abomasnow  Grass    Ice  90     132   \n",
            "\n",
            "     Defense  Sp. Atk  Sp. Def  Speed  Generation  Legendary   Avg_speed  \\\n",
            "510       75       92       85     60           4      False   93.416667   \n",
            "511      105      132      105     30           4      False  135.500000   \n",
            "\n",
            "     count  total  \n",
            "510      1    182  \n",
            "511      1    222  \n"
          ]
        }
      ]
    },
    {
      "cell_type": "code",
      "source": [
        "df.groupby(df['Type 1','Type 2']).count()"
      ],
      "metadata": {
        "colab": {
          "base_uri": "https://localhost:8080/",
          "height": 561
        },
        "id": "1uHN1We3Rmpv",
        "outputId": "b8b98ce5-2ad0-45b5-faf3-ec666f25411d"
      },
      "execution_count": null,
      "outputs": [
        {
          "output_type": "error",
          "ename": "KeyError",
          "evalue": "ignored",
          "traceback": [
            "\u001b[0;31m---------------------------------------------------------------------------\u001b[0m",
            "\u001b[0;31mKeyError\u001b[0m                                  Traceback (most recent call last)",
            "\u001b[0;32m/usr/local/lib/python3.7/dist-packages/pandas/core/indexes/base.py\u001b[0m in \u001b[0;36mget_loc\u001b[0;34m(self, key, method, tolerance)\u001b[0m\n\u001b[1;32m   3360\u001b[0m             \u001b[0;32mtry\u001b[0m\u001b[0;34m:\u001b[0m\u001b[0;34m\u001b[0m\u001b[0;34m\u001b[0m\u001b[0m\n\u001b[0;32m-> 3361\u001b[0;31m                 \u001b[0;32mreturn\u001b[0m \u001b[0mself\u001b[0m\u001b[0;34m.\u001b[0m\u001b[0m_engine\u001b[0m\u001b[0;34m.\u001b[0m\u001b[0mget_loc\u001b[0m\u001b[0;34m(\u001b[0m\u001b[0mcasted_key\u001b[0m\u001b[0;34m)\u001b[0m\u001b[0;34m\u001b[0m\u001b[0;34m\u001b[0m\u001b[0m\n\u001b[0m\u001b[1;32m   3362\u001b[0m             \u001b[0;32mexcept\u001b[0m \u001b[0mKeyError\u001b[0m \u001b[0;32mas\u001b[0m \u001b[0merr\u001b[0m\u001b[0;34m:\u001b[0m\u001b[0;34m\u001b[0m\u001b[0;34m\u001b[0m\u001b[0m\n",
            "\u001b[0;32m/usr/local/lib/python3.7/dist-packages/pandas/_libs/index.pyx\u001b[0m in \u001b[0;36mpandas._libs.index.IndexEngine.get_loc\u001b[0;34m()\u001b[0m\n",
            "\u001b[0;32m/usr/local/lib/python3.7/dist-packages/pandas/_libs/index.pyx\u001b[0m in \u001b[0;36mpandas._libs.index.IndexEngine.get_loc\u001b[0;34m()\u001b[0m\n",
            "\u001b[0;32mpandas/_libs/hashtable_class_helper.pxi\u001b[0m in \u001b[0;36mpandas._libs.hashtable.PyObjectHashTable.get_item\u001b[0;34m()\u001b[0m\n",
            "\u001b[0;32mpandas/_libs/hashtable_class_helper.pxi\u001b[0m in \u001b[0;36mpandas._libs.hashtable.PyObjectHashTable.get_item\u001b[0;34m()\u001b[0m\n",
            "\u001b[0;31mKeyError\u001b[0m: ('Type 1', 'Type 2')",
            "\nThe above exception was the direct cause of the following exception:\n",
            "\u001b[0;31mKeyError\u001b[0m                                  Traceback (most recent call last)",
            "\u001b[0;32m<ipython-input-27-1d9171f89872>\u001b[0m in \u001b[0;36m<module>\u001b[0;34m()\u001b[0m\n\u001b[0;32m----> 1\u001b[0;31m \u001b[0mdf\u001b[0m\u001b[0;34m.\u001b[0m\u001b[0mgroupby\u001b[0m\u001b[0;34m(\u001b[0m\u001b[0mdf\u001b[0m\u001b[0;34m[\u001b[0m\u001b[0;34m'Type 1'\u001b[0m\u001b[0;34m,\u001b[0m\u001b[0;34m'Type 2'\u001b[0m\u001b[0;34m]\u001b[0m\u001b[0;34m)\u001b[0m\u001b[0;34m.\u001b[0m\u001b[0mcount\u001b[0m\u001b[0;34m(\u001b[0m\u001b[0;34m)\u001b[0m\u001b[0;34m\u001b[0m\u001b[0;34m\u001b[0m\u001b[0m\n\u001b[0m",
            "\u001b[0;32m/usr/local/lib/python3.7/dist-packages/pandas/core/frame.py\u001b[0m in \u001b[0;36m__getitem__\u001b[0;34m(self, key)\u001b[0m\n\u001b[1;32m   3456\u001b[0m             \u001b[0;32mif\u001b[0m \u001b[0mself\u001b[0m\u001b[0;34m.\u001b[0m\u001b[0mcolumns\u001b[0m\u001b[0;34m.\u001b[0m\u001b[0mnlevels\u001b[0m \u001b[0;34m>\u001b[0m \u001b[0;36m1\u001b[0m\u001b[0;34m:\u001b[0m\u001b[0;34m\u001b[0m\u001b[0;34m\u001b[0m\u001b[0m\n\u001b[1;32m   3457\u001b[0m                 \u001b[0;32mreturn\u001b[0m \u001b[0mself\u001b[0m\u001b[0;34m.\u001b[0m\u001b[0m_getitem_multilevel\u001b[0m\u001b[0;34m(\u001b[0m\u001b[0mkey\u001b[0m\u001b[0;34m)\u001b[0m\u001b[0;34m\u001b[0m\u001b[0;34m\u001b[0m\u001b[0m\n\u001b[0;32m-> 3458\u001b[0;31m             \u001b[0mindexer\u001b[0m \u001b[0;34m=\u001b[0m \u001b[0mself\u001b[0m\u001b[0;34m.\u001b[0m\u001b[0mcolumns\u001b[0m\u001b[0;34m.\u001b[0m\u001b[0mget_loc\u001b[0m\u001b[0;34m(\u001b[0m\u001b[0mkey\u001b[0m\u001b[0;34m)\u001b[0m\u001b[0;34m\u001b[0m\u001b[0;34m\u001b[0m\u001b[0m\n\u001b[0m\u001b[1;32m   3459\u001b[0m             \u001b[0;32mif\u001b[0m \u001b[0mis_integer\u001b[0m\u001b[0;34m(\u001b[0m\u001b[0mindexer\u001b[0m\u001b[0;34m)\u001b[0m\u001b[0;34m:\u001b[0m\u001b[0;34m\u001b[0m\u001b[0;34m\u001b[0m\u001b[0m\n\u001b[1;32m   3460\u001b[0m                 \u001b[0mindexer\u001b[0m \u001b[0;34m=\u001b[0m \u001b[0;34m[\u001b[0m\u001b[0mindexer\u001b[0m\u001b[0;34m]\u001b[0m\u001b[0;34m\u001b[0m\u001b[0;34m\u001b[0m\u001b[0m\n",
            "\u001b[0;32m/usr/local/lib/python3.7/dist-packages/pandas/core/indexes/base.py\u001b[0m in \u001b[0;36mget_loc\u001b[0;34m(self, key, method, tolerance)\u001b[0m\n\u001b[1;32m   3361\u001b[0m                 \u001b[0;32mreturn\u001b[0m \u001b[0mself\u001b[0m\u001b[0;34m.\u001b[0m\u001b[0m_engine\u001b[0m\u001b[0;34m.\u001b[0m\u001b[0mget_loc\u001b[0m\u001b[0;34m(\u001b[0m\u001b[0mcasted_key\u001b[0m\u001b[0;34m)\u001b[0m\u001b[0;34m\u001b[0m\u001b[0;34m\u001b[0m\u001b[0m\n\u001b[1;32m   3362\u001b[0m             \u001b[0;32mexcept\u001b[0m \u001b[0mKeyError\u001b[0m \u001b[0;32mas\u001b[0m \u001b[0merr\u001b[0m\u001b[0;34m:\u001b[0m\u001b[0;34m\u001b[0m\u001b[0;34m\u001b[0m\u001b[0m\n\u001b[0;32m-> 3363\u001b[0;31m                 \u001b[0;32mraise\u001b[0m \u001b[0mKeyError\u001b[0m\u001b[0;34m(\u001b[0m\u001b[0mkey\u001b[0m\u001b[0;34m)\u001b[0m \u001b[0;32mfrom\u001b[0m \u001b[0merr\u001b[0m\u001b[0;34m\u001b[0m\u001b[0;34m\u001b[0m\u001b[0m\n\u001b[0m\u001b[1;32m   3364\u001b[0m \u001b[0;34m\u001b[0m\u001b[0m\n\u001b[1;32m   3365\u001b[0m         \u001b[0;32mif\u001b[0m \u001b[0mis_scalar\u001b[0m\u001b[0;34m(\u001b[0m\u001b[0mkey\u001b[0m\u001b[0;34m)\u001b[0m \u001b[0;32mand\u001b[0m \u001b[0misna\u001b[0m\u001b[0;34m(\u001b[0m\u001b[0mkey\u001b[0m\u001b[0;34m)\u001b[0m \u001b[0;32mand\u001b[0m \u001b[0;32mnot\u001b[0m \u001b[0mself\u001b[0m\u001b[0;34m.\u001b[0m\u001b[0mhasnans\u001b[0m\u001b[0;34m:\u001b[0m\u001b[0;34m\u001b[0m\u001b[0;34m\u001b[0m\u001b[0m\n",
            "\u001b[0;31mKeyError\u001b[0m: ('Type 1', 'Type 2')"
          ]
        }
      ]
    },
    {
      "cell_type": "code",
      "source": [
        "#to Do\n",
        "#problem"
      ],
      "metadata": {
        "id": "yM3R_039SeBv"
      },
      "execution_count": null,
      "outputs": []
    },
    {
      "cell_type": "code",
      "source": [
        "import numpy as np\n",
        "a=np.empty((2,2))\n",
        "a"
      ],
      "metadata": {
        "colab": {
          "base_uri": "https://localhost:8080/"
        },
        "id": "_bL8SWAOjto7",
        "outputId": "b5bf8f28-79d7-48ed-8eed-b811f86f9043"
      },
      "execution_count": null,
      "outputs": [
        {
          "output_type": "execute_result",
          "data": {
            "text/plain": [
              "array([[5.e-324, 5.e-324],\n",
              "       [5.e-324, 0.e+000]])"
            ]
          },
          "metadata": {},
          "execution_count": 4
        }
      ]
    },
    {
      "cell_type": "code",
      "source": [
        "b=np.zeros((2,2))\n",
        "b"
      ],
      "metadata": {
        "colab": {
          "base_uri": "https://localhost:8080/"
        },
        "id": "JWjVqwpGkTFL",
        "outputId": "f487b245-fa74-4036-c3f4-9d1861a7f09a"
      },
      "execution_count": null,
      "outputs": [
        {
          "output_type": "execute_result",
          "data": {
            "text/plain": [
              "array([[0., 0.],\n",
              "       [0., 0.]])"
            ]
          },
          "metadata": {},
          "execution_count": 5
        }
      ]
    },
    {
      "cell_type": "code",
      "source": [
        "c=np.arange(1,10)\n",
        "print(c)\n",
        "type(c)"
      ],
      "metadata": {
        "colab": {
          "base_uri": "https://localhost:8080/"
        },
        "id": "vfr1S5rukpLQ",
        "outputId": "bc40875d-d12a-4ea7-8b61-08564d98ebeb"
      },
      "execution_count": null,
      "outputs": [
        {
          "output_type": "stream",
          "name": "stdout",
          "text": [
            "[1 2 3 4 5 6 7 8 9]\n"
          ]
        },
        {
          "output_type": "execute_result",
          "data": {
            "text/plain": [
              "numpy.ndarray"
            ]
          },
          "metadata": {},
          "execution_count": 11
        }
      ]
    },
    {
      "cell_type": "code",
      "source": [
        "np.linspace(1,5)"
      ],
      "metadata": {
        "colab": {
          "base_uri": "https://localhost:8080/"
        },
        "id": "hAK7lFE5k3iB",
        "outputId": "9bd623c0-2ff9-4555-ad7b-25af3c38e07c"
      },
      "execution_count": null,
      "outputs": [
        {
          "output_type": "execute_result",
          "data": {
            "text/plain": [
              "array([1.        , 1.08163265, 1.16326531, 1.24489796, 1.32653061,\n",
              "       1.40816327, 1.48979592, 1.57142857, 1.65306122, 1.73469388,\n",
              "       1.81632653, 1.89795918, 1.97959184, 2.06122449, 2.14285714,\n",
              "       2.2244898 , 2.30612245, 2.3877551 , 2.46938776, 2.55102041,\n",
              "       2.63265306, 2.71428571, 2.79591837, 2.87755102, 2.95918367,\n",
              "       3.04081633, 3.12244898, 3.20408163, 3.28571429, 3.36734694,\n",
              "       3.44897959, 3.53061224, 3.6122449 , 3.69387755, 3.7755102 ,\n",
              "       3.85714286, 3.93877551, 4.02040816, 4.10204082, 4.18367347,\n",
              "       4.26530612, 4.34693878, 4.42857143, 4.51020408, 4.59183673,\n",
              "       4.67346939, 4.75510204, 4.83673469, 4.91836735, 5.        ])"
            ]
          },
          "metadata": {},
          "execution_count": 15
        }
      ]
    },
    {
      "cell_type": "code",
      "source": [
        "np.logspace(1,10)"
      ],
      "metadata": {
        "colab": {
          "base_uri": "https://localhost:8080/"
        },
        "id": "PUmyRGD2mPwG",
        "outputId": "f19a7a71-d59c-4fb0-c071-f6ff0f2e1bca"
      },
      "execution_count": null,
      "outputs": [
        {
          "output_type": "execute_result",
          "data": {
            "text/plain": [
              "array([1.00000000e+01, 1.52641797e+01, 2.32995181e+01, 3.55648031e+01,\n",
              "       5.42867544e+01, 8.28642773e+01, 1.26485522e+02, 1.93069773e+02,\n",
              "       2.94705170e+02, 4.49843267e+02, 6.86648845e+02, 1.04811313e+03,\n",
              "       1.59985872e+03, 2.44205309e+03, 3.72759372e+03, 5.68986603e+03,\n",
              "       8.68511374e+03, 1.32571137e+04, 2.02358965e+04, 3.08884360e+04,\n",
              "       4.71486636e+04, 7.19685673e+04, 1.09854114e+05, 1.67683294e+05,\n",
              "       2.55954792e+05, 3.90693994e+05, 5.96362332e+05, 9.10298178e+05,\n",
              "       1.38949549e+06, 2.12095089e+06, 3.23745754e+06, 4.94171336e+06,\n",
              "       7.54312006e+06, 1.15139540e+07, 1.75751062e+07, 2.68269580e+07,\n",
              "       4.09491506e+07, 6.25055193e+07, 9.54095476e+07, 1.45634848e+08,\n",
              "       2.22299648e+08, 3.39322177e+08, 5.17947468e+08, 7.90604321e+08,\n",
              "       1.20679264e+09, 1.84206997e+09, 2.81176870e+09, 4.29193426e+09,\n",
              "       6.55128557e+09, 1.00000000e+10])"
            ]
          },
          "metadata": {},
          "execution_count": 16
        }
      ]
    },
    {
      "cell_type": "code",
      "source": [
        "np.random.rand(2,2,2)"
      ],
      "metadata": {
        "colab": {
          "base_uri": "https://localhost:8080/"
        },
        "id": "dVWzvukhmm_K",
        "outputId": "82a00239-56ca-4753-bc9c-2f8d3f20d229"
      },
      "execution_count": null,
      "outputs": [
        {
          "output_type": "execute_result",
          "data": {
            "text/plain": [
              "array([[[0.08974396, 0.55611721],\n",
              "        [0.91725773, 0.735641  ]],\n",
              "\n",
              "       [[0.15535502, 0.91515924],\n",
              "        [0.03902473, 0.35013453]]])"
            ]
          },
          "metadata": {},
          "execution_count": 19
        }
      ]
    },
    {
      "cell_type": "code",
      "source": [
        "d=np.random.randint(0,10,size=(5,5))\n",
        "d"
      ],
      "metadata": {
        "colab": {
          "base_uri": "https://localhost:8080/"
        },
        "id": "XtzVp7rDmuCe",
        "outputId": "768d46db-6e0e-46b7-91e3-47699a24d3d1"
      },
      "execution_count": null,
      "outputs": [
        {
          "output_type": "execute_result",
          "data": {
            "text/plain": [
              "array([[3, 4, 8, 3, 3],\n",
              "       [8, 2, 8, 8, 0],\n",
              "       [8, 4, 9, 6, 8],\n",
              "       [3, 0, 2, 7, 8],\n",
              "       [9, 5, 3, 0, 9]])"
            ]
          },
          "metadata": {},
          "execution_count": 27
        }
      ]
    },
    {
      "cell_type": "markdown",
      "source": [
        "**ACCESS**"
      ],
      "metadata": {
        "id": "JRuw12WUnjP3"
      }
    },
    {
      "cell_type": "code",
      "source": [
        "d[4:4] #columns:rows"
      ],
      "metadata": {
        "colab": {
          "base_uri": "https://localhost:8080/"
        },
        "id": "kVmDrlu_nlLp",
        "outputId": "c51143b1-b3ea-4cce-e102-1213a4146693"
      },
      "execution_count": null,
      "outputs": [
        {
          "output_type": "execute_result",
          "data": {
            "text/plain": [
              "array([], shape=(0, 5), dtype=int64)"
            ]
          },
          "metadata": {},
          "execution_count": 34
        }
      ]
    },
    {
      "cell_type": "code",
      "source": [
        "\"\"\"\n",
        " to do task \n",
        "[6, 8]\n",
        "[7, 8]\n",
        "\"\"\"\n",
        "d[2:4,3:5]"
      ],
      "metadata": {
        "colab": {
          "base_uri": "https://localhost:8080/"
        },
        "id": "e-v242qMoPMR",
        "outputId": "45a02ba7-95f7-4799-8e48-c5ec95c5b42c"
      },
      "execution_count": null,
      "outputs": [
        {
          "output_type": "execute_result",
          "data": {
            "text/plain": [
              "array([[6, 8],\n",
              "       [7, 8]])"
            ]
          },
          "metadata": {},
          "execution_count": 38
        }
      ]
    },
    {
      "cell_type": "code",
      "source": [
        "a"
      ],
      "metadata": {
        "colab": {
          "base_uri": "https://localhost:8080/"
        },
        "id": "__SFjwQ7oqEc",
        "outputId": "d4cb7e45-40d5-4381-e886-384a618379d8"
      },
      "execution_count": null,
      "outputs": [
        {
          "output_type": "execute_result",
          "data": {
            "text/plain": [
              "array([[5.e-324, 5.e-324],\n",
              "       [5.e-324, 0.e+000]])"
            ]
          },
          "metadata": {},
          "execution_count": 6
        }
      ]
    },
    {
      "cell_type": "code",
      "source": [
        "b\n"
      ],
      "metadata": {
        "colab": {
          "base_uri": "https://localhost:8080/"
        },
        "id": "wMxw9hkopAfq",
        "outputId": "d58436ef-0e3b-4a59-938c-3c3046216780"
      },
      "execution_count": null,
      "outputs": [
        {
          "output_type": "execute_result",
          "data": {
            "text/plain": [
              "array([[0., 0.],\n",
              "       [0., 0.]])"
            ]
          },
          "metadata": {},
          "execution_count": 7
        }
      ]
    },
    {
      "cell_type": "code",
      "source": [
        "np.vstack((a,b))"
      ],
      "metadata": {
        "colab": {
          "base_uri": "https://localhost:8080/"
        },
        "id": "0ZNOdFaGpBkZ",
        "outputId": "efd7dfc7-229d-4373-9daa-24c74e78270c"
      },
      "execution_count": null,
      "outputs": [
        {
          "output_type": "execute_result",
          "data": {
            "text/plain": [
              "array([[5.e-324, 5.e-324],\n",
              "       [5.e-324, 0.e+000],\n",
              "       [0.e+000, 0.e+000],\n",
              "       [0.e+000, 0.e+000]])"
            ]
          },
          "metadata": {},
          "execution_count": 8
        }
      ]
    },
    {
      "cell_type": "code",
      "source": [
        "d"
      ],
      "metadata": {
        "colab": {
          "base_uri": "https://localhost:8080/"
        },
        "id": "JfKKz9GBp13D",
        "outputId": "ce5988a5-c204-4fd4-d556-5a2ea0c50d06"
      },
      "execution_count": null,
      "outputs": [
        {
          "output_type": "execute_result",
          "data": {
            "text/plain": [
              "array([[3, 4, 8, 3, 3],\n",
              "       [8, 2, 8, 8, 0],\n",
              "       [8, 4, 9, 6, 8],\n",
              "       [3, 0, 2, 7, 8],\n",
              "       [9, 5, 3, 0, 9]])"
            ]
          },
          "metadata": {},
          "execution_count": 46
        }
      ]
    },
    {
      "cell_type": "code",
      "source": [
        "d1,d2=np.vsplit(d,[1])"
      ],
      "metadata": {
        "id": "npZBWFrOq0vO"
      },
      "execution_count": null,
      "outputs": []
    },
    {
      "cell_type": "code",
      "source": [
        "d1"
      ],
      "metadata": {
        "colab": {
          "base_uri": "https://localhost:8080/"
        },
        "id": "-PR15SQmrFBs",
        "outputId": "7016f6e3-8160-4157-e20b-702a36de9f45"
      },
      "execution_count": null,
      "outputs": [
        {
          "output_type": "execute_result",
          "data": {
            "text/plain": [
              "array([[3, 4, 8, 3, 3]])"
            ]
          },
          "metadata": {},
          "execution_count": 54
        }
      ]
    },
    {
      "cell_type": "code",
      "source": [
        "d2"
      ],
      "metadata": {
        "colab": {
          "base_uri": "https://localhost:8080/"
        },
        "id": "9jcFAs8qrGC1",
        "outputId": "aa2bbb11-c0f7-4d87-a4ca-5886b55d0697"
      },
      "execution_count": null,
      "outputs": [
        {
          "output_type": "execute_result",
          "data": {
            "text/plain": [
              "array([[8, 2, 8, 8, 0],\n",
              "       [8, 4, 9, 6, 8],\n",
              "       [3, 0, 2, 7, 8],\n",
              "       [9, 5, 3, 0, 9]])"
            ]
          },
          "metadata": {},
          "execution_count": 55
        }
      ]
    },
    {
      "cell_type": "code",
      "source": [
        "#1/3/22"
      ],
      "metadata": {
        "id": "W2ucTXGssxV3"
      },
      "execution_count": null,
      "outputs": []
    },
    {
      "cell_type": "code",
      "source": [
        "import matplotlib.pyplot as plt"
      ],
      "metadata": {
        "id": "9yhGO5lHs1mE"
      },
      "execution_count": null,
      "outputs": []
    },
    {
      "cell_type": "code",
      "source": [
        "years = [1950,1955,1960,1965,1970,1975,1980,1985,1990,1995,2000,2005,2010,2015]\n",
        "pops = [1.2,3.4,2.3,3.2,3.5,2.1,2.1,2.4,1.0,1.3,1.5,1.7,2.3,1.9]\n",
        "plt.plot(years,pops, color = 'red')\n",
        "plt.ylabel(\"population in billions\")\n",
        "plt.xlabel('Population Growth by year')\n",
        "plt.title('Population Growth')\n",
        "plt.savefig('a.png')\n"
      ],
      "metadata": {
        "colab": {
          "base_uri": "https://localhost:8080/",
          "height": 295
        },
        "id": "QLW1KhsBtzXB",
        "outputId": "dc01e603-e260-4c71-92cd-d33c1e43ac5b"
      },
      "execution_count": null,
      "outputs": [
        {
          "output_type": "display_data",
          "data": {
            "text/plain": [
              "<Figure size 432x288 with 1 Axes>"
            ],
            "image/png": "[encoded data removed]"
          },
          "metadata": {
            "needs_background": "light"
          }
        }
      ]
    },
    {
      "cell_type": "code",
      "source": [
        "x = [1,6,3]\n",
        "y = [5,9,4]\n",
        "\n",
        "x2 = [1,2,3]\n",
        "y2 = [10,14,12]\n",
        "\n",
        "plt.plot(x,y,label = 'First line')\n",
        "plt.plot(x2,y2, label = 'Second Line')\n",
        "plt.xlabel('PLot Number')\n",
        "plt.ylabel('Important var')\n",
        "plt.title('Interesting Graph!')\n",
        "plt.legend()"
      ],
      "metadata": {
        "colab": {
          "base_uri": "https://localhost:8080/",
          "height": 314
        },
        "id": "VAVHba9fzS25",
        "outputId": "cc028307-c184-41f5-8e45-27033babf374"
      },
      "execution_count": null,
      "outputs": [
        {
          "output_type": "execute_result",
          "data": {
            "text/plain": [
              "<matplotlib.legend.Legend at 0x7fc626827290>"
            ]
          },
          "metadata": {},
          "execution_count": 16
        },
        {
          "output_type": "display_data",
          "data": {
            "text/plain": [
              "<Figure size 432x288 with 1 Axes>"
            ],
            "image/png": "[encoded data removed]"
          },
          "metadata": {
            "needs_background": "light"
          }
        }
      ]
    },
    {
      "cell_type": "code",
      "source": [
        "import numpy as np\n",
        "import matplotlib.pyplot as plt\n",
        "korea_scores = (554,536,538)\n",
        "canada_scores = (518,523,525)\n",
        "china_scores = (413,570,580)\n",
        "france_scores = (495,505,499)\n",
        "index = np.arange(3)\n",
        "bar_width = 0.2\n",
        "k1 = plt.bar(index,korea_scores,bar_width,alpha = 0.9,label = 'korea')\n",
        "c1 = plt.bar(index+bar_width,canada_scores,bar_width,alpha = 0.9,label = 'Canada')\n",
        "ch1 = plt.bar(index+bar_width*2,china_scores,bar_width,alpha = 0.9,label = 'China')\n",
        "f1 = plt.bar(index+bar_width*3,france_scores,bar_width,alpha = 0.9,label = 'France')\n",
        "plt.xticks(index + 0.3,('Maths','Reading','Science'))\n",
        "plt.ylabel('Mean scores in PISA 2021')\n",
        "plt.xlabel('Subjects')\n",
        "plt.title('Test scores by Country')\n",
        "plt.grid(True)\n",
        "plt.legend()"
      ],
      "metadata": {
        "colab": {
          "base_uri": "https://localhost:8080/",
          "height": 314
        },
        "id": "UIyiwYa04Yg-",
        "outputId": "52efe980-c133-4b68-fbfb-443ed17a8029"
      },
      "execution_count": null,
      "outputs": [
        {
          "output_type": "execute_result",
          "data": {
            "text/plain": [
              "<matplotlib.legend.Legend at 0x7feb98f7f3d0>"
            ]
          },
          "metadata": {},
          "execution_count": 2
        },
        {
          "output_type": "display_data",
          "data": {
            "text/plain": [
              "<Figure size 432x288 with 1 Axes>"
            ],
            "image/png": "[encoded data removed]"
          },
          "metadata": {
            "needs_background": "light"
          }
        }
      ]
    },
    {
      "cell_type": "code",
      "source": [
        "plt.bar([1,3,5,7,9],[5,2,7,8,2], label = 'Example one')\n",
        "plt.bar([2,4,6,8,10],[8,6,2,5,6],label = 'Example two',color = 'green')\n",
        "plt.legend()\n",
        "plt.ylabel('Bar width')\n",
        "plt.xlabel('Bar Number')\n",
        "plt.title('Test scores by Country')"
      ],
      "metadata": {
        "colab": {
          "base_uri": "https://localhost:8080/"
        },
        "id": "s1eXeRpH5Yz7",
        "outputId": "9f7685c1-0b4a-4b3e-9383-87128fc42f06"
      },
      "execution_count": null,
      "outputs": [
        {
          "output_type": "execute_result",
          "data": {
            "text/plain": [
              "Text(0.5, 1.0, 'Test scores by Country')"
            ]
          },
          "metadata": {},
          "execution_count": 7
        },
        {
          "output_type": "display_data",
          "data": {
            "text/plain": [
              "<Figure size 432x288 with 1 Axes>"
            ],
            "image/png": "[encoded data removed]"
          },
          "metadata": {
            "needs_background": "light"
          }
        }
      ]
    },
    {
      "cell_type": "code",
      "source": [
        "import numpy as np\n",
        "import matplotlib.pyplot as plt\n",
        "import pandas as pd\n",
        "import seaborn as sns\n",
        "df=pd.read_csv('telecom_churn - telecom_churn.csv')\n",
        "df.head()"
      ],
      "metadata": {
        "colab": {
          "base_uri": "https://localhost:8080/",
          "height": 305
        },
        "id": "GyFw51oqMr5B",
        "outputId": "a1b7c4ad-bd68-4fea-ea2c-10425b7e5080"
      },
      "execution_count": null,
      "outputs": [
        {
          "output_type": "execute_result",
          "data": {
            "text/plain": [
              "  State  Account length  Area code International plan Voice mail plan  \\\n",
              "0    KS             128        415                 No             Yes   \n",
              "1    OH             107        415                 No             Yes   \n",
              "2    NJ             137        415                 No              No   \n",
              "3    OH              84        408                Yes              No   \n",
              "4    OK              75        415                Yes              No   \n",
              "\n",
              "   Number vmail messages  Total day minutes  Total day calls  \\\n",
              "0                     25              265.1              110   \n",
              "1                     26              161.6              123   \n",
              "2                      0              243.4              114   \n",
              "3                      0              299.4               71   \n",
              "4                      0              166.7              113   \n",
              "\n",
              "   Total day charge  Total eve minutes  Total eve calls  Total eve charge  \\\n",
              "0             45.07              197.4               99             16.78   \n",
              "1             27.47              195.5              103             16.62   \n",
              "2             41.38              121.2              110             10.30   \n",
              "3             50.90               61.9               88              5.26   \n",
              "4             28.34              148.3              122             12.61   \n",
              "\n",
              "   Total night minutes  Total night calls  Total night charge  \\\n",
              "0                244.7                 91               11.01   \n",
              "1                254.4                103               11.45   \n",
              "2                162.6                104                7.32   \n",
              "3                196.9                 89                8.86   \n",
              "4                186.9                121                8.41   \n",
              "\n",
              "   Total intl minutes  Total intl calls  Total intl charge  \\\n",
              "0                10.0                 3               2.70   \n",
              "1                13.7                 3               3.70   \n",
              "2                12.2                 5               3.29   \n",
              "3                 6.6                 7               1.78   \n",
              "4                10.1                 3               2.73   \n",
              "\n",
              "   Customer service calls  Churn  \n",
              "0                       1  False  \n",
              "1                       1  False  \n",
              "2                       0  False  \n",
              "3                       2  False  \n",
              "4                       3  False  "
            ],
            "text/html": [
              "\n",
              "  <div id=\"df-313aecf7-fa21-476a-98b2-399947332ac6\">\n",
              "    <div class=\"colab-df-container\">\n",
              "      <div>\n",
              "<style scoped>\n",
              "    .dataframe tbody tr th:only-of-type {\n",
              "        vertical-align: middle;\n",
              "    }\n",
              "\n",
              "    .dataframe tbody tr th {\n",
              "        vertical-align: top;\n",
              "    }\n",
              "\n",
              "    .dataframe thead th {\n",
              "        text-align: right;\n",
              "    }\n",
              "</style>\n",
              "<table border=\"1\" class=\"dataframe\">\n",
              "  <thead>\n",
              "    <tr style=\"text-align: right;\">\n",
              "      <th></th>\n",
              "      <th>State</th>\n",
              "      <th>Account length</th>\n",
              "      <th>Area code</th>\n",
              "      <th>International plan</th>\n",
              "      <th>Voice mail plan</th>\n",
              "      <th>Number vmail messages</th>\n",
              "      <th>Total day minutes</th>\n",
              "      <th>Total day calls</th>\n",
              "      <th>Total day charge</th>\n",
              "      <th>Total eve minutes</th>\n",
              "      <th>Total eve calls</th>\n",
              "      <th>Total eve charge</th>\n",
              "      <th>Total night minutes</th>\n",
              "      <th>Total night calls</th>\n",
              "      <th>Total night charge</th>\n",
              "      <th>Total intl minutes</th>\n",
              "      <th>Total intl calls</th>\n",
              "      <th>Total intl charge</th>\n",
              "      <th>Customer service calls</th>\n",
              "      <th>Churn</th>\n",
              "    </tr>\n",
              "  </thead>\n",
              "  <tbody>\n",
              "    <tr>\n",
              "      <th>0</th>\n",
              "      <td>KS</td>\n",
              "      <td>128</td>\n",
              "      <td>415</td>\n",
              "      <td>No</td>\n",
              "      <td>Yes</td>\n",
              "      <td>25</td>\n",
              "      <td>265.1</td>\n",
              "      <td>110</td>\n",
              "      <td>45.07</td>\n",
              "      <td>197.4</td>\n",
              "      <td>99</td>\n",
              "      <td>16.78</td>\n",
              "      <td>244.7</td>\n",
              "      <td>91</td>\n",
              "      <td>11.01</td>\n",
              "      <td>10.0</td>\n",
              "      <td>3</td>\n",
              "      <td>2.70</td>\n",
              "      <td>1</td>\n",
              "      <td>False</td>\n",
              "    </tr>\n",
              "    <tr>\n",
              "      <th>1</th>\n",
              "      <td>OH</td>\n",
              "      <td>107</td>\n",
              "      <td>415</td>\n",
              "      <td>No</td>\n",
              "      <td>Yes</td>\n",
              "      <td>26</td>\n",
              "      <td>161.6</td>\n",
              "      <td>123</td>\n",
              "      <td>27.47</td>\n",
              "      <td>195.5</td>\n",
              "      <td>103</td>\n",
              "      <td>16.62</td>\n",
              "      <td>254.4</td>\n",
              "      <td>103</td>\n",
              "      <td>11.45</td>\n",
              "      <td>13.7</td>\n",
              "      <td>3</td>\n",
              "      <td>3.70</td>\n",
              "      <td>1</td>\n",
              "      <td>False</td>\n",
              "    </tr>\n",
              "    <tr>\n",
              "      <th>2</th>\n",
              "      <td>NJ</td>\n",
              "      <td>137</td>\n",
              "      <td>415</td>\n",
              "      <td>No</td>\n",
              "      <td>No</td>\n",
              "      <td>0</td>\n",
              "      <td>243.4</td>\n",
              "      <td>114</td>\n",
              "      <td>41.38</td>\n",
              "      <td>121.2</td>\n",
              "      <td>110</td>\n",
              "      <td>10.30</td>\n",
              "      <td>162.6</td>\n",
              "      <td>104</td>\n",
              "      <td>7.32</td>\n",
              "      <td>12.2</td>\n",
              "      <td>5</td>\n",
              "      <td>3.29</td>\n",
              "      <td>0</td>\n",
              "      <td>False</td>\n",
              "    </tr>\n",
              "    <tr>\n",
              "      <th>3</th>\n",
              "      <td>OH</td>\n",
              "      <td>84</td>\n",
              "      <td>408</td>\n",
              "      <td>Yes</td>\n",
              "      <td>No</td>\n",
              "      <td>0</td>\n",
              "      <td>299.4</td>\n",
              "      <td>71</td>\n",
              "      <td>50.90</td>\n",
              "      <td>61.9</td>\n",
              "      <td>88</td>\n",
              "      <td>5.26</td>\n",
              "      <td>196.9</td>\n",
              "      <td>89</td>\n",
              "      <td>8.86</td>\n",
              "      <td>6.6</td>\n",
              "      <td>7</td>\n",
              "      <td>1.78</td>\n",
              "      <td>2</td>\n",
              "      <td>False</td>\n",
              "    </tr>\n",
              "    <tr>\n",
              "      <th>4</th>\n",
              "      <td>OK</td>\n",
              "      <td>75</td>\n",
              "      <td>415</td>\n",
              "      <td>Yes</td>\n",
              "      <td>No</td>\n",
              "      <td>0</td>\n",
              "      <td>166.7</td>\n",
              "      <td>113</td>\n",
              "      <td>28.34</td>\n",
              "      <td>148.3</td>\n",
              "      <td>122</td>\n",
              "      <td>12.61</td>\n",
              "      <td>186.9</td>\n",
              "      <td>121</td>\n",
              "      <td>8.41</td>\n",
              "      <td>10.1</td>\n",
              "      <td>3</td>\n",
              "      <td>2.73</td>\n",
              "      <td>3</td>\n",
              "      <td>False</td>\n",
              "    </tr>\n",
              "  </tbody>\n",
              "</table>\n",
              "</div>\n",
              "      <button class=\"colab-df-convert\" onclick=\"convertToInteractive('df-313aecf7-fa21-476a-98b2-399947332ac6')\"\n",
              "              title=\"Convert this dataframe to an interactive table.\"\n",
              "              style=\"display:none;\">\n",
              "        \n",
              "  <svg xmlns=\"http://www.w3.org/2000/svg\" height=\"24px\"viewBox=\"0 0 24 24\"\n",
              "       width=\"24px\">\n",
              "    <path d=\"M0 0h24v24H0V0z\" fill=\"none\"/>\n",
              "    <path d=\"M18.56 5.44l.94 2.06.94-2.06 2.06-.94-2.06-.94-.94-2.06-.94 2.06-2.06.94zm-11 1L8.5 8.5l.94-2.06 2.06-.94-2.06-.94L8.5 2.5l-.94 2.06-2.06.94zm10 10l.94 2.06.94-2.06 2.06-.94-2.06-.94-.94-2.06-.94 2.06-2.06.94z\"/><path d=\"M17.41 7.96l-1.37-1.37c-.4-.4-.92-.59-1.43-.59-.52 0-1.04.2-1.43.59L10.3 9.45l-7.72 7.72c-.78.78-.78 2.05 0 2.83L4 21.41c.39.39.9.59 1.41.59.51 0 1.02-.2 1.41-.59l7.78-7.78 2.81-2.81c.8-.78.8-2.07 0-2.86zM5.41 20L4 18.59l7.72-7.72 1.47 1.35L5.41 20z\"/>\n",
              "  </svg>\n",
              "      </button>\n",
              "      \n",
              "  <style>\n",
              "    .colab-df-container {\n",
              "      display:flex;\n",
              "      flex-wrap:wrap;\n",
              "      gap: 12px;\n",
              "    }\n",
              "\n",
              "    .colab-df-convert {\n",
              "      background-color: #E8F0FE;\n",
              "      border: none;\n",
              "      border-radius: 50%;\n",
              "      cursor: pointer;\n",
              "      display: none;\n",
              "      fill: #1967D2;\n",
              "      height: 32px;\n",
              "      padding: 0 0 0 0;\n",
              "      width: 32px;\n",
              "    }\n",
              "\n",
              "    .colab-df-convert:hover {\n",
              "      background-color: #E2EBFA;\n",
              "      box-shadow: 0px 1px 2px rgba(60, 64, 67, 0.3), 0px 1px 3px 1px rgba(60, 64, 67, 0.15);\n",
              "      fill: #174EA6;\n",
              "    }\n",
              "\n",
              "    [theme=dark] .colab-df-convert {\n",
              "      background-color: #3B4455;\n",
              "      fill: #D2E3FC;\n",
              "    }\n",
              "\n",
              "    [theme=dark] .colab-df-convert:hover {\n",
              "      background-color: #434B5C;\n",
              "      box-shadow: 0px 1px 3px 1px rgba(0, 0, 0, 0.15);\n",
              "      filter: drop-shadow(0px 1px 2px rgba(0, 0, 0, 0.3));\n",
              "      fill: #FFFFFF;\n",
              "    }\n",
              "  </style>\n",
              "\n",
              "      <script>\n",
              "        const buttonEl =\n",
              "          document.querySelector('#df-313aecf7-fa21-476a-98b2-399947332ac6 button.colab-df-convert');\n",
              "        buttonEl.style.display =\n",
              "          google.colab.kernel.accessAllowed ? 'block' : 'none';\n",
              "\n",
              "        async function convertToInteractive(key) {\n",
              "          const element = document.querySelector('#df-313aecf7-fa21-476a-98b2-399947332ac6');\n",
              "          const dataTable =\n",
              "            await google.colab.kernel.invokeFunction('convertToInteractive',\n",
              "                                                     [key], {});\n",
              "          if (!dataTable) return;\n",
              "\n",
              "          const docLinkHtml = 'Like what you see? Visit the ' +\n",
              "            '<a target=\"_blank\" href=https://colab.research.google.com/notebooks/data_table.ipynb>data table notebook</a>'\n",
              "            + ' to learn more about interactive tables.';\n",
              "          element.innerHTML = '';\n",
              "          dataTable['output_type'] = 'display_data';\n",
              "          await google.colab.output.renderOutput(dataTable, element);\n",
              "          const docLink = document.createElement('div');\n",
              "          docLink.innerHTML = docLinkHtml;\n",
              "          element.appendChild(docLink);\n",
              "        }\n",
              "      </script>\n",
              "    </div>\n",
              "  </div>\n",
              "  "
            ]
          },
          "metadata": {},
          "execution_count": 1
        }
      ]
    },
    {
      "cell_type": "code",
      "source": [
        "df.tail()"
      ],
      "metadata": {
        "colab": {
          "base_uri": "https://localhost:8080/",
          "height": 305
        },
        "id": "6CxBID9uOAAX",
        "outputId": "efc8c00f-25c9-4066-ea9e-ceb63b5a5d12"
      },
      "execution_count": null,
      "outputs": [
        {
          "output_type": "execute_result",
          "data": {
            "text/plain": [
              "     State  Account length  Area code International plan Voice mail plan  \\\n",
              "3328    AZ             192        415                 No             Yes   \n",
              "3329    WV              68        415                 No              No   \n",
              "3330    RI              28        510                 No              No   \n",
              "3331    CT             184        510                Yes              No   \n",
              "3332    TN              74        415                 No             Yes   \n",
              "\n",
              "      Number vmail messages  Total day minutes  Total day calls  \\\n",
              "3328                     36              156.2               77   \n",
              "3329                      0              231.1               57   \n",
              "3330                      0              180.8              109   \n",
              "3331                      0              213.8              105   \n",
              "3332                     25              234.4              113   \n",
              "\n",
              "      Total day charge  Total eve minutes  Total eve calls  Total eve charge  \\\n",
              "3328             26.55              215.5              126             18.32   \n",
              "3329             39.29              153.4               55             13.04   \n",
              "3330             30.74              288.8               58             24.55   \n",
              "3331             36.35              159.6               84             13.57   \n",
              "3332             39.85              265.9               82             22.60   \n",
              "\n",
              "      Total night minutes  Total night calls  Total night charge  \\\n",
              "3328                279.1                 83               12.56   \n",
              "3329                191.3                123                8.61   \n",
              "3330                191.9                 91                8.64   \n",
              "3331                139.2                137                6.26   \n",
              "3332                241.4                 77               10.86   \n",
              "\n",
              "      Total intl minutes  Total intl calls  Total intl charge  \\\n",
              "3328                 9.9                 6               2.67   \n",
              "3329                 9.6                 4               2.59   \n",
              "3330                14.1                 6               3.81   \n",
              "3331                 5.0                10               1.35   \n",
              "3332                13.7                 4               3.70   \n",
              "\n",
              "      Customer service calls  Churn  \n",
              "3328                       2  False  \n",
              "3329                       3  False  \n",
              "3330                       2  False  \n",
              "3331                       2  False  \n",
              "3332                       0  False  "
            ],
            "text/html": [
              "\n",
              "  <div id=\"df-b7fed1cd-1a14-41fe-98ee-93e57ce2cc74\">\n",
              "    <div class=\"colab-df-container\">\n",
              "      <div>\n",
              "<style scoped>\n",
              "    .dataframe tbody tr th:only-of-type {\n",
              "        vertical-align: middle;\n",
              "    }\n",
              "\n",
              "    .dataframe tbody tr th {\n",
              "        vertical-align: top;\n",
              "    }\n",
              "\n",
              "    .dataframe thead th {\n",
              "        text-align: right;\n",
              "    }\n",
              "</style>\n",
              "<table border=\"1\" class=\"dataframe\">\n",
              "  <thead>\n",
              "    <tr style=\"text-align: right;\">\n",
              "      <th></th>\n",
              "      <th>State</th>\n",
              "      <th>Account length</th>\n",
              "      <th>Area code</th>\n",
              "      <th>International plan</th>\n",
              "      <th>Voice mail plan</th>\n",
              "      <th>Number vmail messages</th>\n",
              "      <th>Total day minutes</th>\n",
              "      <th>Total day calls</th>\n",
              "      <th>Total day charge</th>\n",
              "      <th>Total eve minutes</th>\n",
              "      <th>Total eve calls</th>\n",
              "      <th>Total eve charge</th>\n",
              "      <th>Total night minutes</th>\n",
              "      <th>Total night calls</th>\n",
              "      <th>Total night charge</th>\n",
              "      <th>Total intl minutes</th>\n",
              "      <th>Total intl calls</th>\n",
              "      <th>Total intl charge</th>\n",
              "      <th>Customer service calls</th>\n",
              "      <th>Churn</th>\n",
              "    </tr>\n",
              "  </thead>\n",
              "  <tbody>\n",
              "    <tr>\n",
              "      <th>3328</th>\n",
              "      <td>AZ</td>\n",
              "      <td>192</td>\n",
              "      <td>415</td>\n",
              "      <td>No</td>\n",
              "      <td>Yes</td>\n",
              "      <td>36</td>\n",
              "      <td>156.2</td>\n",
              "      <td>77</td>\n",
              "      <td>26.55</td>\n",
              "      <td>215.5</td>\n",
              "      <td>126</td>\n",
              "      <td>18.32</td>\n",
              "      <td>279.1</td>\n",
              "      <td>83</td>\n",
              "      <td>12.56</td>\n",
              "      <td>9.9</td>\n",
              "      <td>6</td>\n",
              "      <td>2.67</td>\n",
              "      <td>2</td>\n",
              "      <td>False</td>\n",
              "    </tr>\n",
              "    <tr>\n",
              "      <th>3329</th>\n",
              "      <td>WV</td>\n",
              "      <td>68</td>\n",
              "      <td>415</td>\n",
              "      <td>No</td>\n",
              "      <td>No</td>\n",
              "      <td>0</td>\n",
              "      <td>231.1</td>\n",
              "      <td>57</td>\n",
              "      <td>39.29</td>\n",
              "      <td>153.4</td>\n",
              "      <td>55</td>\n",
              "      <td>13.04</td>\n",
              "      <td>191.3</td>\n",
              "      <td>123</td>\n",
              "      <td>8.61</td>\n",
              "      <td>9.6</td>\n",
              "      <td>4</td>\n",
              "      <td>2.59</td>\n",
              "      <td>3</td>\n",
              "      <td>False</td>\n",
              "    </tr>\n",
              "    <tr>\n",
              "      <th>3330</th>\n",
              "      <td>RI</td>\n",
              "      <td>28</td>\n",
              "      <td>510</td>\n",
              "      <td>No</td>\n",
              "      <td>No</td>\n",
              "      <td>0</td>\n",
              "      <td>180.8</td>\n",
              "      <td>109</td>\n",
              "      <td>30.74</td>\n",
              "      <td>288.8</td>\n",
              "      <td>58</td>\n",
              "      <td>24.55</td>\n",
              "      <td>191.9</td>\n",
              "      <td>91</td>\n",
              "      <td>8.64</td>\n",
              "      <td>14.1</td>\n",
              "      <td>6</td>\n",
              "      <td>3.81</td>\n",
              "      <td>2</td>\n",
              "      <td>False</td>\n",
              "    </tr>\n",
              "    <tr>\n",
              "      <th>3331</th>\n",
              "      <td>CT</td>\n",
              "      <td>184</td>\n",
              "      <td>510</td>\n",
              "      <td>Yes</td>\n",
              "      <td>No</td>\n",
              "      <td>0</td>\n",
              "      <td>213.8</td>\n",
              "      <td>105</td>\n",
              "      <td>36.35</td>\n",
              "      <td>159.6</td>\n",
              "      <td>84</td>\n",
              "      <td>13.57</td>\n",
              "      <td>139.2</td>\n",
              "      <td>137</td>\n",
              "      <td>6.26</td>\n",
              "      <td>5.0</td>\n",
              "      <td>10</td>\n",
              "      <td>1.35</td>\n",
              "      <td>2</td>\n",
              "      <td>False</td>\n",
              "    </tr>\n",
              "    <tr>\n",
              "      <th>3332</th>\n",
              "      <td>TN</td>\n",
              "      <td>74</td>\n",
              "      <td>415</td>\n",
              "      <td>No</td>\n",
              "      <td>Yes</td>\n",
              "      <td>25</td>\n",
              "      <td>234.4</td>\n",
              "      <td>113</td>\n",
              "      <td>39.85</td>\n",
              "      <td>265.9</td>\n",
              "      <td>82</td>\n",
              "      <td>22.60</td>\n",
              "      <td>241.4</td>\n",
              "      <td>77</td>\n",
              "      <td>10.86</td>\n",
              "      <td>13.7</td>\n",
              "      <td>4</td>\n",
              "      <td>3.70</td>\n",
              "      <td>0</td>\n",
              "      <td>False</td>\n",
              "    </tr>\n",
              "  </tbody>\n",
              "</table>\n",
              "</div>\n",
              "      <button class=\"colab-df-convert\" onclick=\"convertToInteractive('df-b7fed1cd-1a14-41fe-98ee-93e57ce2cc74')\"\n",
              "              title=\"Convert this dataframe to an interactive table.\"\n",
              "              style=\"display:none;\">\n",
              "        \n",
              "  <svg xmlns=\"http://www.w3.org/2000/svg\" height=\"24px\"viewBox=\"0 0 24 24\"\n",
              "       width=\"24px\">\n",
              "    <path d=\"M0 0h24v24H0V0z\" fill=\"none\"/>\n",
              "    <path d=\"M18.56 5.44l.94 2.06.94-2.06 2.06-.94-2.06-.94-.94-2.06-.94 2.06-2.06.94zm-11 1L8.5 8.5l.94-2.06 2.06-.94-2.06-.94L8.5 2.5l-.94 2.06-2.06.94zm10 10l.94 2.06.94-2.06 2.06-.94-2.06-.94-.94-2.06-.94 2.06-2.06.94z\"/><path d=\"M17.41 7.96l-1.37-1.37c-.4-.4-.92-.59-1.43-.59-.52 0-1.04.2-1.43.59L10.3 9.45l-7.72 7.72c-.78.78-.78 2.05 0 2.83L4 21.41c.39.39.9.59 1.41.59.51 0 1.02-.2 1.41-.59l7.78-7.78 2.81-2.81c.8-.78.8-2.07 0-2.86zM5.41 20L4 18.59l7.72-7.72 1.47 1.35L5.41 20z\"/>\n",
              "  </svg>\n",
              "      </button>\n",
              "      \n",
              "  <style>\n",
              "    .colab-df-container {\n",
              "      display:flex;\n",
              "      flex-wrap:wrap;\n",
              "      gap: 12px;\n",
              "    }\n",
              "\n",
              "    .colab-df-convert {\n",
              "      background-color: #E8F0FE;\n",
              "      border: none;\n",
              "      border-radius: 50%;\n",
              "      cursor: pointer;\n",
              "      display: none;\n",
              "      fill: #1967D2;\n",
              "      height: 32px;\n",
              "      padding: 0 0 0 0;\n",
              "      width: 32px;\n",
              "    }\n",
              "\n",
              "    .colab-df-convert:hover {\n",
              "      background-color: #E2EBFA;\n",
              "      box-shadow: 0px 1px 2px rgba(60, 64, 67, 0.3), 0px 1px 3px 1px rgba(60, 64, 67, 0.15);\n",
              "      fill: #174EA6;\n",
              "    }\n",
              "\n",
              "    [theme=dark] .colab-df-convert {\n",
              "      background-color: #3B4455;\n",
              "      fill: #D2E3FC;\n",
              "    }\n",
              "\n",
              "    [theme=dark] .colab-df-convert:hover {\n",
              "      background-color: #434B5C;\n",
              "      box-shadow: 0px 1px 3px 1px rgba(0, 0, 0, 0.15);\n",
              "      filter: drop-shadow(0px 1px 2px rgba(0, 0, 0, 0.3));\n",
              "      fill: #FFFFFF;\n",
              "    }\n",
              "  </style>\n",
              "\n",
              "      <script>\n",
              "        const buttonEl =\n",
              "          document.querySelector('#df-b7fed1cd-1a14-41fe-98ee-93e57ce2cc74 button.colab-df-convert');\n",
              "        buttonEl.style.display =\n",
              "          google.colab.kernel.accessAllowed ? 'block' : 'none';\n",
              "\n",
              "        async function convertToInteractive(key) {\n",
              "          const element = document.querySelector('#df-b7fed1cd-1a14-41fe-98ee-93e57ce2cc74');\n",
              "          const dataTable =\n",
              "            await google.colab.kernel.invokeFunction('convertToInteractive',\n",
              "                                                     [key], {});\n",
              "          if (!dataTable) return;\n",
              "\n",
              "          const docLinkHtml = 'Like what you see? Visit the ' +\n",
              "            '<a target=\"_blank\" href=https://colab.research.google.com/notebooks/data_table.ipynb>data table notebook</a>'\n",
              "            + ' to learn more about interactive tables.';\n",
              "          element.innerHTML = '';\n",
              "          dataTable['output_type'] = 'display_data';\n",
              "          await google.colab.output.renderOutput(dataTable, element);\n",
              "          const docLink = document.createElement('div');\n",
              "          docLink.innerHTML = docLinkHtml;\n",
              "          element.appendChild(docLink);\n",
              "        }\n",
              "      </script>\n",
              "    </div>\n",
              "  </div>\n",
              "  "
            ]
          },
          "metadata": {},
          "execution_count": 14
        }
      ]
    },
    {
      "cell_type": "code",
      "source": [
        ""
      ],
      "metadata": {
        "id": "b6W1djbOOooc"
      },
      "execution_count": null,
      "outputs": []
    },
    {
      "cell_type": "code",
      "source": [
        "df.columns"
      ],
      "metadata": {
        "colab": {
          "base_uri": "https://localhost:8080/"
        },
        "id": "j7PNeQQrOIhK",
        "outputId": "a8e0544d-0afa-4dc5-ebd5-36633ce60d12"
      },
      "execution_count": null,
      "outputs": [
        {
          "output_type": "execute_result",
          "data": {
            "text/plain": [
              "Index(['State', 'Account length', 'Area code', 'International plan',\n",
              "       'Voice mail plan', 'Number vmail messages', 'Total day minutes',\n",
              "       'Total day calls', 'Total day charge', 'Total eve minutes',\n",
              "       'Total eve calls', 'Total eve charge', 'Total night minutes',\n",
              "       'Total night calls', 'Total night charge', 'Total intl minutes',\n",
              "       'Total intl calls', 'Total intl charge', 'Customer service calls',\n",
              "       'Churn'],\n",
              "      dtype='object')"
            ]
          },
          "metadata": {},
          "execution_count": 10
        }
      ]
    },
    {
      "cell_type": "code",
      "source": [
        "df.shape"
      ],
      "metadata": {
        "colab": {
          "base_uri": "https://localhost:8080/"
        },
        "id": "Vaqus1pnOPec",
        "outputId": "3e404ab0-e725-4933-ba4c-fa1c2a3eda22"
      },
      "execution_count": null,
      "outputs": [
        {
          "output_type": "execute_result",
          "data": {
            "text/plain": [
              "(3333, 20)"
            ]
          },
          "metadata": {},
          "execution_count": 11
        }
      ]
    },
    {
      "cell_type": "code",
      "source": [
        "df.info()"
      ],
      "metadata": {
        "colab": {
          "base_uri": "https://localhost:8080/"
        },
        "id": "L7jBdA2SOS4b",
        "outputId": "6fea0074-3ac1-4cd0-a77b-59490160048f"
      },
      "execution_count": null,
      "outputs": [
        {
          "output_type": "stream",
          "name": "stdout",
          "text": [
            "<class 'pandas.core.frame.DataFrame'>\n",
            "RangeIndex: 3333 entries, 0 to 3332\n",
            "Data columns (total 20 columns):\n",
            " #   Column                  Non-Null Count  Dtype  \n",
            "---  ------                  --------------  -----  \n",
            " 0   State                   3333 non-null   object \n",
            " 1   Account length          3333 non-null   int64  \n",
            " 2   Area code               3333 non-null   int64  \n",
            " 3   International plan      3333 non-null   object \n",
            " 4   Voice mail plan         3333 non-null   object \n",
            " 5   Number vmail messages   3333 non-null   int64  \n",
            " 6   Total day minutes       3333 non-null   float64\n",
            " 7   Total day calls         3333 non-null   int64  \n",
            " 8   Total day charge        3333 non-null   float64\n",
            " 9   Total eve minutes       3333 non-null   float64\n",
            " 10  Total eve calls         3333 non-null   int64  \n",
            " 11  Total eve charge        3333 non-null   float64\n",
            " 12  Total night minutes     3333 non-null   float64\n",
            " 13  Total night calls       3333 non-null   int64  \n",
            " 14  Total night charge      3333 non-null   float64\n",
            " 15  Total intl minutes      3333 non-null   float64\n",
            " 16  Total intl calls        3333 non-null   int64  \n",
            " 17  Total intl charge       3333 non-null   float64\n",
            " 18  Customer service calls  3333 non-null   int64  \n",
            " 19  Churn                   3333 non-null   bool   \n",
            "dtypes: bool(1), float64(8), int64(8), object(3)\n",
            "memory usage: 498.1+ KB\n"
          ]
        }
      ]
    },
    {
      "cell_type": "code",
      "source": [
        "df['Churn']=df['Churn'].astype(int)"
      ],
      "metadata": {
        "id": "s2Y3qzC2OqBT"
      },
      "execution_count": null,
      "outputs": []
    },
    {
      "cell_type": "code",
      "source": [
        "df.describe(include=['object','bool'])"
      ],
      "metadata": {
        "colab": {
          "base_uri": "https://localhost:8080/",
          "height": 175
        },
        "id": "q1QOgzpgPDv8",
        "outputId": "65abe6c3-2e36-47aa-ca2f-c15c6775fb9f"
      },
      "execution_count": null,
      "outputs": [
        {
          "output_type": "execute_result",
          "data": {
            "text/plain": [
              "       State International plan Voice mail plan\n",
              "count   3333               3333            3333\n",
              "unique    51                  2               2\n",
              "top       WV                 No              No\n",
              "freq     106               3010            2411"
            ],
            "text/html": [
              "\n",
              "  <div id=\"df-f39070a6-bf18-40ad-9bed-2cf3ef50fb36\">\n",
              "    <div class=\"colab-df-container\">\n",
              "      <div>\n",
              "<style scoped>\n",
              "    .dataframe tbody tr th:only-of-type {\n",
              "        vertical-align: middle;\n",
              "    }\n",
              "\n",
              "    .dataframe tbody tr th {\n",
              "        vertical-align: top;\n",
              "    }\n",
              "\n",
              "    .dataframe thead th {\n",
              "        text-align: right;\n",
              "    }\n",
              "</style>\n",
              "<table border=\"1\" class=\"dataframe\">\n",
              "  <thead>\n",
              "    <tr style=\"text-align: right;\">\n",
              "      <th></th>\n",
              "      <th>State</th>\n",
              "      <th>International plan</th>\n",
              "      <th>Voice mail plan</th>\n",
              "    </tr>\n",
              "  </thead>\n",
              "  <tbody>\n",
              "    <tr>\n",
              "      <th>count</th>\n",
              "      <td>3333</td>\n",
              "      <td>3333</td>\n",
              "      <td>3333</td>\n",
              "    </tr>\n",
              "    <tr>\n",
              "      <th>unique</th>\n",
              "      <td>51</td>\n",
              "      <td>2</td>\n",
              "      <td>2</td>\n",
              "    </tr>\n",
              "    <tr>\n",
              "      <th>top</th>\n",
              "      <td>WV</td>\n",
              "      <td>No</td>\n",
              "      <td>No</td>\n",
              "    </tr>\n",
              "    <tr>\n",
              "      <th>freq</th>\n",
              "      <td>106</td>\n",
              "      <td>3010</td>\n",
              "      <td>2411</td>\n",
              "    </tr>\n",
              "  </tbody>\n",
              "</table>\n",
              "</div>\n",
              "      <button class=\"colab-df-convert\" onclick=\"convertToInteractive('df-f39070a6-bf18-40ad-9bed-2cf3ef50fb36')\"\n",
              "              title=\"Convert this dataframe to an interactive table.\"\n",
              "              style=\"display:none;\">\n",
              "        \n",
              "  <svg xmlns=\"http://www.w3.org/2000/svg\" height=\"24px\"viewBox=\"0 0 24 24\"\n",
              "       width=\"24px\">\n",
              "    <path d=\"M0 0h24v24H0V0z\" fill=\"none\"/>\n",
              "    <path d=\"M18.56 5.44l.94 2.06.94-2.06 2.06-.94-2.06-.94-.94-2.06-.94 2.06-2.06.94zm-11 1L8.5 8.5l.94-2.06 2.06-.94-2.06-.94L8.5 2.5l-.94 2.06-2.06.94zm10 10l.94 2.06.94-2.06 2.06-.94-2.06-.94-.94-2.06-.94 2.06-2.06.94z\"/><path d=\"M17.41 7.96l-1.37-1.37c-.4-.4-.92-.59-1.43-.59-.52 0-1.04.2-1.43.59L10.3 9.45l-7.72 7.72c-.78.78-.78 2.05 0 2.83L4 21.41c.39.39.9.59 1.41.59.51 0 1.02-.2 1.41-.59l7.78-7.78 2.81-2.81c.8-.78.8-2.07 0-2.86zM5.41 20L4 18.59l7.72-7.72 1.47 1.35L5.41 20z\"/>\n",
              "  </svg>\n",
              "      </button>\n",
              "      \n",
              "  <style>\n",
              "    .colab-df-container {\n",
              "      display:flex;\n",
              "      flex-wrap:wrap;\n",
              "      gap: 12px;\n",
              "    }\n",
              "\n",
              "    .colab-df-convert {\n",
              "      background-color: #E8F0FE;\n",
              "      border: none;\n",
              "      border-radius: 50%;\n",
              "      cursor: pointer;\n",
              "      display: none;\n",
              "      fill: #1967D2;\n",
              "      height: 32px;\n",
              "      padding: 0 0 0 0;\n",
              "      width: 32px;\n",
              "    }\n",
              "\n",
              "    .colab-df-convert:hover {\n",
              "      background-color: #E2EBFA;\n",
              "      box-shadow: 0px 1px 2px rgba(60, 64, 67, 0.3), 0px 1px 3px 1px rgba(60, 64, 67, 0.15);\n",
              "      fill: #174EA6;\n",
              "    }\n",
              "\n",
              "    [theme=dark] .colab-df-convert {\n",
              "      background-color: #3B4455;\n",
              "      fill: #D2E3FC;\n",
              "    }\n",
              "\n",
              "    [theme=dark] .colab-df-convert:hover {\n",
              "      background-color: #434B5C;\n",
              "      box-shadow: 0px 1px 3px 1px rgba(0, 0, 0, 0.15);\n",
              "      filter: drop-shadow(0px 1px 2px rgba(0, 0, 0, 0.3));\n",
              "      fill: #FFFFFF;\n",
              "    }\n",
              "  </style>\n",
              "\n",
              "      <script>\n",
              "        const buttonEl =\n",
              "          document.querySelector('#df-f39070a6-bf18-40ad-9bed-2cf3ef50fb36 button.colab-df-convert');\n",
              "        buttonEl.style.display =\n",
              "          google.colab.kernel.accessAllowed ? 'block' : 'none';\n",
              "\n",
              "        async function convertToInteractive(key) {\n",
              "          const element = document.querySelector('#df-f39070a6-bf18-40ad-9bed-2cf3ef50fb36');\n",
              "          const dataTable =\n",
              "            await google.colab.kernel.invokeFunction('convertToInteractive',\n",
              "                                                     [key], {});\n",
              "          if (!dataTable) return;\n",
              "\n",
              "          const docLinkHtml = 'Like what you see? Visit the ' +\n",
              "            '<a target=\"_blank\" href=https://colab.research.google.com/notebooks/data_table.ipynb>data table notebook</a>'\n",
              "            + ' to learn more about interactive tables.';\n",
              "          element.innerHTML = '';\n",
              "          dataTable['output_type'] = 'display_data';\n",
              "          await google.colab.output.renderOutput(dataTable, element);\n",
              "          const docLink = document.createElement('div');\n",
              "          docLink.innerHTML = docLinkHtml;\n",
              "          element.appendChild(docLink);\n",
              "        }\n",
              "      </script>\n",
              "    </div>\n",
              "  </div>\n",
              "  "
            ]
          },
          "metadata": {},
          "execution_count": 21
        }
      ]
    },
    {
      "cell_type": "code",
      "source": [
        "df['Churn'].value_counts()"
      ],
      "metadata": {
        "colab": {
          "base_uri": "https://localhost:8080/"
        },
        "id": "F_x8yNLpQGIe",
        "outputId": "8548482b-5e07-472c-d51e-ffa5bed5dfe3"
      },
      "execution_count": null,
      "outputs": [
        {
          "output_type": "execute_result",
          "data": {
            "text/plain": [
              "0    2850\n",
              "1     483\n",
              "Name: Churn, dtype: int64"
            ]
          },
          "metadata": {},
          "execution_count": 23
        }
      ]
    },
    {
      "cell_type": "code",
      "source": [
        "df['Churn'].value_counts(normalize=True)"
      ],
      "metadata": {
        "colab": {
          "base_uri": "https://localhost:8080/"
        },
        "id": "8lTQvfAIQQKs",
        "outputId": "7fcf8ade-d80f-436e-9c27-8635ab18f8d4"
      },
      "execution_count": null,
      "outputs": [
        {
          "output_type": "execute_result",
          "data": {
            "text/plain": [
              "0    0.855086\n",
              "1    0.144914\n",
              "Name: Churn, dtype: float64"
            ]
          },
          "metadata": {},
          "execution_count": 24
        }
      ]
    },
    {
      "cell_type": "code",
      "source": [
        "df.sort_values(by='Total day charge',ascending=False).head()"
      ],
      "metadata": {
        "colab": {
          "base_uri": "https://localhost:8080/",
          "height": 305
        },
        "id": "V70694KPQ7Jm",
        "outputId": "0973111a-f2bf-486c-8844-a41916d39589"
      },
      "execution_count": null,
      "outputs": [
        {
          "output_type": "execute_result",
          "data": {
            "text/plain": [
              "     State  Account length  Area code International plan Voice mail plan  \\\n",
              "365     CO             154        415                 No              No   \n",
              "985     NY              64        415                Yes              No   \n",
              "2594    OH             115        510                Yes              No   \n",
              "156     OH              83        415                 No              No   \n",
              "605     MO             112        415                 No              No   \n",
              "\n",
              "      Number vmail messages  Total day minutes  Total day calls  \\\n",
              "365                       0              350.8               75   \n",
              "985                       0              346.8               55   \n",
              "2594                      0              345.3               81   \n",
              "156                       0              337.4              120   \n",
              "605                       0              335.5               77   \n",
              "\n",
              "      Total day charge  Total eve minutes  Total eve calls  Total eve charge  \\\n",
              "365              59.64              216.5               94             18.40   \n",
              "985              58.96              249.5               79             21.21   \n",
              "2594             58.70              203.4              106             17.29   \n",
              "156              57.36              227.4              116             19.33   \n",
              "605              57.04              212.5              109             18.06   \n",
              "\n",
              "      Total night minutes  Total night calls  Total night charge  \\\n",
              "365                 253.9                100               11.43   \n",
              "985                 275.4                102               12.39   \n",
              "2594                217.5                107                9.79   \n",
              "156                 153.9                114                6.93   \n",
              "605                 265.0                132               11.93   \n",
              "\n",
              "      Total intl minutes  Total intl calls  Total intl charge  \\\n",
              "365                 10.1                 9               2.73   \n",
              "985                 13.3                 9               3.59   \n",
              "2594                11.8                 8               3.19   \n",
              "156                 15.8                 7               4.27   \n",
              "605                 12.7                 8               3.43   \n",
              "\n",
              "      Customer service calls  Churn  \n",
              "365                        1      1  \n",
              "985                        1      1  \n",
              "2594                       1      1  \n",
              "156                        0      1  \n",
              "605                        2      1  "
            ],
            "text/html": [
              "\n",
              "  <div id=\"df-39343de7-4b47-4172-ab26-f653bd9d991b\">\n",
              "    <div class=\"colab-df-container\">\n",
              "      <div>\n",
              "<style scoped>\n",
              "    .dataframe tbody tr th:only-of-type {\n",
              "        vertical-align: middle;\n",
              "    }\n",
              "\n",
              "    .dataframe tbody tr th {\n",
              "        vertical-align: top;\n",
              "    }\n",
              "\n",
              "    .dataframe thead th {\n",
              "        text-align: right;\n",
              "    }\n",
              "</style>\n",
              "<table border=\"1\" class=\"dataframe\">\n",
              "  <thead>\n",
              "    <tr style=\"text-align: right;\">\n",
              "      <th></th>\n",
              "      <th>State</th>\n",
              "      <th>Account length</th>\n",
              "      <th>Area code</th>\n",
              "      <th>International plan</th>\n",
              "      <th>Voice mail plan</th>\n",
              "      <th>Number vmail messages</th>\n",
              "      <th>Total day minutes</th>\n",
              "      <th>Total day calls</th>\n",
              "      <th>Total day charge</th>\n",
              "      <th>Total eve minutes</th>\n",
              "      <th>Total eve calls</th>\n",
              "      <th>Total eve charge</th>\n",
              "      <th>Total night minutes</th>\n",
              "      <th>Total night calls</th>\n",
              "      <th>Total night charge</th>\n",
              "      <th>Total intl minutes</th>\n",
              "      <th>Total intl calls</th>\n",
              "      <th>Total intl charge</th>\n",
              "      <th>Customer service calls</th>\n",
              "      <th>Churn</th>\n",
              "    </tr>\n",
              "  </thead>\n",
              "  <tbody>\n",
              "    <tr>\n",
              "      <th>365</th>\n",
              "      <td>CO</td>\n",
              "      <td>154</td>\n",
              "      <td>415</td>\n",
              "      <td>No</td>\n",
              "      <td>No</td>\n",
              "      <td>0</td>\n",
              "      <td>350.8</td>\n",
              "      <td>75</td>\n",
              "      <td>59.64</td>\n",
              "      <td>216.5</td>\n",
              "      <td>94</td>\n",
              "      <td>18.40</td>\n",
              "      <td>253.9</td>\n",
              "      <td>100</td>\n",
              "      <td>11.43</td>\n",
              "      <td>10.1</td>\n",
              "      <td>9</td>\n",
              "      <td>2.73</td>\n",
              "      <td>1</td>\n",
              "      <td>1</td>\n",
              "    </tr>\n",
              "    <tr>\n",
              "      <th>985</th>\n",
              "      <td>NY</td>\n",
              "      <td>64</td>\n",
              "      <td>415</td>\n",
              "      <td>Yes</td>\n",
              "      <td>No</td>\n",
              "      <td>0</td>\n",
              "      <td>346.8</td>\n",
              "      <td>55</td>\n",
              "      <td>58.96</td>\n",
              "      <td>249.5</td>\n",
              "      <td>79</td>\n",
              "      <td>21.21</td>\n",
              "      <td>275.4</td>\n",
              "      <td>102</td>\n",
              "      <td>12.39</td>\n",
              "      <td>13.3</td>\n",
              "      <td>9</td>\n",
              "      <td>3.59</td>\n",
              "      <td>1</td>\n",
              "      <td>1</td>\n",
              "    </tr>\n",
              "    <tr>\n",
              "      <th>2594</th>\n",
              "      <td>OH</td>\n",
              "      <td>115</td>\n",
              "      <td>510</td>\n",
              "      <td>Yes</td>\n",
              "      <td>No</td>\n",
              "      <td>0</td>\n",
              "      <td>345.3</td>\n",
              "      <td>81</td>\n",
              "      <td>58.70</td>\n",
              "      <td>203.4</td>\n",
              "      <td>106</td>\n",
              "      <td>17.29</td>\n",
              "      <td>217.5</td>\n",
              "      <td>107</td>\n",
              "      <td>9.79</td>\n",
              "      <td>11.8</td>\n",
              "      <td>8</td>\n",
              "      <td>3.19</td>\n",
              "      <td>1</td>\n",
              "      <td>1</td>\n",
              "    </tr>\n",
              "    <tr>\n",
              "      <th>156</th>\n",
              "      <td>OH</td>\n",
              "      <td>83</td>\n",
              "      <td>415</td>\n",
              "      <td>No</td>\n",
              "      <td>No</td>\n",
              "      <td>0</td>\n",
              "      <td>337.4</td>\n",
              "      <td>120</td>\n",
              "      <td>57.36</td>\n",
              "      <td>227.4</td>\n",
              "      <td>116</td>\n",
              "      <td>19.33</td>\n",
              "      <td>153.9</td>\n",
              "      <td>114</td>\n",
              "      <td>6.93</td>\n",
              "      <td>15.8</td>\n",
              "      <td>7</td>\n",
              "      <td>4.27</td>\n",
              "      <td>0</td>\n",
              "      <td>1</td>\n",
              "    </tr>\n",
              "    <tr>\n",
              "      <th>605</th>\n",
              "      <td>MO</td>\n",
              "      <td>112</td>\n",
              "      <td>415</td>\n",
              "      <td>No</td>\n",
              "      <td>No</td>\n",
              "      <td>0</td>\n",
              "      <td>335.5</td>\n",
              "      <td>77</td>\n",
              "      <td>57.04</td>\n",
              "      <td>212.5</td>\n",
              "      <td>109</td>\n",
              "      <td>18.06</td>\n",
              "      <td>265.0</td>\n",
              "      <td>132</td>\n",
              "      <td>11.93</td>\n",
              "      <td>12.7</td>\n",
              "      <td>8</td>\n",
              "      <td>3.43</td>\n",
              "      <td>2</td>\n",
              "      <td>1</td>\n",
              "    </tr>\n",
              "  </tbody>\n",
              "</table>\n",
              "</div>\n",
              "      <button class=\"colab-df-convert\" onclick=\"convertToInteractive('df-39343de7-4b47-4172-ab26-f653bd9d991b')\"\n",
              "              title=\"Convert this dataframe to an interactive table.\"\n",
              "              style=\"display:none;\">\n",
              "        \n",
              "  <svg xmlns=\"http://www.w3.org/2000/svg\" height=\"24px\"viewBox=\"0 0 24 24\"\n",
              "       width=\"24px\">\n",
              "    <path d=\"M0 0h24v24H0V0z\" fill=\"none\"/>\n",
              "    <path d=\"M18.56 5.44l.94 2.06.94-2.06 2.06-.94-2.06-.94-.94-2.06-.94 2.06-2.06.94zm-11 1L8.5 8.5l.94-2.06 2.06-.94-2.06-.94L8.5 2.5l-.94 2.06-2.06.94zm10 10l.94 2.06.94-2.06 2.06-.94-2.06-.94-.94-2.06-.94 2.06-2.06.94z\"/><path d=\"M17.41 7.96l-1.37-1.37c-.4-.4-.92-.59-1.43-.59-.52 0-1.04.2-1.43.59L10.3 9.45l-7.72 7.72c-.78.78-.78 2.05 0 2.83L4 21.41c.39.39.9.59 1.41.59.51 0 1.02-.2 1.41-.59l7.78-7.78 2.81-2.81c.8-.78.8-2.07 0-2.86zM5.41 20L4 18.59l7.72-7.72 1.47 1.35L5.41 20z\"/>\n",
              "  </svg>\n",
              "      </button>\n",
              "      \n",
              "  <style>\n",
              "    .colab-df-container {\n",
              "      display:flex;\n",
              "      flex-wrap:wrap;\n",
              "      gap: 12px;\n",
              "    }\n",
              "\n",
              "    .colab-df-convert {\n",
              "      background-color: #E8F0FE;\n",
              "      border: none;\n",
              "      border-radius: 50%;\n",
              "      cursor: pointer;\n",
              "      display: none;\n",
              "      fill: #1967D2;\n",
              "      height: 32px;\n",
              "      padding: 0 0 0 0;\n",
              "      width: 32px;\n",
              "    }\n",
              "\n",
              "    .colab-df-convert:hover {\n",
              "      background-color: #E2EBFA;\n",
              "      box-shadow: 0px 1px 2px rgba(60, 64, 67, 0.3), 0px 1px 3px 1px rgba(60, 64, 67, 0.15);\n",
              "      fill: #174EA6;\n",
              "    }\n",
              "\n",
              "    [theme=dark] .colab-df-convert {\n",
              "      background-color: #3B4455;\n",
              "      fill: #D2E3FC;\n",
              "    }\n",
              "\n",
              "    [theme=dark] .colab-df-convert:hover {\n",
              "      background-color: #434B5C;\n",
              "      box-shadow: 0px 1px 3px 1px rgba(0, 0, 0, 0.15);\n",
              "      filter: drop-shadow(0px 1px 2px rgba(0, 0, 0, 0.3));\n",
              "      fill: #FFFFFF;\n",
              "    }\n",
              "  </style>\n",
              "\n",
              "      <script>\n",
              "        const buttonEl =\n",
              "          document.querySelector('#df-39343de7-4b47-4172-ab26-f653bd9d991b button.colab-df-convert');\n",
              "        buttonEl.style.display =\n",
              "          google.colab.kernel.accessAllowed ? 'block' : 'none';\n",
              "\n",
              "        async function convertToInteractive(key) {\n",
              "          const element = document.querySelector('#df-39343de7-4b47-4172-ab26-f653bd9d991b');\n",
              "          const dataTable =\n",
              "            await google.colab.kernel.invokeFunction('convertToInteractive',\n",
              "                                                     [key], {});\n",
              "          if (!dataTable) return;\n",
              "\n",
              "          const docLinkHtml = 'Like what you see? Visit the ' +\n",
              "            '<a target=\"_blank\" href=https://colab.research.google.com/notebooks/data_table.ipynb>data table notebook</a>'\n",
              "            + ' to learn more about interactive tables.';\n",
              "          element.innerHTML = '';\n",
              "          dataTable['output_type'] = 'display_data';\n",
              "          await google.colab.output.renderOutput(dataTable, element);\n",
              "          const docLink = document.createElement('div');\n",
              "          docLink.innerHTML = docLinkHtml;\n",
              "          element.appendChild(docLink);\n",
              "        }\n",
              "      </script>\n",
              "    </div>\n",
              "  </div>\n",
              "  "
            ]
          },
          "metadata": {},
          "execution_count": 25
        }
      ]
    },
    {
      "cell_type": "code",
      "source": [
        "df.sort_values(by=['Total day charge','Churn'],ascending=[False,True]).head()"
      ],
      "metadata": {
        "colab": {
          "base_uri": "https://localhost:8080/",
          "height": 305
        },
        "id": "R3QLcqZDSNci",
        "outputId": "76681a65-bb47-4ece-85b9-547ed2d72992"
      },
      "execution_count": null,
      "outputs": [
        {
          "output_type": "execute_result",
          "data": {
            "text/plain": [
              "     State  Account length  Area code International plan Voice mail plan  \\\n",
              "365     CO             154        415                 No              No   \n",
              "985     NY              64        415                Yes              No   \n",
              "2594    OH             115        510                Yes              No   \n",
              "156     OH              83        415                 No              No   \n",
              "605     MO             112        415                 No              No   \n",
              "\n",
              "      Number vmail messages  Total day minutes  Total day calls  \\\n",
              "365                       0              350.8               75   \n",
              "985                       0              346.8               55   \n",
              "2594                      0              345.3               81   \n",
              "156                       0              337.4              120   \n",
              "605                       0              335.5               77   \n",
              "\n",
              "      Total day charge  Total eve minutes  Total eve calls  Total eve charge  \\\n",
              "365              59.64              216.5               94             18.40   \n",
              "985              58.96              249.5               79             21.21   \n",
              "2594             58.70              203.4              106             17.29   \n",
              "156              57.36              227.4              116             19.33   \n",
              "605              57.04              212.5              109             18.06   \n",
              "\n",
              "      Total night minutes  Total night calls  Total night charge  \\\n",
              "365                 253.9                100               11.43   \n",
              "985                 275.4                102               12.39   \n",
              "2594                217.5                107                9.79   \n",
              "156                 153.9                114                6.93   \n",
              "605                 265.0                132               11.93   \n",
              "\n",
              "      Total intl minutes  Total intl calls  Total intl charge  \\\n",
              "365                 10.1                 9               2.73   \n",
              "985                 13.3                 9               3.59   \n",
              "2594                11.8                 8               3.19   \n",
              "156                 15.8                 7               4.27   \n",
              "605                 12.7                 8               3.43   \n",
              "\n",
              "      Customer service calls  Churn  \n",
              "365                        1      1  \n",
              "985                        1      1  \n",
              "2594                       1      1  \n",
              "156                        0      1  \n",
              "605                        2      1  "
            ],
            "text/html": [
              "\n",
              "  <div id=\"df-9306100d-64a5-46f9-b748-2b2da11d3c4b\">\n",
              "    <div class=\"colab-df-container\">\n",
              "      <div>\n",
              "<style scoped>\n",
              "    .dataframe tbody tr th:only-of-type {\n",
              "        vertical-align: middle;\n",
              "    }\n",
              "\n",
              "    .dataframe tbody tr th {\n",
              "        vertical-align: top;\n",
              "    }\n",
              "\n",
              "    .dataframe thead th {\n",
              "        text-align: right;\n",
              "    }\n",
              "</style>\n",
              "<table border=\"1\" class=\"dataframe\">\n",
              "  <thead>\n",
              "    <tr style=\"text-align: right;\">\n",
              "      <th></th>\n",
              "      <th>State</th>\n",
              "      <th>Account length</th>\n",
              "      <th>Area code</th>\n",
              "      <th>International plan</th>\n",
              "      <th>Voice mail plan</th>\n",
              "      <th>Number vmail messages</th>\n",
              "      <th>Total day minutes</th>\n",
              "      <th>Total day calls</th>\n",
              "      <th>Total day charge</th>\n",
              "      <th>Total eve minutes</th>\n",
              "      <th>Total eve calls</th>\n",
              "      <th>Total eve charge</th>\n",
              "      <th>Total night minutes</th>\n",
              "      <th>Total night calls</th>\n",
              "      <th>Total night charge</th>\n",
              "      <th>Total intl minutes</th>\n",
              "      <th>Total intl calls</th>\n",
              "      <th>Total intl charge</th>\n",
              "      <th>Customer service calls</th>\n",
              "      <th>Churn</th>\n",
              "    </tr>\n",
              "  </thead>\n",
              "  <tbody>\n",
              "    <tr>\n",
              "      <th>365</th>\n",
              "      <td>CO</td>\n",
              "      <td>154</td>\n",
              "      <td>415</td>\n",
              "      <td>No</td>\n",
              "      <td>No</td>\n",
              "      <td>0</td>\n",
              "      <td>350.8</td>\n",
              "      <td>75</td>\n",
              "      <td>59.64</td>\n",
              "      <td>216.5</td>\n",
              "      <td>94</td>\n",
              "      <td>18.40</td>\n",
              "      <td>253.9</td>\n",
              "      <td>100</td>\n",
              "      <td>11.43</td>\n",
              "      <td>10.1</td>\n",
              "      <td>9</td>\n",
              "      <td>2.73</td>\n",
              "      <td>1</td>\n",
              "      <td>1</td>\n",
              "    </tr>\n",
              "    <tr>\n",
              "      <th>985</th>\n",
              "      <td>NY</td>\n",
              "      <td>64</td>\n",
              "      <td>415</td>\n",
              "      <td>Yes</td>\n",
              "      <td>No</td>\n",
              "      <td>0</td>\n",
              "      <td>346.8</td>\n",
              "      <td>55</td>\n",
              "      <td>58.96</td>\n",
              "      <td>249.5</td>\n",
              "      <td>79</td>\n",
              "      <td>21.21</td>\n",
              "      <td>275.4</td>\n",
              "      <td>102</td>\n",
              "      <td>12.39</td>\n",
              "      <td>13.3</td>\n",
              "      <td>9</td>\n",
              "      <td>3.59</td>\n",
              "      <td>1</td>\n",
              "      <td>1</td>\n",
              "    </tr>\n",
              "    <tr>\n",
              "      <th>2594</th>\n",
              "      <td>OH</td>\n",
              "      <td>115</td>\n",
              "      <td>510</td>\n",
              "      <td>Yes</td>\n",
              "      <td>No</td>\n",
              "      <td>0</td>\n",
              "      <td>345.3</td>\n",
              "      <td>81</td>\n",
              "      <td>58.70</td>\n",
              "      <td>203.4</td>\n",
              "      <td>106</td>\n",
              "      <td>17.29</td>\n",
              "      <td>217.5</td>\n",
              "      <td>107</td>\n",
              "      <td>9.79</td>\n",
              "      <td>11.8</td>\n",
              "      <td>8</td>\n",
              "      <td>3.19</td>\n",
              "      <td>1</td>\n",
              "      <td>1</td>\n",
              "    </tr>\n",
              "    <tr>\n",
              "      <th>156</th>\n",
              "      <td>OH</td>\n",
              "      <td>83</td>\n",
              "      <td>415</td>\n",
              "      <td>No</td>\n",
              "      <td>No</td>\n",
              "      <td>0</td>\n",
              "      <td>337.4</td>\n",
              "      <td>120</td>\n",
              "      <td>57.36</td>\n",
              "      <td>227.4</td>\n",
              "      <td>116</td>\n",
              "      <td>19.33</td>\n",
              "      <td>153.9</td>\n",
              "      <td>114</td>\n",
              "      <td>6.93</td>\n",
              "      <td>15.8</td>\n",
              "      <td>7</td>\n",
              "      <td>4.27</td>\n",
              "      <td>0</td>\n",
              "      <td>1</td>\n",
              "    </tr>\n",
              "    <tr>\n",
              "      <th>605</th>\n",
              "      <td>MO</td>\n",
              "      <td>112</td>\n",
              "      <td>415</td>\n",
              "      <td>No</td>\n",
              "      <td>No</td>\n",
              "      <td>0</td>\n",
              "      <td>335.5</td>\n",
              "      <td>77</td>\n",
              "      <td>57.04</td>\n",
              "      <td>212.5</td>\n",
              "      <td>109</td>\n",
              "      <td>18.06</td>\n",
              "      <td>265.0</td>\n",
              "      <td>132</td>\n",
              "      <td>11.93</td>\n",
              "      <td>12.7</td>\n",
              "      <td>8</td>\n",
              "      <td>3.43</td>\n",
              "      <td>2</td>\n",
              "      <td>1</td>\n",
              "    </tr>\n",
              "  </tbody>\n",
              "</table>\n",
              "</div>\n",
              "      <button class=\"colab-df-convert\" onclick=\"convertToInteractive('df-9306100d-64a5-46f9-b748-2b2da11d3c4b')\"\n",
              "              title=\"Convert this dataframe to an interactive table.\"\n",
              "              style=\"display:none;\">\n",
              "        \n",
              "  <svg xmlns=\"http://www.w3.org/2000/svg\" height=\"24px\"viewBox=\"0 0 24 24\"\n",
              "       width=\"24px\">\n",
              "    <path d=\"M0 0h24v24H0V0z\" fill=\"none\"/>\n",
              "    <path d=\"M18.56 5.44l.94 2.06.94-2.06 2.06-.94-2.06-.94-.94-2.06-.94 2.06-2.06.94zm-11 1L8.5 8.5l.94-2.06 2.06-.94-2.06-.94L8.5 2.5l-.94 2.06-2.06.94zm10 10l.94 2.06.94-2.06 2.06-.94-2.06-.94-.94-2.06-.94 2.06-2.06.94z\"/><path d=\"M17.41 7.96l-1.37-1.37c-.4-.4-.92-.59-1.43-.59-.52 0-1.04.2-1.43.59L10.3 9.45l-7.72 7.72c-.78.78-.78 2.05 0 2.83L4 21.41c.39.39.9.59 1.41.59.51 0 1.02-.2 1.41-.59l7.78-7.78 2.81-2.81c.8-.78.8-2.07 0-2.86zM5.41 20L4 18.59l7.72-7.72 1.47 1.35L5.41 20z\"/>\n",
              "  </svg>\n",
              "      </button>\n",
              "      \n",
              "  <style>\n",
              "    .colab-df-container {\n",
              "      display:flex;\n",
              "      flex-wrap:wrap;\n",
              "      gap: 12px;\n",
              "    }\n",
              "\n",
              "    .colab-df-convert {\n",
              "      background-color: #E8F0FE;\n",
              "      border: none;\n",
              "      border-radius: 50%;\n",
              "      cursor: pointer;\n",
              "      display: none;\n",
              "      fill: #1967D2;\n",
              "      height: 32px;\n",
              "      padding: 0 0 0 0;\n",
              "      width: 32px;\n",
              "    }\n",
              "\n",
              "    .colab-df-convert:hover {\n",
              "      background-color: #E2EBFA;\n",
              "      box-shadow: 0px 1px 2px rgba(60, 64, 67, 0.3), 0px 1px 3px 1px rgba(60, 64, 67, 0.15);\n",
              "      fill: #174EA6;\n",
              "    }\n",
              "\n",
              "    [theme=dark] .colab-df-convert {\n",
              "      background-color: #3B4455;\n",
              "      fill: #D2E3FC;\n",
              "    }\n",
              "\n",
              "    [theme=dark] .colab-df-convert:hover {\n",
              "      background-color: #434B5C;\n",
              "      box-shadow: 0px 1px 3px 1px rgba(0, 0, 0, 0.15);\n",
              "      filter: drop-shadow(0px 1px 2px rgba(0, 0, 0, 0.3));\n",
              "      fill: #FFFFFF;\n",
              "    }\n",
              "  </style>\n",
              "\n",
              "      <script>\n",
              "        const buttonEl =\n",
              "          document.querySelector('#df-9306100d-64a5-46f9-b748-2b2da11d3c4b button.colab-df-convert');\n",
              "        buttonEl.style.display =\n",
              "          google.colab.kernel.accessAllowed ? 'block' : 'none';\n",
              "\n",
              "        async function convertToInteractive(key) {\n",
              "          const element = document.querySelector('#df-9306100d-64a5-46f9-b748-2b2da11d3c4b');\n",
              "          const dataTable =\n",
              "            await google.colab.kernel.invokeFunction('convertToInteractive',\n",
              "                                                     [key], {});\n",
              "          if (!dataTable) return;\n",
              "\n",
              "          const docLinkHtml = 'Like what you see? Visit the ' +\n",
              "            '<a target=\"_blank\" href=https://colab.research.google.com/notebooks/data_table.ipynb>data table notebook</a>'\n",
              "            + ' to learn more about interactive tables.';\n",
              "          element.innerHTML = '';\n",
              "          dataTable['output_type'] = 'display_data';\n",
              "          await google.colab.output.renderOutput(dataTable, element);\n",
              "          const docLink = document.createElement('div');\n",
              "          docLink.innerHTML = docLinkHtml;\n",
              "          element.appendChild(docLink);\n",
              "        }\n",
              "      </script>\n",
              "    </div>\n",
              "  </div>\n",
              "  "
            ]
          },
          "metadata": {},
          "execution_count": 27
        }
      ]
    },
    {
      "cell_type": "code",
      "source": [
        "df[(df['Churn'] == 0) & (df['Voice mail plan']=='No')]['Number vmail messages'].max()"
      ],
      "metadata": {
        "colab": {
          "base_uri": "https://localhost:8080/"
        },
        "id": "ygXG_ewISzmJ",
        "outputId": "69ff6e44-24b0-4eb1-89e1-d9fd8f31415a"
      },
      "execution_count": null,
      "outputs": [
        {
          "output_type": "execute_result",
          "data": {
            "text/plain": [
              "0"
            ]
          },
          "metadata": {},
          "execution_count": 50
        }
      ]
    },
    {
      "cell_type": "code",
      "source": [
        "df[(df['Churn'] == 1) & (df['Voice mail plan']=='No')]['Number vmail messages'].max()"
      ],
      "metadata": {
        "colab": {
          "base_uri": "https://localhost:8080/"
        },
        "id": "fUaR7v-BWoRm",
        "outputId": "f165c9be-71fd-44b3-ede7-678d0a156ad4"
      },
      "execution_count": null,
      "outputs": [
        {
          "output_type": "execute_result",
          "data": {
            "text/plain": [
              "0"
            ]
          },
          "metadata": {},
          "execution_count": 51
        }
      ]
    },
    {
      "cell_type": "code",
      "source": [
        "df.columns"
      ],
      "metadata": {
        "colab": {
          "base_uri": "https://localhost:8080/"
        },
        "id": "ilt-KkdiUiga",
        "outputId": "0241deb9-3bcb-4f72-afe3-b1ed76603966"
      },
      "execution_count": null,
      "outputs": [
        {
          "output_type": "execute_result",
          "data": {
            "text/plain": [
              "Index(['State', 'Account length', 'Area code', 'International plan',\n",
              "       'Voice mail plan', 'Number vmail messages', 'Total day minutes',\n",
              "       'Total day calls', 'Total day charge', 'Total eve minutes',\n",
              "       'Total eve calls', 'Total eve charge', 'Total night minutes',\n",
              "       'Total night calls', 'Total night charge', 'Total intl minutes',\n",
              "       'Total intl calls', 'Total intl charge', 'Customer service calls',\n",
              "       'Churn'],\n",
              "      dtype='object')"
            ]
          },
          "metadata": {},
          "execution_count": 33
        }
      ]
    },
    {
      "cell_type": "code",
      "source": [
        "df.iloc[0:5,8:18]"
      ],
      "metadata": {
        "colab": {
          "base_uri": "https://localhost:8080/",
          "height": 285
        },
        "id": "SMX5pKxxUouh",
        "outputId": "fddbfa8a-7ea6-4990-c868-c14b401702ef"
      },
      "execution_count": null,
      "outputs": [
        {
          "output_type": "execute_result",
          "data": {
            "text/plain": [
              "   Total day charge  Total eve minutes  Total eve calls  Total eve charge  \\\n",
              "0             45.07              197.4               99             16.78   \n",
              "1             27.47              195.5              103             16.62   \n",
              "2             41.38              121.2              110             10.30   \n",
              "3             50.90               61.9               88              5.26   \n",
              "4             28.34              148.3              122             12.61   \n",
              "\n",
              "   Total night minutes  Total night calls  Total night charge  \\\n",
              "0                244.7                 91               11.01   \n",
              "1                254.4                103               11.45   \n",
              "2                162.6                104                7.32   \n",
              "3                196.9                 89                8.86   \n",
              "4                186.9                121                8.41   \n",
              "\n",
              "   Total intl minutes  Total intl calls  Total intl charge  \n",
              "0                10.0                 3               2.70  \n",
              "1                13.7                 3               3.70  \n",
              "2                12.2                 5               3.29  \n",
              "3                 6.6                 7               1.78  \n",
              "4                10.1                 3               2.73  "
            ],
            "text/html": [
              "\n",
              "  <div id=\"df-b5e3e8bd-6cbf-4b90-8bb2-4c1920ed1a6e\">\n",
              "    <div class=\"colab-df-container\">\n",
              "      <div>\n",
              "<style scoped>\n",
              "    .dataframe tbody tr th:only-of-type {\n",
              "        vertical-align: middle;\n",
              "    }\n",
              "\n",
              "    .dataframe tbody tr th {\n",
              "        vertical-align: top;\n",
              "    }\n",
              "\n",
              "    .dataframe thead th {\n",
              "        text-align: right;\n",
              "    }\n",
              "</style>\n",
              "<table border=\"1\" class=\"dataframe\">\n",
              "  <thead>\n",
              "    <tr style=\"text-align: right;\">\n",
              "      <th></th>\n",
              "      <th>Total day charge</th>\n",
              "      <th>Total eve minutes</th>\n",
              "      <th>Total eve calls</th>\n",
              "      <th>Total eve charge</th>\n",
              "      <th>Total night minutes</th>\n",
              "      <th>Total night calls</th>\n",
              "      <th>Total night charge</th>\n",
              "      <th>Total intl minutes</th>\n",
              "      <th>Total intl calls</th>\n",
              "      <th>Total intl charge</th>\n",
              "    </tr>\n",
              "  </thead>\n",
              "  <tbody>\n",
              "    <tr>\n",
              "      <th>0</th>\n",
              "      <td>45.07</td>\n",
              "      <td>197.4</td>\n",
              "      <td>99</td>\n",
              "      <td>16.78</td>\n",
              "      <td>244.7</td>\n",
              "      <td>91</td>\n",
              "      <td>11.01</td>\n",
              "      <td>10.0</td>\n",
              "      <td>3</td>\n",
              "      <td>2.70</td>\n",
              "    </tr>\n",
              "    <tr>\n",
              "      <th>1</th>\n",
              "      <td>27.47</td>\n",
              "      <td>195.5</td>\n",
              "      <td>103</td>\n",
              "      <td>16.62</td>\n",
              "      <td>254.4</td>\n",
              "      <td>103</td>\n",
              "      <td>11.45</td>\n",
              "      <td>13.7</td>\n",
              "      <td>3</td>\n",
              "      <td>3.70</td>\n",
              "    </tr>\n",
              "    <tr>\n",
              "      <th>2</th>\n",
              "      <td>41.38</td>\n",
              "      <td>121.2</td>\n",
              "      <td>110</td>\n",
              "      <td>10.30</td>\n",
              "      <td>162.6</td>\n",
              "      <td>104</td>\n",
              "      <td>7.32</td>\n",
              "      <td>12.2</td>\n",
              "      <td>5</td>\n",
              "      <td>3.29</td>\n",
              "    </tr>\n",
              "    <tr>\n",
              "      <th>3</th>\n",
              "      <td>50.90</td>\n",
              "      <td>61.9</td>\n",
              "      <td>88</td>\n",
              "      <td>5.26</td>\n",
              "      <td>196.9</td>\n",
              "      <td>89</td>\n",
              "      <td>8.86</td>\n",
              "      <td>6.6</td>\n",
              "      <td>7</td>\n",
              "      <td>1.78</td>\n",
              "    </tr>\n",
              "    <tr>\n",
              "      <th>4</th>\n",
              "      <td>28.34</td>\n",
              "      <td>148.3</td>\n",
              "      <td>122</td>\n",
              "      <td>12.61</td>\n",
              "      <td>186.9</td>\n",
              "      <td>121</td>\n",
              "      <td>8.41</td>\n",
              "      <td>10.1</td>\n",
              "      <td>3</td>\n",
              "      <td>2.73</td>\n",
              "    </tr>\n",
              "  </tbody>\n",
              "</table>\n",
              "</div>\n",
              "      <button class=\"colab-df-convert\" onclick=\"convertToInteractive('df-b5e3e8bd-6cbf-4b90-8bb2-4c1920ed1a6e')\"\n",
              "              title=\"Convert this dataframe to an interactive table.\"\n",
              "              style=\"display:none;\">\n",
              "        \n",
              "  <svg xmlns=\"http://www.w3.org/2000/svg\" height=\"24px\"viewBox=\"0 0 24 24\"\n",
              "       width=\"24px\">\n",
              "    <path d=\"M0 0h24v24H0V0z\" fill=\"none\"/>\n",
              "    <path d=\"M18.56 5.44l.94 2.06.94-2.06 2.06-.94-2.06-.94-.94-2.06-.94 2.06-2.06.94zm-11 1L8.5 8.5l.94-2.06 2.06-.94-2.06-.94L8.5 2.5l-.94 2.06-2.06.94zm10 10l.94 2.06.94-2.06 2.06-.94-2.06-.94-.94-2.06-.94 2.06-2.06.94z\"/><path d=\"M17.41 7.96l-1.37-1.37c-.4-.4-.92-.59-1.43-.59-.52 0-1.04.2-1.43.59L10.3 9.45l-7.72 7.72c-.78.78-.78 2.05 0 2.83L4 21.41c.39.39.9.59 1.41.59.51 0 1.02-.2 1.41-.59l7.78-7.78 2.81-2.81c.8-.78.8-2.07 0-2.86zM5.41 20L4 18.59l7.72-7.72 1.47 1.35L5.41 20z\"/>\n",
              "  </svg>\n",
              "      </button>\n",
              "      \n",
              "  <style>\n",
              "    .colab-df-container {\n",
              "      display:flex;\n",
              "      flex-wrap:wrap;\n",
              "      gap: 12px;\n",
              "    }\n",
              "\n",
              "    .colab-df-convert {\n",
              "      background-color: #E8F0FE;\n",
              "      border: none;\n",
              "      border-radius: 50%;\n",
              "      cursor: pointer;\n",
              "      display: none;\n",
              "      fill: #1967D2;\n",
              "      height: 32px;\n",
              "      padding: 0 0 0 0;\n",
              "      width: 32px;\n",
              "    }\n",
              "\n",
              "    .colab-df-convert:hover {\n",
              "      background-color: #E2EBFA;\n",
              "      box-shadow: 0px 1px 2px rgba(60, 64, 67, 0.3), 0px 1px 3px 1px rgba(60, 64, 67, 0.15);\n",
              "      fill: #174EA6;\n",
              "    }\n",
              "\n",
              "    [theme=dark] .colab-df-convert {\n",
              "      background-color: #3B4455;\n",
              "      fill: #D2E3FC;\n",
              "    }\n",
              "\n",
              "    [theme=dark] .colab-df-convert:hover {\n",
              "      background-color: #434B5C;\n",
              "      box-shadow: 0px 1px 3px 1px rgba(0, 0, 0, 0.15);\n",
              "      filter: drop-shadow(0px 1px 2px rgba(0, 0, 0, 0.3));\n",
              "      fill: #FFFFFF;\n",
              "    }\n",
              "  </style>\n",
              "\n",
              "      <script>\n",
              "        const buttonEl =\n",
              "          document.querySelector('#df-b5e3e8bd-6cbf-4b90-8bb2-4c1920ed1a6e button.colab-df-convert');\n",
              "        buttonEl.style.display =\n",
              "          google.colab.kernel.accessAllowed ? 'block' : 'none';\n",
              "\n",
              "        async function convertToInteractive(key) {\n",
              "          const element = document.querySelector('#df-b5e3e8bd-6cbf-4b90-8bb2-4c1920ed1a6e');\n",
              "          const dataTable =\n",
              "            await google.colab.kernel.invokeFunction('convertToInteractive',\n",
              "                                                     [key], {});\n",
              "          if (!dataTable) return;\n",
              "\n",
              "          const docLinkHtml = 'Like what you see? Visit the ' +\n",
              "            '<a target=\"_blank\" href=https://colab.research.google.com/notebooks/data_table.ipynb>data table notebook</a>'\n",
              "            + ' to learn more about interactive tables.';\n",
              "          element.innerHTML = '';\n",
              "          dataTable['output_type'] = 'display_data';\n",
              "          await google.colab.output.renderOutput(dataTable, element);\n",
              "          const docLink = document.createElement('div');\n",
              "          docLink.innerHTML = docLinkHtml;\n",
              "          element.appendChild(docLink);\n",
              "        }\n",
              "      </script>\n",
              "    </div>\n",
              "  </div>\n",
              "  "
            ]
          },
          "metadata": {},
          "execution_count": 40
        }
      ]
    },
    {
      "cell_type": "code",
      "source": [
        "df[2:]"
      ],
      "metadata": {
        "colab": {
          "base_uri": "https://localhost:8080/",
          "height": 522
        },
        "id": "rQIMVa9hVF_M",
        "outputId": "eae0223d-362b-48b5-e3cf-4f572c195a1e"
      },
      "execution_count": null,
      "outputs": [
        {
          "output_type": "execute_result",
          "data": {
            "text/plain": [
              "     State  Account length  Area code International plan Voice mail plan  \\\n",
              "2       NJ             137        415                 No              No   \n",
              "3       OH              84        408                Yes              No   \n",
              "4       OK              75        415                Yes              No   \n",
              "5       AL             118        510                Yes              No   \n",
              "6       MA             121        510                 No             Yes   \n",
              "...    ...             ...        ...                ...             ...   \n",
              "3328    AZ             192        415                 No             Yes   \n",
              "3329    WV              68        415                 No              No   \n",
              "3330    RI              28        510                 No              No   \n",
              "3331    CT             184        510                Yes              No   \n",
              "3332    TN              74        415                 No             Yes   \n",
              "\n",
              "      Number vmail messages  Total day minutes  Total day calls  \\\n",
              "2                         0              243.4              114   \n",
              "3                         0              299.4               71   \n",
              "4                         0              166.7              113   \n",
              "5                         0              223.4               98   \n",
              "6                        24              218.2               88   \n",
              "...                     ...                ...              ...   \n",
              "3328                     36              156.2               77   \n",
              "3329                      0              231.1               57   \n",
              "3330                      0              180.8              109   \n",
              "3331                      0              213.8              105   \n",
              "3332                     25              234.4              113   \n",
              "\n",
              "      Total day charge  Total eve minutes  Total eve calls  Total eve charge  \\\n",
              "2                41.38              121.2              110             10.30   \n",
              "3                50.90               61.9               88              5.26   \n",
              "4                28.34              148.3              122             12.61   \n",
              "5                37.98              220.6              101             18.75   \n",
              "6                37.09              348.5              108             29.62   \n",
              "...                ...                ...              ...               ...   \n",
              "3328             26.55              215.5              126             18.32   \n",
              "3329             39.29              153.4               55             13.04   \n",
              "3330             30.74              288.8               58             24.55   \n",
              "3331             36.35              159.6               84             13.57   \n",
              "3332             39.85              265.9               82             22.60   \n",
              "\n",
              "      Total night minutes  Total night calls  Total night charge  \\\n",
              "2                   162.6                104                7.32   \n",
              "3                   196.9                 89                8.86   \n",
              "4                   186.9                121                8.41   \n",
              "5                   203.9                118                9.18   \n",
              "6                   212.6                118                9.57   \n",
              "...                   ...                ...                 ...   \n",
              "3328                279.1                 83               12.56   \n",
              "3329                191.3                123                8.61   \n",
              "3330                191.9                 91                8.64   \n",
              "3331                139.2                137                6.26   \n",
              "3332                241.4                 77               10.86   \n",
              "\n",
              "      Total intl minutes  Total intl calls  Total intl charge  \\\n",
              "2                   12.2                 5               3.29   \n",
              "3                    6.6                 7               1.78   \n",
              "4                   10.1                 3               2.73   \n",
              "5                    6.3                 6               1.70   \n",
              "6                    7.5                 7               2.03   \n",
              "...                  ...               ...                ...   \n",
              "3328                 9.9                 6               2.67   \n",
              "3329                 9.6                 4               2.59   \n",
              "3330                14.1                 6               3.81   \n",
              "3331                 5.0                10               1.35   \n",
              "3332                13.7                 4               3.70   \n",
              "\n",
              "      Customer service calls  Churn  \n",
              "2                          0      0  \n",
              "3                          2      0  \n",
              "4                          3      0  \n",
              "5                          0      0  \n",
              "6                          3      0  \n",
              "...                      ...    ...  \n",
              "3328                       2      0  \n",
              "3329                       3      0  \n",
              "3330                       2      0  \n",
              "3331                       2      0  \n",
              "3332                       0      0  \n",
              "\n",
              "[3331 rows x 20 columns]"
            ],
            "text/html": [
              "\n",
              "  <div id=\"df-1074ca30-2e28-45a7-b11a-ffbf11b6322e\">\n",
              "    <div class=\"colab-df-container\">\n",
              "      <div>\n",
              "<style scoped>\n",
              "    .dataframe tbody tr th:only-of-type {\n",
              "        vertical-align: middle;\n",
              "    }\n",
              "\n",
              "    .dataframe tbody tr th {\n",
              "        vertical-align: top;\n",
              "    }\n",
              "\n",
              "    .dataframe thead th {\n",
              "        text-align: right;\n",
              "    }\n",
              "</style>\n",
              "<table border=\"1\" class=\"dataframe\">\n",
              "  <thead>\n",
              "    <tr style=\"text-align: right;\">\n",
              "      <th></th>\n",
              "      <th>State</th>\n",
              "      <th>Account length</th>\n",
              "      <th>Area code</th>\n",
              "      <th>International plan</th>\n",
              "      <th>Voice mail plan</th>\n",
              "      <th>Number vmail messages</th>\n",
              "      <th>Total day minutes</th>\n",
              "      <th>Total day calls</th>\n",
              "      <th>Total day charge</th>\n",
              "      <th>Total eve minutes</th>\n",
              "      <th>Total eve calls</th>\n",
              "      <th>Total eve charge</th>\n",
              "      <th>Total night minutes</th>\n",
              "      <th>Total night calls</th>\n",
              "      <th>Total night charge</th>\n",
              "      <th>Total intl minutes</th>\n",
              "      <th>Total intl calls</th>\n",
              "      <th>Total intl charge</th>\n",
              "      <th>Customer service calls</th>\n",
              "      <th>Churn</th>\n",
              "    </tr>\n",
              "  </thead>\n",
              "  <tbody>\n",
              "    <tr>\n",
              "      <th>2</th>\n",
              "      <td>NJ</td>\n",
              "      <td>137</td>\n",
              "      <td>415</td>\n",
              "      <td>No</td>\n",
              "      <td>No</td>\n",
              "      <td>0</td>\n",
              "      <td>243.4</td>\n",
              "      <td>114</td>\n",
              "      <td>41.38</td>\n",
              "      <td>121.2</td>\n",
              "      <td>110</td>\n",
              "      <td>10.30</td>\n",
              "      <td>162.6</td>\n",
              "      <td>104</td>\n",
              "      <td>7.32</td>\n",
              "      <td>12.2</td>\n",
              "      <td>5</td>\n",
              "      <td>3.29</td>\n",
              "      <td>0</td>\n",
              "      <td>0</td>\n",
              "    </tr>\n",
              "    <tr>\n",
              "      <th>3</th>\n",
              "      <td>OH</td>\n",
              "      <td>84</td>\n",
              "      <td>408</td>\n",
              "      <td>Yes</td>\n",
              "      <td>No</td>\n",
              "      <td>0</td>\n",
              "      <td>299.4</td>\n",
              "      <td>71</td>\n",
              "      <td>50.90</td>\n",
              "      <td>61.9</td>\n",
              "      <td>88</td>\n",
              "      <td>5.26</td>\n",
              "      <td>196.9</td>\n",
              "      <td>89</td>\n",
              "      <td>8.86</td>\n",
              "      <td>6.6</td>\n",
              "      <td>7</td>\n",
              "      <td>1.78</td>\n",
              "      <td>2</td>\n",
              "      <td>0</td>\n",
              "    </tr>\n",
              "    <tr>\n",
              "      <th>4</th>\n",
              "      <td>OK</td>\n",
              "      <td>75</td>\n",
              "      <td>415</td>\n",
              "      <td>Yes</td>\n",
              "      <td>No</td>\n",
              "      <td>0</td>\n",
              "      <td>166.7</td>\n",
              "      <td>113</td>\n",
              "      <td>28.34</td>\n",
              "      <td>148.3</td>\n",
              "      <td>122</td>\n",
              "      <td>12.61</td>\n",
              "      <td>186.9</td>\n",
              "      <td>121</td>\n",
              "      <td>8.41</td>\n",
              "      <td>10.1</td>\n",
              "      <td>3</td>\n",
              "      <td>2.73</td>\n",
              "      <td>3</td>\n",
              "      <td>0</td>\n",
              "    </tr>\n",
              "    <tr>\n",
              "      <th>5</th>\n",
              "      <td>AL</td>\n",
              "      <td>118</td>\n",
              "      <td>510</td>\n",
              "      <td>Yes</td>\n",
              "      <td>No</td>\n",
              "      <td>0</td>\n",
              "      <td>223.4</td>\n",
              "      <td>98</td>\n",
              "      <td>37.98</td>\n",
              "      <td>220.6</td>\n",
              "      <td>101</td>\n",
              "      <td>18.75</td>\n",
              "      <td>203.9</td>\n",
              "      <td>118</td>\n",
              "      <td>9.18</td>\n",
              "      <td>6.3</td>\n",
              "      <td>6</td>\n",
              "      <td>1.70</td>\n",
              "      <td>0</td>\n",
              "      <td>0</td>\n",
              "    </tr>\n",
              "    <tr>\n",
              "      <th>6</th>\n",
              "      <td>MA</td>\n",
              "      <td>121</td>\n",
              "      <td>510</td>\n",
              "      <td>No</td>\n",
              "      <td>Yes</td>\n",
              "      <td>24</td>\n",
              "      <td>218.2</td>\n",
              "      <td>88</td>\n",
              "      <td>37.09</td>\n",
              "      <td>348.5</td>\n",
              "      <td>108</td>\n",
              "      <td>29.62</td>\n",
              "      <td>212.6</td>\n",
              "      <td>118</td>\n",
              "      <td>9.57</td>\n",
              "      <td>7.5</td>\n",
              "      <td>7</td>\n",
              "      <td>2.03</td>\n",
              "      <td>3</td>\n",
              "      <td>0</td>\n",
              "    </tr>\n",
              "    <tr>\n",
              "      <th>...</th>\n",
              "      <td>...</td>\n",
              "      <td>...</td>\n",
              "      <td>...</td>\n",
              "      <td>...</td>\n",
              "      <td>...</td>\n",
              "      <td>...</td>\n",
              "      <td>...</td>\n",
              "      <td>...</td>\n",
              "      <td>...</td>\n",
              "      <td>...</td>\n",
              "      <td>...</td>\n",
              "      <td>...</td>\n",
              "      <td>...</td>\n",
              "      <td>...</td>\n",
              "      <td>...</td>\n",
              "      <td>...</td>\n",
              "      <td>...</td>\n",
              "      <td>...</td>\n",
              "      <td>...</td>\n",
              "      <td>...</td>\n",
              "    </tr>\n",
              "    <tr>\n",
              "      <th>3328</th>\n",
              "      <td>AZ</td>\n",
              "      <td>192</td>\n",
              "      <td>415</td>\n",
              "      <td>No</td>\n",
              "      <td>Yes</td>\n",
              "      <td>36</td>\n",
              "      <td>156.2</td>\n",
              "      <td>77</td>\n",
              "      <td>26.55</td>\n",
              "      <td>215.5</td>\n",
              "      <td>126</td>\n",
              "      <td>18.32</td>\n",
              "      <td>279.1</td>\n",
              "      <td>83</td>\n",
              "      <td>12.56</td>\n",
              "      <td>9.9</td>\n",
              "      <td>6</td>\n",
              "      <td>2.67</td>\n",
              "      <td>2</td>\n",
              "      <td>0</td>\n",
              "    </tr>\n",
              "    <tr>\n",
              "      <th>3329</th>\n",
              "      <td>WV</td>\n",
              "      <td>68</td>\n",
              "      <td>415</td>\n",
              "      <td>No</td>\n",
              "      <td>No</td>\n",
              "      <td>0</td>\n",
              "      <td>231.1</td>\n",
              "      <td>57</td>\n",
              "      <td>39.29</td>\n",
              "      <td>153.4</td>\n",
              "      <td>55</td>\n",
              "      <td>13.04</td>\n",
              "      <td>191.3</td>\n",
              "      <td>123</td>\n",
              "      <td>8.61</td>\n",
              "      <td>9.6</td>\n",
              "      <td>4</td>\n",
              "      <td>2.59</td>\n",
              "      <td>3</td>\n",
              "      <td>0</td>\n",
              "    </tr>\n",
              "    <tr>\n",
              "      <th>3330</th>\n",
              "      <td>RI</td>\n",
              "      <td>28</td>\n",
              "      <td>510</td>\n",
              "      <td>No</td>\n",
              "      <td>No</td>\n",
              "      <td>0</td>\n",
              "      <td>180.8</td>\n",
              "      <td>109</td>\n",
              "      <td>30.74</td>\n",
              "      <td>288.8</td>\n",
              "      <td>58</td>\n",
              "      <td>24.55</td>\n",
              "      <td>191.9</td>\n",
              "      <td>91</td>\n",
              "      <td>8.64</td>\n",
              "      <td>14.1</td>\n",
              "      <td>6</td>\n",
              "      <td>3.81</td>\n",
              "      <td>2</td>\n",
              "      <td>0</td>\n",
              "    </tr>\n",
              "    <tr>\n",
              "      <th>3331</th>\n",
              "      <td>CT</td>\n",
              "      <td>184</td>\n",
              "      <td>510</td>\n",
              "      <td>Yes</td>\n",
              "      <td>No</td>\n",
              "      <td>0</td>\n",
              "      <td>213.8</td>\n",
              "      <td>105</td>\n",
              "      <td>36.35</td>\n",
              "      <td>159.6</td>\n",
              "      <td>84</td>\n",
              "      <td>13.57</td>\n",
              "      <td>139.2</td>\n",
              "      <td>137</td>\n",
              "      <td>6.26</td>\n",
              "      <td>5.0</td>\n",
              "      <td>10</td>\n",
              "      <td>1.35</td>\n",
              "      <td>2</td>\n",
              "      <td>0</td>\n",
              "    </tr>\n",
              "    <tr>\n",
              "      <th>3332</th>\n",
              "      <td>TN</td>\n",
              "      <td>74</td>\n",
              "      <td>415</td>\n",
              "      <td>No</td>\n",
              "      <td>Yes</td>\n",
              "      <td>25</td>\n",
              "      <td>234.4</td>\n",
              "      <td>113</td>\n",
              "      <td>39.85</td>\n",
              "      <td>265.9</td>\n",
              "      <td>82</td>\n",
              "      <td>22.60</td>\n",
              "      <td>241.4</td>\n",
              "      <td>77</td>\n",
              "      <td>10.86</td>\n",
              "      <td>13.7</td>\n",
              "      <td>4</td>\n",
              "      <td>3.70</td>\n",
              "      <td>0</td>\n",
              "      <td>0</td>\n",
              "    </tr>\n",
              "  </tbody>\n",
              "</table>\n",
              "<p>3331 rows × 20 columns</p>\n",
              "</div>\n",
              "      <button class=\"colab-df-convert\" onclick=\"convertToInteractive('df-1074ca30-2e28-45a7-b11a-ffbf11b6322e')\"\n",
              "              title=\"Convert this dataframe to an interactive table.\"\n",
              "              style=\"display:none;\">\n",
              "        \n",
              "  <svg xmlns=\"http://www.w3.org/2000/svg\" height=\"24px\"viewBox=\"0 0 24 24\"\n",
              "       width=\"24px\">\n",
              "    <path d=\"M0 0h24v24H0V0z\" fill=\"none\"/>\n",
              "    <path d=\"M18.56 5.44l.94 2.06.94-2.06 2.06-.94-2.06-.94-.94-2.06-.94 2.06-2.06.94zm-11 1L8.5 8.5l.94-2.06 2.06-.94-2.06-.94L8.5 2.5l-.94 2.06-2.06.94zm10 10l.94 2.06.94-2.06 2.06-.94-2.06-.94-.94-2.06-.94 2.06-2.06.94z\"/><path d=\"M17.41 7.96l-1.37-1.37c-.4-.4-.92-.59-1.43-.59-.52 0-1.04.2-1.43.59L10.3 9.45l-7.72 7.72c-.78.78-.78 2.05 0 2.83L4 21.41c.39.39.9.59 1.41.59.51 0 1.02-.2 1.41-.59l7.78-7.78 2.81-2.81c.8-.78.8-2.07 0-2.86zM5.41 20L4 18.59l7.72-7.72 1.47 1.35L5.41 20z\"/>\n",
              "  </svg>\n",
              "      </button>\n",
              "      \n",
              "  <style>\n",
              "    .colab-df-container {\n",
              "      display:flex;\n",
              "      flex-wrap:wrap;\n",
              "      gap: 12px;\n",
              "    }\n",
              "\n",
              "    .colab-df-convert {\n",
              "      background-color: #E8F0FE;\n",
              "      border: none;\n",
              "      border-radius: 50%;\n",
              "      cursor: pointer;\n",
              "      display: none;\n",
              "      fill: #1967D2;\n",
              "      height: 32px;\n",
              "      padding: 0 0 0 0;\n",
              "      width: 32px;\n",
              "    }\n",
              "\n",
              "    .colab-df-convert:hover {\n",
              "      background-color: #E2EBFA;\n",
              "      box-shadow: 0px 1px 2px rgba(60, 64, 67, 0.3), 0px 1px 3px 1px rgba(60, 64, 67, 0.15);\n",
              "      fill: #174EA6;\n",
              "    }\n",
              "\n",
              "    [theme=dark] .colab-df-convert {\n",
              "      background-color: #3B4455;\n",
              "      fill: #D2E3FC;\n",
              "    }\n",
              "\n",
              "    [theme=dark] .colab-df-convert:hover {\n",
              "      background-color: #434B5C;\n",
              "      box-shadow: 0px 1px 3px 1px rgba(0, 0, 0, 0.15);\n",
              "      filter: drop-shadow(0px 1px 2px rgba(0, 0, 0, 0.3));\n",
              "      fill: #FFFFFF;\n",
              "    }\n",
              "  </style>\n",
              "\n",
              "      <script>\n",
              "        const buttonEl =\n",
              "          document.querySelector('#df-1074ca30-2e28-45a7-b11a-ffbf11b6322e button.colab-df-convert');\n",
              "        buttonEl.style.display =\n",
              "          google.colab.kernel.accessAllowed ? 'block' : 'none';\n",
              "\n",
              "        async function convertToInteractive(key) {\n",
              "          const element = document.querySelector('#df-1074ca30-2e28-45a7-b11a-ffbf11b6322e');\n",
              "          const dataTable =\n",
              "            await google.colab.kernel.invokeFunction('convertToInteractive',\n",
              "                                                     [key], {});\n",
              "          if (!dataTable) return;\n",
              "\n",
              "          const docLinkHtml = 'Like what you see? Visit the ' +\n",
              "            '<a target=\"_blank\" href=https://colab.research.google.com/notebooks/data_table.ipynb>data table notebook</a>'\n",
              "            + ' to learn more about interactive tables.';\n",
              "          element.innerHTML = '';\n",
              "          dataTable['output_type'] = 'display_data';\n",
              "          await google.colab.output.renderOutput(dataTable, element);\n",
              "          const docLink = document.createElement('div');\n",
              "          docLink.innerHTML = docLinkHtml;\n",
              "          element.appendChild(docLink);\n",
              "        }\n",
              "      </script>\n",
              "    </div>\n",
              "  </div>\n",
              "  "
            ]
          },
          "metadata": {},
          "execution_count": 43
        }
      ]
    },
    {
      "cell_type": "code",
      "source": [
        "#group...by\n"
      ],
      "metadata": {
        "id": "twL-YIQnUXks"
      },
      "execution_count": null,
      "outputs": []
    },
    {
      "cell_type": "code",
      "source": [
        "df['Total charge']=df['Total day charge']+df['Total eve charge']+df['Total night charge']\n",
        "print(df['Total charge'])"
      ],
      "metadata": {
        "colab": {
          "base_uri": "https://localhost:8080/"
        },
        "id": "d6NvwrwPUn9_",
        "outputId": "67fe9ea2-e855-4af9-a249-3d6d6a45275a"
      },
      "execution_count": null,
      "outputs": [
        {
          "output_type": "stream",
          "name": "stdout",
          "text": [
            "0       72.86\n",
            "1       55.54\n",
            "2       59.00\n",
            "3       65.02\n",
            "4       49.36\n",
            "        ...  \n",
            "3328    57.43\n",
            "3329    60.94\n",
            "3330    63.93\n",
            "3331    56.18\n",
            "3332    73.31\n",
            "Name: Total charge, Length: 3333, dtype: float64\n"
          ]
        }
      ]
    },
    {
      "cell_type": "code",
      "source": [
        "import seaborn as sns\n",
        "import matplotlib.pyplot as plt\n",
        "mlabel=df['State']#.value_counts()\n",
        "#print(mlabel)\n",
        "fig1, ax1 = plt.subplots(figsize=(6, 5))\n",
        "plt.pie(df['Account length'],labels=mlabel)"
      ],
      "metadata": {
        "colab": {
          "base_uri": "https://localhost:8080/",
          "height": 1000
        },
        "id": "C7I5YRKyV1cZ",
        "outputId": "dc4d030b-cee5-4aa8-99af-d9219b18a909"
      },
      "execution_count": null,
      "outputs": [
        {
          "output_type": "execute_result",
          "data": {
            "text/plain": [
              "([<matplotlib.patches.Wedge at 0x7fa95029bd50>,\n",
              "  <matplotlib.patches.Wedge at 0x7fa9502a6290>,\n",
              "  <matplotlib.patches.Wedge at 0x7fa9502a6250>,\n",
              "  <matplotlib.patches.Wedge at 0x7fa9502a6950>,\n",
              "  <matplotlib.patches.Wedge at 0x7fa9502ad110>,\n",
              "  <matplotlib.patches.Wedge at 0x7fa9502adcd0>,\n",
              "  <matplotlib.patches.Wedge at 0x7fa9502ad9d0>,\n",
              "  <matplotlib.patches.Wedge at 0x7fa9502b9510>,\n",
              "  <matplotlib.patches.Wedge at 0x7fa9502ad3d0>,\n",
              "  <matplotlib.patches.Wedge at 0x7fa9502b9f10>,\n",
              "  <matplotlib.patches.Wedge at 0x7fa95029bd10>,\n",
              "  <matplotlib.patches.Wedge at 0x7fa9502c7410>,\n",
              "  <matplotlib.patches.Wedge at 0x7fa9502c7910>,\n",
              "  <matplotlib.patches.Wedge at 0x7fa950252390>,\n",
              "  <matplotlib.patches.Wedge at 0x7fa9502523d0>,\n",
              "  <matplotlib.patches.Wedge at 0x7fa950252910>,\n",
              "  <matplotlib.patches.Wedge at 0x7fa950269390>,\n",
              "  <matplotlib.patches.Wedge at 0x7fa9502693d0>,\n",
              "  <matplotlib.patches.Wedge at 0x7fa950269910>,\n",
              "  <matplotlib.patches.Wedge at 0x7fa95027f390>,\n",
              "  <matplotlib.patches.Wedge at 0x7fa95027f3d0>,\n",
              "  <matplotlib.patches.Wedge at 0x7fa95027f910>,\n",
              "  <matplotlib.patches.Wedge at 0x7fa95030f390>,\n",
              "  <matplotlib.patches.Wedge at 0x7fa95030f3d0>,\n",
              "  <matplotlib.patches.Wedge at 0x7fa95030f910>,\n",
              "  <matplotlib.patches.Wedge at 0x7fa950319390>,\n",
              "  <matplotlib.patches.Wedge at 0x7fa9503193d0>,\n",
              "  <matplotlib.patches.Wedge at 0x7fa950319910>,\n",
              "  <matplotlib.patches.Wedge at 0x7fa950323390>,\n",
              "  <matplotlib.patches.Wedge at 0x7fa9503233d0>,\n",
              "  <matplotlib.patches.Wedge at 0x7fa950323910>,\n",
              "  <matplotlib.patches.Wedge at 0x7fa950345390>,\n",
              "  <matplotlib.patches.Wedge at 0x7fa9503453d0>,\n",
              "  <matplotlib.patches.Wedge at 0x7fa950345910>,\n",
              "  <matplotlib.patches.Wedge at 0x7fa94fb63390>,\n",
              "  <matplotlib.patches.Wedge at 0x7fa94fb633d0>,\n",
              "  <matplotlib.patches.Wedge at 0x7fa94fb63910>,\n",
              "  <matplotlib.patches.Wedge at 0x7fa94fb6d390>,\n",
              "  <matplotlib.patches.Wedge at 0x7fa94fb6d3d0>,\n",
              "  <matplotlib.patches.Wedge at 0x7fa94fb6d910>,\n",
              "  <matplotlib.patches.Wedge at 0x7fa94fb78390>,\n",
              "  <matplotlib.patches.Wedge at 0x7fa94fb783d0>,\n",
              "  <matplotlib.patches.Wedge at 0x7fa94fb78910>,\n",
              "  <matplotlib.patches.Wedge at 0x7fa94fb82390>,\n",
              "  <matplotlib.patches.Wedge at 0x7fa94fb823d0>,\n",
              "  <matplotlib.patches.Wedge at 0x7fa94fb82910>,\n",
              "  <matplotlib.patches.Wedge at 0x7fa94fb8c390>,\n",
              "  <matplotlib.patches.Wedge at 0x7fa94fb8c3d0>,\n",
              "  <matplotlib.patches.Wedge at 0x7fa94fb8c910>,\n",
              "  <matplotlib.patches.Wedge at 0x7fa94fbcc3d0>,\n",
              "  <matplotlib.patches.Wedge at 0x7fa94fbcc410>,\n",
              "  <matplotlib.patches.Wedge at 0x7fa94fbcc950>,\n",
              "  <matplotlib.patches.Wedge at 0x7fa94fb96390>,\n",
              "  <matplotlib.patches.Wedge at 0x7fa94fb963d0>,\n",
              "  <matplotlib.patches.Wedge at 0x7fa94fb96910>,\n",
              "  <matplotlib.patches.Wedge at 0x7fa94fbb1390>,\n",
              "  <matplotlib.patches.Wedge at 0x7fa94fbb13d0>,\n",
              "  <matplotlib.patches.Wedge at 0x7fa94fbb1910>,\n",
              "  <matplotlib.patches.Wedge at 0x7fa94fbbc390>,\n",
              "  <matplotlib.patches.Wedge at 0x7fa94fbbc3d0>,\n",
              "  <matplotlib.patches.Wedge at 0x7fa94fbbc910>,\n",
              "  <matplotlib.patches.Wedge at 0x7fa94fba3390>,\n",
              "  <matplotlib.patches.Wedge at 0x7fa94fba33d0>,\n",
              "  <matplotlib.patches.Wedge at 0x7fa94fba3910>,\n",
              "  <matplotlib.patches.Wedge at 0x7fa950199390>,\n",
              "  <matplotlib.patches.Wedge at 0x7fa9501993d0>,\n",
              "  <matplotlib.patches.Wedge at 0x7fa950199910>,\n",
              "  <matplotlib.patches.Wedge at 0x7fa9501a6390>,\n",
              "  <matplotlib.patches.Wedge at 0x7fa9501a63d0>,\n",
              "  <matplotlib.patches.Wedge at 0x7fa9501a6910>,\n",
              "  <matplotlib.patches.Wedge at 0x7fa9501b3390>,\n",
              "  <matplotlib.patches.Wedge at 0x7fa9501b33d0>,\n",
              "  <matplotlib.patches.Wedge at 0x7fa9501b3910>,\n",
              "  <matplotlib.patches.Wedge at 0x7fa9501bd390>,\n",
              "  <matplotlib.patches.Wedge at 0x7fa9501bd3d0>,\n",
              "  <matplotlib.patches.Wedge at 0x7fa9501bd910>,\n",
              "  <matplotlib.patches.Wedge at 0x7fa9501c6390>,\n",
              "  <matplotlib.patches.Wedge at 0x7fa9501c63d0>,\n",
              "  <matplotlib.patches.Wedge at 0x7fa9501c6910>,\n",
              "  <matplotlib.patches.Wedge at 0x7fa950519390>,\n",
              "  <matplotlib.patches.Wedge at 0x7fa9505193d0>,\n",
              "  <matplotlib.patches.Wedge at 0x7fa950519910>,\n",
              "  <matplotlib.patches.Wedge at 0x7fa950521390>,\n",
              "  <matplotlib.patches.Wedge at 0x7fa9505213d0>,\n",
              "  <matplotlib.patches.Wedge at 0x7fa950521910>,\n",
              "  <matplotlib.patches.Wedge at 0x7fa95052d390>,\n",
              "  <matplotlib.patches.Wedge at 0x7fa95052d3d0>,\n",
              "  <matplotlib.patches.Wedge at 0x7fa95052d910>,\n",
              "  <matplotlib.patches.Wedge at 0x7fa950535390>,\n",
              "  <matplotlib.patches.Wedge at 0x7fa9505353d0>,\n",
              "  <matplotlib.patches.Wedge at 0x7fa950535910>,\n",
              "  <matplotlib.patches.Wedge at 0x7fa950540390>,\n",
              "  <matplotlib.patches.Wedge at 0x7fa9505403d0>,\n",
              "  <matplotlib.patches.Wedge at 0x7fa950540910>,\n",
              "  <matplotlib.patches.Wedge at 0x7fa95054a410>,\n",
              "  <matplotlib.patches.Wedge at 0x7fa95054a450>,\n",
              "  <matplotlib.patches.Wedge at 0x7fa95054a990>,\n",
              "  <matplotlib.patches.Wedge at 0x7fa95006e390>,\n",
              "  <matplotlib.patches.Wedge at 0x7fa95006e3d0>,\n",
              "  <matplotlib.patches.Wedge at 0x7fa950fe5990>,\n",
              "  <matplotlib.patches.Wedge at 0x7fa950052190>,\n",
              "  <matplotlib.patches.Wedge at 0x7fa9500521d0>,\n",
              "  <matplotlib.patches.Wedge at 0x7fa950052710>,\n",
              "  <matplotlib.patches.Wedge at 0x7fa95005d190>,\n",
              "  <matplotlib.patches.Wedge at 0x7fa95005d1d0>,\n",
              "  <matplotlib.patches.Wedge at 0x7fa95005d710>,\n",
              "  <matplotlib.patches.Wedge at 0x7fa95006d190>,\n",
              "  <matplotlib.patches.Wedge at 0x7fa95006d1d0>,\n",
              "  <matplotlib.patches.Wedge at 0x7fa95006d710>,\n",
              "  <matplotlib.patches.Wedge at 0x7fa950083190>,\n",
              "  <matplotlib.patches.Wedge at 0x7fa9500831d0>,\n",
              "  <matplotlib.patches.Wedge at 0x7fa950083710>,\n",
              "  <matplotlib.patches.Wedge at 0x7fa9500d0190>,\n",
              "  <matplotlib.patches.Wedge at 0x7fa9500d01d0>,\n",
              "  <matplotlib.patches.Wedge at 0x7fa9500d0710>,\n",
              "  <matplotlib.patches.Wedge at 0x7fa9500e8190>,\n",
              "  <matplotlib.patches.Wedge at 0x7fa9500e81d0>,\n",
              "  <matplotlib.patches.Wedge at 0x7fa9500e8710>,\n",
              "  <matplotlib.patches.Wedge at 0x7fa9500f7190>,\n",
              "  <matplotlib.patches.Wedge at 0x7fa9500f71d0>,\n",
              "  <matplotlib.patches.Wedge at 0x7fa9500f7710>,\n",
              "  <matplotlib.patches.Wedge at 0x7fa950105190>,\n",
              "  <matplotlib.patches.Wedge at 0x7fa9501051d0>,\n",
              "  <matplotlib.patches.Wedge at 0x7fa950105710>,\n",
              "  <matplotlib.patches.Wedge at 0x7fa9500e4190>,\n",
              "  <matplotlib.patches.Wedge at 0x7fa9500e41d0>,\n",
              "  <matplotlib.patches.Wedge at 0x7fa9500e4710>,\n",
              "  <matplotlib.patches.Wedge at 0x7fa94fc06190>,\n",
              "  <matplotlib.patches.Wedge at 0x7fa94fc061d0>,\n",
              "  <matplotlib.patches.Wedge at 0x7fa94fc06710>,\n",
              "  <matplotlib.patches.Wedge at 0x7fa94fbd6190>,\n",
              "  <matplotlib.patches.Wedge at 0x7fa94fbd61d0>,\n",
              "  <matplotlib.patches.Wedge at 0x7fa94fbd6710>,\n",
              "  <matplotlib.patches.Wedge at 0x7fa94fbe3190>,\n",
              "  <matplotlib.patches.Wedge at 0x7fa94fbe31d0>,\n",
              "  <matplotlib.patches.Wedge at 0x7fa94fbe3710>,\n",
              "  <matplotlib.patches.Wedge at 0x7fa94fbf1190>,\n",
              "  <matplotlib.patches.Wedge at 0x7fa94fbf11d0>,\n",
              "  <matplotlib.patches.Wedge at 0x7fa94fbf1710>,\n",
              "  <matplotlib.patches.Wedge at 0x7fa95020d190>,\n",
              "  <matplotlib.patches.Wedge at 0x7fa95020d1d0>,\n",
              "  <matplotlib.patches.Wedge at 0x7fa95020d710>,\n",
              "  <matplotlib.patches.Wedge at 0x7fa950217190>,\n",
              "  <matplotlib.patches.Wedge at 0x7fa9502171d0>,\n",
              "  <matplotlib.patches.Wedge at 0x7fa950217710>,\n",
              "  <matplotlib.patches.Wedge at 0x7fa950227190>,\n",
              "  <matplotlib.patches.Wedge at 0x7fa9502271d0>,\n",
              "  <matplotlib.patches.Wedge at 0x7fa950227710>,\n",
              "  <matplotlib.patches.Wedge at 0x7fa950234190>,\n",
              "  <matplotlib.patches.Wedge at 0x7fa9502341d0>,\n",
              "  <matplotlib.patches.Wedge at 0x7fa950234710>,\n",
              "  <matplotlib.patches.Wedge at 0x7fa95023c190>,\n",
              "  <matplotlib.patches.Wedge at 0x7fa95023c1d0>,\n",
              "  <matplotlib.patches.Wedge at 0x7fa95023c710>,\n",
              "  <matplotlib.patches.Wedge at 0x7fa94fe90190>,\n",
              "  <matplotlib.patches.Wedge at 0x7fa94fe901d0>,\n",
              "  <matplotlib.patches.Wedge at 0x7fa94fe90710>,\n",
              "  <matplotlib.patches.Wedge at 0x7fa94fe9c190>,\n",
              "  <matplotlib.patches.Wedge at 0x7fa94fe9c1d0>,\n",
              "  <matplotlib.patches.Wedge at 0x7fa94fe9c710>,\n",
              "  <matplotlib.patches.Wedge at 0x7fa94fea9190>,\n",
              "  <matplotlib.patches.Wedge at 0x7fa94fea91d0>,\n",
              "  <matplotlib.patches.Wedge at 0x7fa94fea9710>,\n",
              "  <matplotlib.patches.Wedge at 0x7fa94feb7190>,\n",
              "  <matplotlib.patches.Wedge at 0x7fa94feb71d0>,\n",
              "  <matplotlib.patches.Wedge at 0x7fa94feb7710>,\n",
              "  <matplotlib.patches.Wedge at 0x7fa94fec2190>,\n",
              "  <matplotlib.patches.Wedge at 0x7fa94fec21d0>,\n",
              "  <matplotlib.patches.Wedge at 0x7fa94fec2710>,\n",
              "  <matplotlib.patches.Wedge at 0x7fa94fd23190>,\n",
              "  <matplotlib.patches.Wedge at 0x7fa94fd231d0>,\n",
              "  <matplotlib.patches.Wedge at 0x7fa94fd23710>,\n",
              "  <matplotlib.patches.Wedge at 0x7fa94fd19190>,\n",
              "  <matplotlib.patches.Wedge at 0x7fa94fd191d0>,\n",
              "  <matplotlib.patches.Wedge at 0x7fa94fd19710>,\n",
              "  <matplotlib.patches.Wedge at 0x7fa94fd29190>,\n",
              "  <matplotlib.patches.Wedge at 0x7fa94fd291d0>,\n",
              "  <matplotlib.patches.Wedge at 0x7fa94fd29710>,\n",
              "  <matplotlib.patches.Wedge at 0x7fa94fd39190>,\n",
              "  <matplotlib.patches.Wedge at 0x7fa94fd391d0>,\n",
              "  <matplotlib.patches.Wedge at 0x7fa94fd39710>,\n",
              "  <matplotlib.patches.Wedge at 0x7fa94fd46190>,\n",
              "  <matplotlib.patches.Wedge at 0x7fa94fd461d0>,\n",
              "  <matplotlib.patches.Wedge at 0x7fa94fd46710>,\n",
              "  <matplotlib.patches.Wedge at 0x7fa95008e190>,\n",
              "  <matplotlib.patches.Wedge at 0x7fa95008e1d0>,\n",
              "  <matplotlib.patches.Wedge at 0x7fa95008e710>,\n",
              "  <matplotlib.patches.Wedge at 0x7fa95009b210>,\n",
              "  <matplotlib.patches.Wedge at 0x7fa95009b250>,\n",
              "  <matplotlib.patches.Wedge at 0x7fa95009b790>,\n",
              "  <matplotlib.patches.Wedge at 0x7fa9500a7210>,\n",
              "  <matplotlib.patches.Wedge at 0x7fa9500a7250>,\n",
              "  <matplotlib.patches.Wedge at 0x7fa9500a7790>,\n",
              "  <matplotlib.patches.Wedge at 0x7fa9500bb210>,\n",
              "  <matplotlib.patches.Wedge at 0x7fa9500bb250>,\n",
              "  <matplotlib.patches.Wedge at 0x7fa9500bb790>,\n",
              "  <matplotlib.patches.Wedge at 0x7fa9500c9190>,\n",
              "  <matplotlib.patches.Wedge at 0x7fa9500c91d0>,\n",
              "  <matplotlib.patches.Wedge at 0x7fa9500c9710>,\n",
              "  <matplotlib.patches.Wedge at 0x7fa9501d0190>,\n",
              "  <matplotlib.patches.Wedge at 0x7fa9501d01d0>,\n",
              "  <matplotlib.patches.Wedge at 0x7fa9501d0710>,\n",
              "  <matplotlib.patches.Wedge at 0x7fa9501de190>,\n",
              "  <matplotlib.patches.Wedge at 0x7fa9501de1d0>,\n",
              "  <matplotlib.patches.Wedge at 0x7fa9501de710>,\n",
              "  <matplotlib.patches.Wedge at 0x7fa9501eb190>,\n",
              "  <matplotlib.patches.Wedge at 0x7fa9501eb1d0>,\n",
              "  <matplotlib.patches.Wedge at 0x7fa9501eb710>,\n",
              "  <matplotlib.patches.Wedge at 0x7fa9501f8190>,\n",
              "  <matplotlib.patches.Wedge at 0x7fa9501f81d0>,\n",
              "  <matplotlib.patches.Wedge at 0x7fa9501f8710>,\n",
              "  <matplotlib.patches.Wedge at 0x7fa950208190>,\n",
              "  <matplotlib.patches.Wedge at 0x7fa9502081d0>,\n",
              "  <matplotlib.patches.Wedge at 0x7fa950208710>,\n",
              "  <matplotlib.patches.Wedge at 0x7fa9502d0190>,\n",
              "  <matplotlib.patches.Wedge at 0x7fa9502d01d0>,\n",
              "  <matplotlib.patches.Wedge at 0x7fa9502d0710>,\n",
              "  <matplotlib.patches.Wedge at 0x7fa9502dc190>,\n",
              "  <matplotlib.patches.Wedge at 0x7fa9502dc1d0>,\n",
              "  <matplotlib.patches.Wedge at 0x7fa9502dc710>,\n",
              "  <matplotlib.patches.Wedge at 0x7fa9502e8290>,\n",
              "  <matplotlib.patches.Wedge at 0x7fa9502e82d0>,\n",
              "  <matplotlib.patches.Wedge at 0x7fa9502e8810>,\n",
              "  <matplotlib.patches.Wedge at 0x7fa9502f7190>,\n",
              "  <matplotlib.patches.Wedge at 0x7fa9502f71d0>,\n",
              "  <matplotlib.patches.Wedge at 0x7fa9502f7710>,\n",
              "  <matplotlib.patches.Wedge at 0x7fa950303210>,\n",
              "  <matplotlib.patches.Wedge at 0x7fa950303250>,\n",
              "  <matplotlib.patches.Wedge at 0x7fa950303790>,\n",
              "  <matplotlib.patches.Wedge at 0x7fa950414190>,\n",
              "  <matplotlib.patches.Wedge at 0x7fa9504141d0>,\n",
              "  <matplotlib.patches.Wedge at 0x7fa950414710>,\n",
              "  <matplotlib.patches.Wedge at 0x7fa95041f190>,\n",
              "  <matplotlib.patches.Wedge at 0x7fa95041f1d0>,\n",
              "  <matplotlib.patches.Wedge at 0x7fa95041f710>,\n",
              "  <matplotlib.patches.Wedge at 0x7fa95042d190>,\n",
              "  <matplotlib.patches.Wedge at 0x7fa95042d1d0>,\n",
              "  <matplotlib.patches.Wedge at 0x7fa95042d710>,\n",
              "  <matplotlib.patches.Wedge at 0x7fa950439190>,\n",
              "  <matplotlib.patches.Wedge at 0x7fa9504391d0>,\n",
              "  <matplotlib.patches.Wedge at 0x7fa950439710>,\n",
              "  <matplotlib.patches.Wedge at 0x7fa950446190>,\n",
              "  <matplotlib.patches.Wedge at 0x7fa9504461d0>,\n",
              "  <matplotlib.patches.Wedge at 0x7fa950446710>,\n",
              "  <matplotlib.patches.Wedge at 0x7fa94fe53190>,\n",
              "  <matplotlib.patches.Wedge at 0x7fa94fe531d0>,\n",
              "  <matplotlib.patches.Wedge at 0x7fa94fe53710>,\n",
              "  <matplotlib.patches.Wedge at 0x7fa94fe61190>,\n",
              "  <matplotlib.patches.Wedge at 0x7fa94fe611d0>,\n",
              "  <matplotlib.patches.Wedge at 0x7fa94fe61710>,\n",
              "  <matplotlib.patches.Wedge at 0x7fa94fe6d190>,\n",
              "  <matplotlib.patches.Wedge at 0x7fa94fe6d1d0>,\n",
              "  <matplotlib.patches.Wedge at 0x7fa94fe6d710>,\n",
              "  <matplotlib.patches.Wedge at 0x7fa94fe7c190>,\n",
              "  <matplotlib.patches.Wedge at 0x7fa94fe7c1d0>,\n",
              "  <matplotlib.patches.Wedge at 0x7fa94fe7c710>,\n",
              "  <matplotlib.patches.Wedge at 0x7fa94fe86190>,\n",
              "  <matplotlib.patches.Wedge at 0x7fa94fe861d0>,\n",
              "  <matplotlib.patches.Wedge at 0x7fa94fe86710>,\n",
              "  <matplotlib.patches.Wedge at 0x7fa94fd91190>,\n",
              "  <matplotlib.patches.Wedge at 0x7fa94fd911d0>,\n",
              "  <matplotlib.patches.Wedge at 0x7fa94fd91710>,\n",
              "  <matplotlib.patches.Wedge at 0x7fa94fd9f190>,\n",
              "  <matplotlib.patches.Wedge at 0x7fa94fd9f1d0>,\n",
              "  <matplotlib.patches.Wedge at 0x7fa94fd9f710>,\n",
              "  <matplotlib.patches.Wedge at 0x7fa94fdad190>,\n",
              "  <matplotlib.patches.Wedge at 0x7fa94fdad1d0>,\n",
              "  <matplotlib.patches.Wedge at 0x7fa94fdad710>,\n",
              "  <matplotlib.patches.Wedge at 0x7fa94fdb8190>,\n",
              "  <matplotlib.patches.Wedge at 0x7fa94fdb81d0>,\n",
              "  <matplotlib.patches.Wedge at 0x7fa94fdb8710>,\n",
              "  <matplotlib.patches.Wedge at 0x7fa94fdc7190>,\n",
              "  <matplotlib.patches.Wedge at 0x7fa94fdc71d0>,\n",
              "  <matplotlib.patches.Wedge at 0x7fa94fdc7710>,\n",
              "  <matplotlib.patches.Wedge at 0x7fa9504d3190>,\n",
              "  <matplotlib.patches.Wedge at 0x7fa9504d31d0>,\n",
              "  <matplotlib.patches.Wedge at 0x7fa9504d3710>,\n",
              "  <matplotlib.patches.Wedge at 0x7fa9504de190>,\n",
              "  <matplotlib.patches.Wedge at 0x7fa9504de1d0>,\n",
              "  <matplotlib.patches.Wedge at 0x7fa9504de710>,\n",
              "  <matplotlib.patches.Wedge at 0x7fa9504ea190>,\n",
              "  <matplotlib.patches.Wedge at 0x7fa9504ea1d0>,\n",
              "  <matplotlib.patches.Wedge at 0x7fa9504ea710>,\n",
              "  <matplotlib.patches.Wedge at 0x7fa9504f8190>,\n",
              "  <matplotlib.patches.Wedge at 0x7fa9504f81d0>,\n",
              "  <matplotlib.patches.Wedge at 0x7fa9504f8710>,\n",
              "  <matplotlib.patches.Wedge at 0x7fa950503190>,\n",
              "  <matplotlib.patches.Wedge at 0x7fa9505031d0>,\n",
              "  <matplotlib.patches.Wedge at 0x7fa950503710>,\n",
              "  <matplotlib.patches.Wedge at 0x7fa950491190>,\n",
              "  <matplotlib.patches.Wedge at 0x7fa9504911d0>,\n",
              "  <matplotlib.patches.Wedge at 0x7fa950491710>,\n",
              "  <matplotlib.patches.Wedge at 0x7fa95049d190>,\n",
              "  <matplotlib.patches.Wedge at 0x7fa95049d1d0>,\n",
              "  <matplotlib.patches.Wedge at 0x7fa95049d710>,\n",
              "  <matplotlib.patches.Wedge at 0x7fa9504a9190>,\n",
              "  <matplotlib.patches.Wedge at 0x7fa9504a91d0>,\n",
              "  <matplotlib.patches.Wedge at 0x7fa9504a9710>,\n",
              "  <matplotlib.patches.Wedge at 0x7fa9504b6190>,\n",
              "  <matplotlib.patches.Wedge at 0x7fa9504b61d0>,\n",
              "  <matplotlib.patches.Wedge at 0x7fa9504b6710>,\n",
              "  <matplotlib.patches.Wedge at 0x7fa9504c3190>,\n",
              "  <matplotlib.patches.Wedge at 0x7fa9504c31d0>,\n",
              "  <matplotlib.patches.Wedge at 0x7fa9504c3710>,\n",
              "  <matplotlib.patches.Wedge at 0x7fa950450190>,\n",
              "  <matplotlib.patches.Wedge at 0x7fa9504501d0>,\n",
              "  <matplotlib.patches.Wedge at 0x7fa950450710>,\n",
              "  <matplotlib.patches.Wedge at 0x7fa95045c190>,\n",
              "  <matplotlib.patches.Wedge at 0x7fa95045c1d0>,\n",
              "  <matplotlib.patches.Wedge at 0x7fa95045c710>,\n",
              "  <matplotlib.patches.Wedge at 0x7fa950467190>,\n",
              "  <matplotlib.patches.Wedge at 0x7fa9504671d0>,\n",
              "  <matplotlib.patches.Wedge at 0x7fa950467710>,\n",
              "  <matplotlib.patches.Wedge at 0x7fa950476190>,\n",
              "  <matplotlib.patches.Wedge at 0x7fa9504761d0>,\n",
              "  <matplotlib.patches.Wedge at 0x7fa950476710>,\n",
              "  <matplotlib.patches.Wedge at 0x7fa950481190>,\n",
              "  <matplotlib.patches.Wedge at 0x7fa9504811d0>,\n",
              "  <matplotlib.patches.Wedge at 0x7fa950481710>,\n",
              "  <matplotlib.patches.Wedge at 0x7fa9503cd190>,\n",
              "  <matplotlib.patches.Wedge at 0x7fa9503cd1d0>,\n",
              "  <matplotlib.patches.Wedge at 0x7fa9503cd710>,\n",
              "  <matplotlib.patches.Wedge at 0x7fa9503da190>,\n",
              "  <matplotlib.patches.Wedge at 0x7fa9503da1d0>,\n",
              "  <matplotlib.patches.Wedge at 0x7fa9503da710>,\n",
              "  <matplotlib.patches.Wedge at 0x7fa9503e8190>,\n",
              "  <matplotlib.patches.Wedge at 0x7fa9503e81d0>,\n",
              "  <matplotlib.patches.Wedge at 0x7fa9503e8710>,\n",
              "  <matplotlib.patches.Wedge at 0x7fa9503f5190>,\n",
              "  <matplotlib.patches.Wedge at 0x7fa9503f51d0>,\n",
              "  <matplotlib.patches.Wedge at 0x7fa9503f5710>,\n",
              "  <matplotlib.patches.Wedge at 0x7fa950400190>,\n",
              "  <matplotlib.patches.Wedge at 0x7fa9504001d0>,\n",
              "  <matplotlib.patches.Wedge at 0x7fa950400710>,\n",
              "  <matplotlib.patches.Wedge at 0x7fa95040c190>,\n",
              "  <matplotlib.patches.Wedge at 0x7fa95040c1d0>,\n",
              "  <matplotlib.patches.Wedge at 0x7fa95040c710>,\n",
              "  <matplotlib.patches.Wedge at 0x7fa950399190>,\n",
              "  <matplotlib.patches.Wedge at 0x7fa9503991d0>,\n",
              "  <matplotlib.patches.Wedge at 0x7fa950399710>,\n",
              "  <matplotlib.patches.Wedge at 0x7fa9503a6190>,\n",
              "  <matplotlib.patches.Wedge at 0x7fa9503a61d0>,\n",
              "  <matplotlib.patches.Wedge at 0x7fa9503a6710>,\n",
              "  <matplotlib.patches.Wedge at 0x7fa9503b3190>,\n",
              "  <matplotlib.patches.Wedge at 0x7fa9503b31d0>,\n",
              "  <matplotlib.patches.Wedge at 0x7fa9503b3710>,\n",
              "  <matplotlib.patches.Wedge at 0x7fa9503bf190>,\n",
              "  <matplotlib.patches.Wedge at 0x7fa9503bf1d0>,\n",
              "  <matplotlib.patches.Wedge at 0x7fa9503bf710>,\n",
              "  <matplotlib.patches.Wedge at 0x7fa9503cb190>,\n",
              "  <matplotlib.patches.Wedge at 0x7fa9503cb1d0>,\n",
              "  <matplotlib.patches.Wedge at 0x7fa9503cb710>,\n",
              "  <matplotlib.patches.Wedge at 0x7fa950359190>,\n",
              "  <matplotlib.patches.Wedge at 0x7fa9503591d0>,\n",
              "  <matplotlib.patches.Wedge at 0x7fa950359710>,\n",
              "  <matplotlib.patches.Wedge at 0x7fa950366190>,\n",
              "  <matplotlib.patches.Wedge at 0x7fa9503661d0>,\n",
              "  <matplotlib.patches.Wedge at 0x7fa950366710>,\n",
              "  <matplotlib.patches.Wedge at 0x7fa950371190>,\n",
              "  <matplotlib.patches.Wedge at 0x7fa9503711d0>,\n",
              "  <matplotlib.patches.Wedge at 0x7fa950371710>,\n",
              "  <matplotlib.patches.Wedge at 0x7fa95037e190>,\n",
              "  <matplotlib.patches.Wedge at 0x7fa95037e1d0>,\n",
              "  <matplotlib.patches.Wedge at 0x7fa95037e710>,\n",
              "  <matplotlib.patches.Wedge at 0x7fa950389190>,\n",
              "  <matplotlib.patches.Wedge at 0x7fa9503891d0>,\n",
              "  <matplotlib.patches.Wedge at 0x7fa950389710>,\n",
              "  <matplotlib.patches.Wedge at 0x7fa950158190>,\n",
              "  <matplotlib.patches.Wedge at 0x7fa9501581d0>,\n",
              "  <matplotlib.patches.Wedge at 0x7fa950158710>,\n",
              "  <matplotlib.patches.Wedge at 0x7fa950163190>,\n",
              "  <matplotlib.patches.Wedge at 0x7fa9501631d0>,\n",
              "  <matplotlib.patches.Wedge at 0x7fa950163710>,\n",
              "  <matplotlib.patches.Wedge at 0x7fa95016f190>,\n",
              "  <matplotlib.patches.Wedge at 0x7fa95016f1d0>,\n",
              "  <matplotlib.patches.Wedge at 0x7fa95016f710>,\n",
              "  <matplotlib.patches.Wedge at 0x7fa95017c190>,\n",
              "  <matplotlib.patches.Wedge at 0x7fa95017c1d0>,\n",
              "  <matplotlib.patches.Wedge at 0x7fa95017c710>,\n",
              "  <matplotlib.patches.Wedge at 0x7fa95018a190>,\n",
              "  <matplotlib.patches.Wedge at 0x7fa95018a1d0>,\n",
              "  <matplotlib.patches.Wedge at 0x7fa95018a710>,\n",
              "  <matplotlib.patches.Wedge at 0x7fa950116190>,\n",
              "  <matplotlib.patches.Wedge at 0x7fa9501161d0>,\n",
              "  <matplotlib.patches.Wedge at 0x7fa950116710>,\n",
              "  <matplotlib.patches.Wedge at 0x7fa950122190>,\n",
              "  <matplotlib.patches.Wedge at 0x7fa9501221d0>,\n",
              "  <matplotlib.patches.Wedge at 0x7fa950122710>,\n",
              "  <matplotlib.patches.Wedge at 0x7fa95012e190>,\n",
              "  <matplotlib.patches.Wedge at 0x7fa95012e1d0>,\n",
              "  <matplotlib.patches.Wedge at 0x7fa95012e710>,\n",
              "  <matplotlib.patches.Wedge at 0x7fa95013c190>,\n",
              "  <matplotlib.patches.Wedge at 0x7fa95013c1d0>,\n",
              "  <matplotlib.patches.Wedge at 0x7fa95013c710>,\n",
              "  <matplotlib.patches.Wedge at 0x7fa950148190>,\n",
              "  <matplotlib.patches.Wedge at 0x7fa9501481d0>,\n",
              "  <matplotlib.patches.Wedge at 0x7fa950148710>,\n",
              "  <matplotlib.patches.Wedge at 0x7fa950015190>,\n",
              "  <matplotlib.patches.Wedge at 0x7fa9500151d0>,\n",
              "  <matplotlib.patches.Wedge at 0x7fa950015710>,\n",
              "  <matplotlib.patches.Wedge at 0x7fa950021190>,\n",
              "  <matplotlib.patches.Wedge at 0x7fa9500211d0>,\n",
              "  <matplotlib.patches.Wedge at 0x7fa950021710>,\n",
              "  <matplotlib.patches.Wedge at 0x7fa95002c4d0>,\n",
              "  <matplotlib.patches.Wedge at 0x7fa95002c1d0>,\n",
              "  <matplotlib.patches.Wedge at 0x7fa95002c810>,\n",
              "  <matplotlib.patches.Wedge at 0x7fa95003e290>,\n",
              "  <matplotlib.patches.Wedge at 0x7fa95003e2d0>,\n",
              "  <matplotlib.patches.Wedge at 0x7fa95003e810>,\n",
              "  <matplotlib.patches.Wedge at 0x7fa95004c290>,\n",
              "  <matplotlib.patches.Wedge at 0x7fa95004c2d0>,\n",
              "  <matplotlib.patches.Wedge at 0x7fa95004c810>,\n",
              "  <matplotlib.patches.Wedge at 0x7fa94ffda110>,\n",
              "  <matplotlib.patches.Wedge at 0x7fa94ffda210>,\n",
              "  <matplotlib.patches.Wedge at 0x7fa94ffda910>,\n",
              "  <matplotlib.patches.Wedge at 0x7fa94ffdae10>,\n",
              "  <matplotlib.patches.Wedge at 0x7fa94ffe70d0>,\n",
              "  <matplotlib.patches.Wedge at 0x7fa94ffe7610>,\n",
              "  <matplotlib.patches.Wedge at 0x7fa94ffe7b50>,\n",
              "  <matplotlib.patches.Wedge at 0x7fa94fff30d0>,\n",
              "  <matplotlib.patches.Wedge at 0x7fa94fff3610>,\n",
              "  <matplotlib.patches.Wedge at 0x7fa94fff3b50>,\n",
              "  <matplotlib.patches.Wedge at 0x7fa9500000d0>,\n",
              "  <matplotlib.patches.Wedge at 0x7fa950000610>,\n",
              "  <matplotlib.patches.Wedge at 0x7fa950000b50>,\n",
              "  <matplotlib.patches.Wedge at 0x7fa94ff8d0d0>,\n",
              "  <matplotlib.patches.Wedge at 0x7fa94ff8d610>,\n",
              "  <matplotlib.patches.Wedge at 0x7fa94ff8db50>,\n",
              "  <matplotlib.patches.Wedge at 0x7fa94ff980d0>,\n",
              "  <matplotlib.patches.Wedge at 0x7fa94ff98610>,\n",
              "  <matplotlib.patches.Wedge at 0x7fa94ff98b50>,\n",
              "  <matplotlib.patches.Wedge at 0x7fa94ffa40d0>,\n",
              "  <matplotlib.patches.Wedge at 0x7fa94ffa4610>,\n",
              "  <matplotlib.patches.Wedge at 0x7fa94ffa4b50>,\n",
              "  <matplotlib.patches.Wedge at 0x7fa94ffb20d0>,\n",
              "  <matplotlib.patches.Wedge at 0x7fa94ffb2610>,\n",
              "  <matplotlib.patches.Wedge at 0x7fa94ffb2b50>,\n",
              "  <matplotlib.patches.Wedge at 0x7fa94ffbf0d0>,\n",
              "  <matplotlib.patches.Wedge at 0x7fa94ffbf610>,\n",
              "  <matplotlib.patches.Wedge at 0x7fa94ffbfb50>,\n",
              "  <matplotlib.patches.Wedge at 0x7fa94ffcc0d0>,\n",
              "  <matplotlib.patches.Wedge at 0x7fa94ffcc610>,\n",
              "  <matplotlib.patches.Wedge at 0x7fa94ffccb50>,\n",
              "  <matplotlib.patches.Wedge at 0x7fa94ff570d0>,\n",
              "  <matplotlib.patches.Wedge at 0x7fa94ff57610>,\n",
              "  <matplotlib.patches.Wedge at 0x7fa94ff57b50>,\n",
              "  <matplotlib.patches.Wedge at 0x7fa94ff640d0>,\n",
              "  <matplotlib.patches.Wedge at 0x7fa94ff64610>,\n",
              "  <matplotlib.patches.Wedge at 0x7fa94ff64b50>,\n",
              "  <matplotlib.patches.Wedge at 0x7fa94ff710d0>,\n",
              "  <matplotlib.patches.Wedge at 0x7fa94ff71610>,\n",
              "  <matplotlib.patches.Wedge at 0x7fa94ff71b50>,\n",
              "  <matplotlib.patches.Wedge at 0x7fa94ff7d0d0>,\n",
              "  <matplotlib.patches.Wedge at 0x7fa94ff7d610>,\n",
              "  <matplotlib.patches.Wedge at 0x7fa94ff7db50>,\n",
              "  <matplotlib.patches.Wedge at 0x7fa94ff880d0>,\n",
              "  <matplotlib.patches.Wedge at 0x7fa94ff88610>,\n",
              "  <matplotlib.patches.Wedge at 0x7fa94ff88b50>,\n",
              "  <matplotlib.patches.Wedge at 0x7fa94ff170d0>,\n",
              "  <matplotlib.patches.Wedge at 0x7fa94ff17610>,\n",
              "  <matplotlib.patches.Wedge at 0x7fa94ff17b50>,\n",
              "  <matplotlib.patches.Wedge at 0x7fa94ff240d0>,\n",
              "  <matplotlib.patches.Wedge at 0x7fa94ff24610>,\n",
              "  <matplotlib.patches.Wedge at 0x7fa94ff24b50>,\n",
              "  <matplotlib.patches.Wedge at 0x7fa94ff300d0>,\n",
              "  <matplotlib.patches.Wedge at 0x7fa94ff30610>,\n",
              "  <matplotlib.patches.Wedge at 0x7fa94ff30b50>,\n",
              "  <matplotlib.patches.Wedge at 0x7fa94ff3c0d0>,\n",
              "  <matplotlib.patches.Wedge at 0x7fa94ff3c610>,\n",
              "  <matplotlib.patches.Wedge at 0x7fa94ff3cb50>,\n",
              "  <matplotlib.patches.Wedge at 0x7fa94ff480d0>,\n",
              "  <matplotlib.patches.Wedge at 0x7fa94ff48610>,\n",
              "  <matplotlib.patches.Wedge at 0x7fa94ff48b50>,\n",
              "  <matplotlib.patches.Wedge at 0x7fa94fed50d0>,\n",
              "  <matplotlib.patches.Wedge at 0x7fa94fed5610>,\n",
              "  <matplotlib.patches.Wedge at 0x7fa94fed5b50>,\n",
              "  <matplotlib.patches.Wedge at 0x7fa94fee20d0>,\n",
              "  <matplotlib.patches.Wedge at 0x7fa94fee2610>,\n",
              "  <matplotlib.patches.Wedge at 0x7fa94fee2b50>,\n",
              "  <matplotlib.patches.Wedge at 0x7fa94feef0d0>,\n",
              "  <matplotlib.patches.Wedge at 0x7fa94feef610>,\n",
              "  <matplotlib.patches.Wedge at 0x7fa94feefb50>,\n",
              "  <matplotlib.patches.Wedge at 0x7fa94fefa0d0>,\n",
              "  <matplotlib.patches.Wedge at 0x7fa94fefa610>,\n",
              "  <matplotlib.patches.Wedge at 0x7fa94fefab50>,\n",
              "  <matplotlib.patches.Wedge at 0x7fa94ff050d0>,\n",
              "  <matplotlib.patches.Wedge at 0x7fa94ff05610>,\n",
              "  <matplotlib.patches.Wedge at 0x7fa94ff05b50>,\n",
              "  <matplotlib.patches.Wedge at 0x7fa94fe150d0>,\n",
              "  <matplotlib.patches.Wedge at 0x7fa94fe15610>,\n",
              "  <matplotlib.patches.Wedge at 0x7fa94fe15b50>,\n",
              "  <matplotlib.patches.Wedge at 0x7fa94fe210d0>,\n",
              "  <matplotlib.patches.Wedge at 0x7fa94fe21610>,\n",
              "  <matplotlib.patches.Wedge at 0x7fa94fe21b50>,\n",
              "  <matplotlib.patches.Wedge at 0x7fa94fe2d0d0>,\n",
              "  <matplotlib.patches.Wedge at 0x7fa94fe2d610>,\n",
              "  <matplotlib.patches.Wedge at 0x7fa94fe2db50>,\n",
              "  <matplotlib.patches.Wedge at 0x7fa94fe390d0>,\n",
              "  <matplotlib.patches.Wedge at 0x7fa94fe39610>,\n",
              "  <matplotlib.patches.Wedge at 0x7fa94fe39b50>,\n",
              "  <matplotlib.patches.Wedge at 0x7fa94fe470d0>,\n",
              "  <matplotlib.patches.Wedge at 0x7fa94fe47610>,\n",
              "  <matplotlib.patches.Wedge at 0x7fa94fe47b50>,\n",
              "  <matplotlib.patches.Wedge at 0x7fa94fdd30d0>,\n",
              "  <matplotlib.patches.Wedge at 0x7fa94fdd3610>,\n",
              "  <matplotlib.patches.Wedge at 0x7fa94fdd3b50>,\n",
              "  <matplotlib.patches.Wedge at 0x7fa94fddf0d0>,\n",
              "  <matplotlib.patches.Wedge at 0x7fa94fddf610>,\n",
              "  <matplotlib.patches.Wedge at 0x7fa94fddfb50>,\n",
              "  <matplotlib.patches.Wedge at 0x7fa94fdeb0d0>,\n",
              "  <matplotlib.patches.Wedge at 0x7fa94fdeb610>,\n",
              "  <matplotlib.patches.Wedge at 0x7fa94fdebb50>,\n",
              "  <matplotlib.patches.Wedge at 0x7fa94fdf80d0>,\n",
              "  <matplotlib.patches.Wedge at 0x7fa94fdf8610>,\n",
              "  <matplotlib.patches.Wedge at 0x7fa94fdf8b50>,\n",
              "  <matplotlib.patches.Wedge at 0x7fa94fe050d0>,\n",
              "  <matplotlib.patches.Wedge at 0x7fa94fe05610>,\n",
              "  <matplotlib.patches.Wedge at 0x7fa94fe05b50>,\n",
              "  <matplotlib.patches.Wedge at 0x7fa94fd510d0>,\n",
              "  <matplotlib.patches.Wedge at 0x7fa94fd51610>,\n",
              "  <matplotlib.patches.Wedge at 0x7fa94fd51b50>,\n",
              "  <matplotlib.patches.Wedge at 0x7fa94fd5e0d0>,\n",
              "  <matplotlib.patches.Wedge at 0x7fa94fd5e610>,\n",
              "  <matplotlib.patches.Wedge at 0x7fa94fd5eb50>,\n",
              "  <matplotlib.patches.Wedge at 0x7fa94fd6a0d0>,\n",
              "  <matplotlib.patches.Wedge at 0x7fa94fd6a610>,\n",
              "  <matplotlib.patches.Wedge at 0x7fa94fd6ab50>,\n",
              "  <matplotlib.patches.Wedge at 0x7fa94fd780d0>,\n",
              "  <matplotlib.patches.Wedge at 0x7fa94fd78610>,\n",
              "  <matplotlib.patches.Wedge at 0x7fa94fd78b50>,\n",
              "  <matplotlib.patches.Wedge at 0x7fa94fd850d0>,\n",
              "  <matplotlib.patches.Wedge at 0x7fa94fd85610>,\n",
              "  <matplotlib.patches.Wedge at 0x7fa94fd85b50>,\n",
              "  <matplotlib.patches.Wedge at 0x7fa94fcd00d0>,\n",
              "  <matplotlib.patches.Wedge at 0x7fa94fcd0610>,\n",
              "  <matplotlib.patches.Wedge at 0x7fa94fcd0b50>,\n",
              "  <matplotlib.patches.Wedge at 0x7fa94fcdc0d0>,\n",
              "  <matplotlib.patches.Wedge at 0x7fa94fcdc610>,\n",
              "  <matplotlib.patches.Wedge at 0x7fa94fcdcb50>,\n",
              "  <matplotlib.patches.Wedge at 0x7fa94fce80d0>,\n",
              "  <matplotlib.patches.Wedge at 0x7fa94fce8610>,\n",
              "  <matplotlib.patches.Wedge at 0x7fa94fce8b50>,\n",
              "  <matplotlib.patches.Wedge at 0x7fa94fcf70d0>,\n",
              "  <matplotlib.patches.Wedge at 0x7fa94fcf7610>,\n",
              "  <matplotlib.patches.Wedge at 0x7fa94fcf7b50>,\n",
              "  <matplotlib.patches.Wedge at 0x7fa94fd030d0>,\n",
              "  <matplotlib.patches.Wedge at 0x7fa94fd03610>,\n",
              "  <matplotlib.patches.Wedge at 0x7fa94fd03b50>,\n",
              "  <matplotlib.patches.Wedge at 0x7fa94fc8f0d0>,\n",
              "  <matplotlib.patches.Wedge at 0x7fa94fc8f610>,\n",
              "  <matplotlib.patches.Wedge at 0x7fa94fc8fb50>,\n",
              "  <matplotlib.patches.Wedge at 0x7fa94fc9c0d0>,\n",
              "  <matplotlib.patches.Wedge at 0x7fa94fc9c610>,\n",
              "  <matplotlib.patches.Wedge at 0x7fa94fc9cb50>,\n",
              "  <matplotlib.patches.Wedge at 0x7fa94fca80d0>,\n",
              "  <matplotlib.patches.Wedge at 0x7fa94fca8610>,\n",
              "  <matplotlib.patches.Wedge at 0x7fa94fca8b50>,\n",
              "  <matplotlib.patches.Wedge at 0x7fa94fcb40d0>,\n",
              "  <matplotlib.patches.Wedge at 0x7fa94fcb4610>,\n",
              "  <matplotlib.patches.Wedge at 0x7fa94fcb4b50>,\n",
              "  <matplotlib.patches.Wedge at 0x7fa94fcc10d0>,\n",
              "  <matplotlib.patches.Wedge at 0x7fa94fcc1610>,\n",
              "  <matplotlib.patches.Wedge at 0x7fa94fcc1b50>,\n",
              "  <matplotlib.patches.Wedge at 0x7fa94fc4d0d0>,\n",
              "  <matplotlib.patches.Wedge at 0x7fa94fc4d610>,\n",
              "  <matplotlib.patches.Wedge at 0x7fa94fc4db50>,\n",
              "  <matplotlib.patches.Wedge at 0x7fa94fc5b0d0>,\n",
              "  <matplotlib.patches.Wedge at 0x7fa94fc5b610>,\n",
              "  <matplotlib.patches.Wedge at 0x7fa94fc5bb50>,\n",
              "  <matplotlib.patches.Wedge at 0x7fa94fc670d0>,\n",
              "  <matplotlib.patches.Wedge at 0x7fa94fc67610>,\n",
              "  <matplotlib.patches.Wedge at 0x7fa94fc67b50>,\n",
              "  <matplotlib.patches.Wedge at 0x7fa94fc730d0>,\n",
              "  <matplotlib.patches.Wedge at 0x7fa94fc73610>,\n",
              "  <matplotlib.patches.Wedge at 0x7fa94fc73b50>,\n",
              "  <matplotlib.patches.Wedge at 0x7fa94fc800d0>,\n",
              "  <matplotlib.patches.Wedge at 0x7fa94fc80610>,\n",
              "  <matplotlib.patches.Wedge at 0x7fa94fc80b50>,\n",
              "  <matplotlib.patches.Wedge at 0x7fa94fc0d0d0>,\n",
              "  <matplotlib.patches.Wedge at 0x7fa94fc0d610>,\n",
              "  <matplotlib.patches.Wedge at 0x7fa94fc0db50>,\n",
              "  <matplotlib.patches.Wedge at 0x7fa94fc180d0>,\n",
              "  <matplotlib.patches.Wedge at 0x7fa94fc18610>,\n",
              "  <matplotlib.patches.Wedge at 0x7fa94fc18b50>,\n",
              "  <matplotlib.patches.Wedge at 0x7fa94fc270d0>,\n",
              "  <matplotlib.patches.Wedge at 0x7fa94fc27610>,\n",
              "  <matplotlib.patches.Wedge at 0x7fa94fc27b50>,\n",
              "  <matplotlib.patches.Wedge at 0x7fa94fc320d0>,\n",
              "  <matplotlib.patches.Wedge at 0x7fa94fc32610>,\n",
              "  <matplotlib.patches.Wedge at 0x7fa94fc32b50>,\n",
              "  <matplotlib.patches.Wedge at 0x7fa94fc3e0d0>,\n",
              "  <matplotlib.patches.Wedge at 0x7fa94fc3e610>,\n",
              "  <matplotlib.patches.Wedge at 0x7fa94fc3eb50>,\n",
              "  <matplotlib.patches.Wedge at 0x7fa94fc4b0d0>,\n",
              "  <matplotlib.patches.Wedge at 0x7fa94fc4b610>,\n",
              "  <matplotlib.patches.Wedge at 0x7fa94fc4bb50>,\n",
              "  <matplotlib.patches.Wedge at 0x7fa94fb180d0>,\n",
              "  <matplotlib.patches.Wedge at 0x7fa94fb18610>,\n",
              "  <matplotlib.patches.Wedge at 0x7fa94fb18b50>,\n",
              "  <matplotlib.patches.Wedge at 0x7fa94fb240d0>,\n",
              "  <matplotlib.patches.Wedge at 0x7fa94fb24610>,\n",
              "  <matplotlib.patches.Wedge at 0x7fa94fb24b50>,\n",
              "  <matplotlib.patches.Wedge at 0x7fa94fb310d0>,\n",
              "  <matplotlib.patches.Wedge at 0x7fa94fb31610>,\n",
              "  <matplotlib.patches.Wedge at 0x7fa94fb31b50>,\n",
              "  <matplotlib.patches.Wedge at 0x7fa94fb3e0d0>,\n",
              "  <matplotlib.patches.Wedge at 0x7fa94fb3e610>,\n",
              "  <matplotlib.patches.Wedge at 0x7fa94fb3eb50>,\n",
              "  <matplotlib.patches.Wedge at 0x7fa94fb4a0d0>,\n",
              "  <matplotlib.patches.Wedge at 0x7fa94fb4a610>,\n",
              "  <matplotlib.patches.Wedge at 0x7fa94fb4ab50>,\n",
              "  <matplotlib.patches.Wedge at 0x7fa94fad60d0>,\n",
              "  <matplotlib.patches.Wedge at 0x7fa94fad6610>,\n",
              "  <matplotlib.patches.Wedge at 0x7fa94fad6b50>,\n",
              "  <matplotlib.patches.Wedge at 0x7fa94fae40d0>,\n",
              "  <matplotlib.patches.Wedge at 0x7fa94fae4610>,\n",
              "  <matplotlib.patches.Wedge at 0x7fa94fae4b50>,\n",
              "  <matplotlib.patches.Wedge at 0x7fa94faf00d0>,\n",
              "  <matplotlib.patches.Wedge at 0x7fa94faf0610>,\n",
              "  <matplotlib.patches.Wedge at 0x7fa94faf0b50>,\n",
              "  <matplotlib.patches.Wedge at 0x7fa94fafc0d0>,\n",
              "  <matplotlib.patches.Wedge at 0x7fa94fafc610>,\n",
              "  <matplotlib.patches.Wedge at 0x7fa94fafcb50>,\n",
              "  <matplotlib.patches.Wedge at 0x7fa94fb080d0>,\n",
              "  <matplotlib.patches.Wedge at 0x7fa94fb08610>,\n",
              "  <matplotlib.patches.Wedge at 0x7fa94fb08b50>,\n",
              "  <matplotlib.patches.Wedge at 0x7fa94fa950d0>,\n",
              "  <matplotlib.patches.Wedge at 0x7fa94fa95610>,\n",
              "  <matplotlib.patches.Wedge at 0x7fa94fa95b50>,\n",
              "  <matplotlib.patches.Wedge at 0x7fa94faa20d0>,\n",
              "  <matplotlib.patches.Wedge at 0x7fa94faa2610>,\n",
              "  <matplotlib.patches.Wedge at 0x7fa94faa2b50>,\n",
              "  <matplotlib.patches.Wedge at 0x7fa94faaf0d0>,\n",
              "  <matplotlib.patches.Wedge at 0x7fa94faaf610>,\n",
              "  <matplotlib.patches.Wedge at 0x7fa94faafb50>,\n",
              "  <matplotlib.patches.Wedge at 0x7fa94fabb0d0>,\n",
              "  <matplotlib.patches.Wedge at 0x7fa94fabb610>,\n",
              "  <matplotlib.patches.Wedge at 0x7fa94fabbb50>,\n",
              "  <matplotlib.patches.Wedge at 0x7fa94fac90d0>,\n",
              "  <matplotlib.patches.Wedge at 0x7fa94fac9610>,\n",
              "  <matplotlib.patches.Wedge at 0x7fa94fac9b50>,\n",
              "  <matplotlib.patches.Wedge at 0x7fa94fa540d0>,\n",
              "  <matplotlib.patches.Wedge at 0x7fa94fa54610>,\n",
              "  <matplotlib.patches.Wedge at 0x7fa94fa54b50>,\n",
              "  <matplotlib.patches.Wedge at 0x7fa94fa600d0>,\n",
              "  <matplotlib.patches.Wedge at 0x7fa94fa60610>,\n",
              "  <matplotlib.patches.Wedge at 0x7fa94fa60b50>,\n",
              "  <matplotlib.patches.Wedge at 0x7fa94fa6d0d0>,\n",
              "  <matplotlib.patches.Wedge at 0x7fa94fa6d610>,\n",
              "  <matplotlib.patches.Wedge at 0x7fa94fa6db50>,\n",
              "  <matplotlib.patches.Wedge at 0x7fa94fa790d0>,\n",
              "  <matplotlib.patches.Wedge at 0x7fa94fa79610>,\n",
              "  <matplotlib.patches.Wedge at 0x7fa94fa79b50>,\n",
              "  <matplotlib.patches.Wedge at 0x7fa94fa860d0>,\n",
              "  <matplotlib.patches.Wedge at 0x7fa94fa86610>,\n",
              "  <matplotlib.patches.Wedge at 0x7fa94fa86b50>,\n",
              "  <matplotlib.patches.Wedge at 0x7fa94fa140d0>,\n",
              "  <matplotlib.patches.Wedge at 0x7fa94fa14610>,\n",
              "  <matplotlib.patches.Wedge at 0x7fa94fa14b50>,\n",
              "  <matplotlib.patches.Wedge at 0x7fa94fa200d0>,\n",
              "  <matplotlib.patches.Wedge at 0x7fa94fa20610>,\n",
              "  <matplotlib.patches.Wedge at 0x7fa94fa20b50>,\n",
              "  <matplotlib.patches.Wedge at 0x7fa94fa2c0d0>,\n",
              "  <matplotlib.patches.Wedge at 0x7fa94fa2c610>,\n",
              "  <matplotlib.patches.Wedge at 0x7fa94fa2cb50>,\n",
              "  <matplotlib.patches.Wedge at 0x7fa94fa380d0>,\n",
              "  <matplotlib.patches.Wedge at 0x7fa94fa38610>,\n",
              "  <matplotlib.patches.Wedge at 0x7fa94fa38b50>,\n",
              "  <matplotlib.patches.Wedge at 0x7fa94fa450d0>,\n",
              "  <matplotlib.patches.Wedge at 0x7fa94fa45610>,\n",
              "  <matplotlib.patches.Wedge at 0x7fa94fa45b50>,\n",
              "  <matplotlib.patches.Wedge at 0x7fa94f9d20d0>,\n",
              "  <matplotlib.patches.Wedge at 0x7fa94f9d2610>,\n",
              "  <matplotlib.patches.Wedge at 0x7fa94f9d2b50>,\n",
              "  <matplotlib.patches.Wedge at 0x7fa94f9de0d0>,\n",
              "  <matplotlib.patches.Wedge at 0x7fa94f9de610>,\n",
              "  <matplotlib.patches.Wedge at 0x7fa94f9deb50>,\n",
              "  <matplotlib.patches.Wedge at 0x7fa94f9ea0d0>,\n",
              "  <matplotlib.patches.Wedge at 0x7fa94f9ea610>,\n",
              "  <matplotlib.patches.Wedge at 0x7fa94f9eab50>,\n",
              "  <matplotlib.patches.Wedge at 0x7fa94f9f70d0>,\n",
              "  <matplotlib.patches.Wedge at 0x7fa94f9f7610>,\n",
              "  <matplotlib.patches.Wedge at 0x7fa94f9f7b50>,\n",
              "  <matplotlib.patches.Wedge at 0x7fa94fa030d0>,\n",
              "  <matplotlib.patches.Wedge at 0x7fa94fa03610>,\n",
              "  <matplotlib.patches.Wedge at 0x7fa94fa03b50>,\n",
              "  <matplotlib.patches.Wedge at 0x7fa94f9910d0>,\n",
              "  <matplotlib.patches.Wedge at 0x7fa94f991610>,\n",
              "  <matplotlib.patches.Wedge at 0x7fa94f991b50>,\n",
              "  <matplotlib.patches.Wedge at 0x7fa94f99d0d0>,\n",
              "  <matplotlib.patches.Wedge at 0x7fa94f99d610>,\n",
              "  <matplotlib.patches.Wedge at 0x7fa94f99db50>,\n",
              "  <matplotlib.patches.Wedge at 0x7fa94f9aa0d0>,\n",
              "  <matplotlib.patches.Wedge at 0x7fa94f9aa610>,\n",
              "  <matplotlib.patches.Wedge at 0x7fa94f9aab50>,\n",
              "  <matplotlib.patches.Wedge at 0x7fa94f9b70d0>,\n",
              "  <matplotlib.patches.Wedge at 0x7fa94f9b7610>,\n",
              "  <matplotlib.patches.Wedge at 0x7fa94f9b7b50>,\n",
              "  <matplotlib.patches.Wedge at 0x7fa94f9c30d0>,\n",
              "  <matplotlib.patches.Wedge at 0x7fa94f9c3610>,\n",
              "  <matplotlib.patches.Wedge at 0x7fa94f9c3b50>,\n",
              "  <matplotlib.patches.Wedge at 0x7fa94f94f0d0>,\n",
              "  <matplotlib.patches.Wedge at 0x7fa94f94f610>,\n",
              "  <matplotlib.patches.Wedge at 0x7fa94f94fb50>,\n",
              "  <matplotlib.patches.Wedge at 0x7fa94f95b0d0>,\n",
              "  <matplotlib.patches.Wedge at 0x7fa94f95b610>,\n",
              "  <matplotlib.patches.Wedge at 0x7fa94f95bb50>,\n",
              "  <matplotlib.patches.Wedge at 0x7fa94f9670d0>,\n",
              "  <matplotlib.patches.Wedge at 0x7fa94f967610>,\n",
              "  <matplotlib.patches.Wedge at 0x7fa94f967b50>,\n",
              "  <matplotlib.patches.Wedge at 0x7fa94f9760d0>,\n",
              "  <matplotlib.patches.Wedge at 0x7fa94f976610>,\n",
              "  <matplotlib.patches.Wedge at 0x7fa94f976b50>,\n",
              "  <matplotlib.patches.Wedge at 0x7fa94f9820d0>,\n",
              "  <matplotlib.patches.Wedge at 0x7fa94f982610>,\n",
              "  <matplotlib.patches.Wedge at 0x7fa94f982b50>,\n",
              "  <matplotlib.patches.Wedge at 0x7fa94f90e0d0>,\n",
              "  <matplotlib.patches.Wedge at 0x7fa94f90e610>,\n",
              "  <matplotlib.patches.Wedge at 0x7fa94f90eb50>,\n",
              "  <matplotlib.patches.Wedge at 0x7fa94f91a0d0>,\n",
              "  <matplotlib.patches.Wedge at 0x7fa94f91a610>,\n",
              "  <matplotlib.patches.Wedge at 0x7fa94f91ab50>,\n",
              "  <matplotlib.patches.Wedge at 0x7fa94f9280d0>,\n",
              "  <matplotlib.patches.Wedge at 0x7fa94f928610>,\n",
              "  <matplotlib.patches.Wedge at 0x7fa94f928b50>,\n",
              "  <matplotlib.patches.Wedge at 0x7fa94f9340d0>,\n",
              "  <matplotlib.patches.Wedge at 0x7fa94f934610>,\n",
              "  <matplotlib.patches.Wedge at 0x7fa94f934b50>,\n",
              "  <matplotlib.patches.Wedge at 0x7fa94f9400d0>,\n",
              "  <matplotlib.patches.Wedge at 0x7fa94f940610>,\n",
              "  <matplotlib.patches.Wedge at 0x7fa94f940b50>,\n",
              "  <matplotlib.patches.Wedge at 0x7fa94f94c0d0>,\n",
              "  <matplotlib.patches.Wedge at 0x7fa94f94c610>,\n",
              "  <matplotlib.patches.Wedge at 0x7fa94f94cb50>,\n",
              "  <matplotlib.patches.Wedge at 0x7fa94f8da0d0>,\n",
              "  <matplotlib.patches.Wedge at 0x7fa94f8da610>,\n",
              "  <matplotlib.patches.Wedge at 0x7fa94f8dab50>,\n",
              "  <matplotlib.patches.Wedge at 0x7fa94f8e50d0>,\n",
              "  <matplotlib.patches.Wedge at 0x7fa94f8e5610>,\n",
              "  <matplotlib.patches.Wedge at 0x7fa94f8e5b50>,\n",
              "  <matplotlib.patches.Wedge at 0x7fa94f8f30d0>,\n",
              "  <matplotlib.patches.Wedge at 0x7fa94f8f3610>,\n",
              "  <matplotlib.patches.Wedge at 0x7fa94f8f3b50>,\n",
              "  <matplotlib.patches.Wedge at 0x7fa94f8ff0d0>,\n",
              "  <matplotlib.patches.Wedge at 0x7fa94f8ff610>,\n",
              "  <matplotlib.patches.Wedge at 0x7fa94f8ffb50>,\n",
              "  <matplotlib.patches.Wedge at 0x7fa94f90b0d0>,\n",
              "  <matplotlib.patches.Wedge at 0x7fa94f90b610>,\n",
              "  <matplotlib.patches.Wedge at 0x7fa94f90bb50>,\n",
              "  <matplotlib.patches.Wedge at 0x7fa94f8990d0>,\n",
              "  <matplotlib.patches.Wedge at 0x7fa94f899610>,\n",
              "  <matplotlib.patches.Wedge at 0x7fa94f899b50>,\n",
              "  <matplotlib.patches.Wedge at 0x7fa94f8a50d0>,\n",
              "  <matplotlib.patches.Wedge at 0x7fa94f8a5610>,\n",
              "  <matplotlib.patches.Wedge at 0x7fa94f8a5b50>,\n",
              "  <matplotlib.patches.Wedge at 0x7fa94f8b00d0>,\n",
              "  <matplotlib.patches.Wedge at 0x7fa94f8b0610>,\n",
              "  <matplotlib.patches.Wedge at 0x7fa94f8b0b50>,\n",
              "  <matplotlib.patches.Wedge at 0x7fa94f8bd0d0>,\n",
              "  <matplotlib.patches.Wedge at 0x7fa94f8bd610>,\n",
              "  <matplotlib.patches.Wedge at 0x7fa94f8bdb50>,\n",
              "  <matplotlib.patches.Wedge at 0x7fa94f8ca0d0>,\n",
              "  <matplotlib.patches.Wedge at 0x7fa94f8ca610>,\n",
              "  <matplotlib.patches.Wedge at 0x7fa94f8cab50>,\n",
              "  <matplotlib.patches.Wedge at 0x7fa94f8580d0>,\n",
              "  <matplotlib.patches.Wedge at 0x7fa94f858610>,\n",
              "  <matplotlib.patches.Wedge at 0x7fa94f858b50>,\n",
              "  <matplotlib.patches.Wedge at 0x7fa94f8630d0>,\n",
              "  <matplotlib.patches.Wedge at 0x7fa94f863610>,\n",
              "  <matplotlib.patches.Wedge at 0x7fa94f863b50>,\n",
              "  <matplotlib.patches.Wedge at 0x7fa94f86f0d0>,\n",
              "  <matplotlib.patches.Wedge at 0x7fa94f86f610>,\n",
              "  <matplotlib.patches.Wedge at 0x7fa94f86fb50>,\n",
              "  <matplotlib.patches.Wedge at 0x7fa94f87d0d0>,\n",
              "  <matplotlib.patches.Wedge at 0x7fa94f87d610>,\n",
              "  <matplotlib.patches.Wedge at 0x7fa94f87db50>,\n",
              "  <matplotlib.patches.Wedge at 0x7fa94f88a0d0>,\n",
              "  <matplotlib.patches.Wedge at 0x7fa94f88a610>,\n",
              "  <matplotlib.patches.Wedge at 0x7fa94f88ab50>,\n",
              "  <matplotlib.patches.Wedge at 0x7fa94f8160d0>,\n",
              "  <matplotlib.patches.Wedge at 0x7fa94f816610>,\n",
              "  <matplotlib.patches.Wedge at 0x7fa94f816b50>,\n",
              "  <matplotlib.patches.Wedge at 0x7fa94f8230d0>,\n",
              "  <matplotlib.patches.Wedge at 0x7fa94f823610>,\n",
              "  <matplotlib.patches.Wedge at 0x7fa94f823b50>,\n",
              "  <matplotlib.patches.Wedge at 0x7fa94f82e0d0>,\n",
              "  <matplotlib.patches.Wedge at 0x7fa94f82e610>,\n",
              "  <matplotlib.patches.Wedge at 0x7fa94f82eb50>,\n",
              "  <matplotlib.patches.Wedge at 0x7fa94f83b0d0>,\n",
              "  <matplotlib.patches.Wedge at 0x7fa94f83b610>,\n",
              "  <matplotlib.patches.Wedge at 0x7fa94f83bb50>,\n",
              "  <matplotlib.patches.Wedge at 0x7fa94f8470d0>,\n",
              "  <matplotlib.patches.Wedge at 0x7fa94f847610>,\n",
              "  <matplotlib.patches.Wedge at 0x7fa94f847b50>,\n",
              "  <matplotlib.patches.Wedge at 0x7fa94f7d40d0>,\n",
              "  <matplotlib.patches.Wedge at 0x7fa94f7d4610>,\n",
              "  <matplotlib.patches.Wedge at 0x7fa94f7d4b50>,\n",
              "  <matplotlib.patches.Wedge at 0x7fa94f7e10d0>,\n",
              "  <matplotlib.patches.Wedge at 0x7fa94f7e1610>,\n",
              "  <matplotlib.patches.Wedge at 0x7fa94f7e1b50>,\n",
              "  <matplotlib.patches.Wedge at 0x7fa94f7ee0d0>,\n",
              "  <matplotlib.patches.Wedge at 0x7fa94f7ee610>,\n",
              "  <matplotlib.patches.Wedge at 0x7fa94f7eeb50>,\n",
              "  <matplotlib.patches.Wedge at 0x7fa94f7fc0d0>,\n",
              "  <matplotlib.patches.Wedge at 0x7fa94f7fc610>,\n",
              "  <matplotlib.patches.Wedge at 0x7fa94f7fcb50>,\n",
              "  <matplotlib.patches.Wedge at 0x7fa94f8070d0>,\n",
              "  <matplotlib.patches.Wedge at 0x7fa94f807610>,\n",
              "  <matplotlib.patches.Wedge at 0x7fa94f807b50>,\n",
              "  <matplotlib.patches.Wedge at 0x7fa94f7920d0>,\n",
              "  <matplotlib.patches.Wedge at 0x7fa94f792610>,\n",
              "  <matplotlib.patches.Wedge at 0x7fa94f792b50>,\n",
              "  <matplotlib.patches.Wedge at 0x7fa94f7a00d0>,\n",
              "  <matplotlib.patches.Wedge at 0x7fa94f7a0610>,\n",
              "  <matplotlib.patches.Wedge at 0x7fa94f7a0b50>,\n",
              "  <matplotlib.patches.Wedge at 0x7fa94f7ac0d0>,\n",
              "  <matplotlib.patches.Wedge at 0x7fa94f7ac610>,\n",
              "  <matplotlib.patches.Wedge at 0x7fa94f7acb50>,\n",
              "  <matplotlib.patches.Wedge at 0x7fa94f7b90d0>,\n",
              "  <matplotlib.patches.Wedge at 0x7fa94f7b9610>,\n",
              "  <matplotlib.patches.Wedge at 0x7fa94f7b9b50>,\n",
              "  <matplotlib.patches.Wedge at 0x7fa94f7c50d0>,\n",
              "  <matplotlib.patches.Wedge at 0x7fa94f7c5610>,\n",
              "  <matplotlib.patches.Wedge at 0x7fa94f7c5b50>,\n",
              "  <matplotlib.patches.Wedge at 0x7fa94f7510d0>,\n",
              "  <matplotlib.patches.Wedge at 0x7fa94f751610>,\n",
              "  <matplotlib.patches.Wedge at 0x7fa94f751b50>,\n",
              "  <matplotlib.patches.Wedge at 0x7fa94f75e0d0>,\n",
              "  <matplotlib.patches.Wedge at 0x7fa94f75e610>,\n",
              "  <matplotlib.patches.Wedge at 0x7fa94f75eb50>,\n",
              "  <matplotlib.patches.Wedge at 0x7fa94f76b0d0>,\n",
              "  <matplotlib.patches.Wedge at 0x7fa94f76b610>,\n",
              "  <matplotlib.patches.Wedge at 0x7fa94f76bb50>,\n",
              "  <matplotlib.patches.Wedge at 0x7fa94f7770d0>,\n",
              "  <matplotlib.patches.Wedge at 0x7fa94f777610>,\n",
              "  <matplotlib.patches.Wedge at 0x7fa94f777b50>,\n",
              "  <matplotlib.patches.Wedge at 0x7fa94f7850d0>,\n",
              "  <matplotlib.patches.Wedge at 0x7fa94f785610>,\n",
              "  <matplotlib.patches.Wedge at 0x7fa94f785b50>,\n",
              "  <matplotlib.patches.Wedge at 0x7fa94f7110d0>,\n",
              "  <matplotlib.patches.Wedge at 0x7fa94f711610>,\n",
              "  <matplotlib.patches.Wedge at 0x7fa94f711b50>,\n",
              "  <matplotlib.patches.Wedge at 0x7fa94f71d0d0>,\n",
              "  <matplotlib.patches.Wedge at 0x7fa94f71d610>,\n",
              "  <matplotlib.patches.Wedge at 0x7fa94f71db50>,\n",
              "  <matplotlib.patches.Wedge at 0x7fa94f72a0d0>,\n",
              "  <matplotlib.patches.Wedge at 0x7fa94f72a610>,\n",
              "  <matplotlib.patches.Wedge at 0x7fa94f72ab50>,\n",
              "  <matplotlib.patches.Wedge at 0x7fa94f7360d0>,\n",
              "  <matplotlib.patches.Wedge at 0x7fa94f736610>,\n",
              "  <matplotlib.patches.Wedge at 0x7fa94f736b50>,\n",
              "  <matplotlib.patches.Wedge at 0x7fa94f7430d0>,\n",
              "  <matplotlib.patches.Wedge at 0x7fa94f743610>,\n",
              "  <matplotlib.patches.Wedge at 0x7fa94f743b50>,\n",
              "  <matplotlib.patches.Wedge at 0x7fa94f6d00d0>,\n",
              "  <matplotlib.patches.Wedge at 0x7fa94f6d0610>,\n",
              "  <matplotlib.patches.Wedge at 0x7fa94f6d0b50>,\n",
              "  <matplotlib.patches.Wedge at 0x7fa94f6dc0d0>,\n",
              "  <matplotlib.patches.Wedge at 0x7fa94f6dc610>,\n",
              "  <matplotlib.patches.Wedge at 0x7fa94f6dcb50>,\n",
              "  <matplotlib.patches.Wedge at 0x7fa94f6e90d0>,\n",
              "  <matplotlib.patches.Wedge at 0x7fa94f6e9610>,\n",
              "  <matplotlib.patches.Wedge at 0x7fa94f6e9b50>,\n",
              "  <matplotlib.patches.Wedge at 0x7fa94f6f40d0>,\n",
              "  <matplotlib.patches.Wedge at 0x7fa94f6f4610>,\n",
              "  <matplotlib.patches.Wedge at 0x7fa94f6f4b50>,\n",
              "  <matplotlib.patches.Wedge at 0x7fa94f7030d0>,\n",
              "  <matplotlib.patches.Wedge at 0x7fa94f703610>,\n",
              "  <matplotlib.patches.Wedge at 0x7fa94f703b50>,\n",
              "  <matplotlib.patches.Wedge at 0x7fa94f68e0d0>,\n",
              "  <matplotlib.patches.Wedge at 0x7fa94f68e610>,\n",
              "  <matplotlib.patches.Wedge at 0x7fa94f68eb50>,\n",
              "  <matplotlib.patches.Wedge at 0x7fa94f69b0d0>,\n",
              "  <matplotlib.patches.Wedge at 0x7fa94f69b610>,\n",
              "  <matplotlib.patches.Wedge at 0x7fa94f69bb50>,\n",
              "  <matplotlib.patches.Wedge at 0x7fa94f6a70d0>,\n",
              "  <matplotlib.patches.Wedge at 0x7fa94f6a7610>,\n",
              "  <matplotlib.patches.Wedge at 0x7fa94f6a7b50>,\n",
              "  <matplotlib.patches.Wedge at 0x7fa94f6b40d0>,\n",
              "  <matplotlib.patches.Wedge at 0x7fa94f6b4610>,\n",
              "  <matplotlib.patches.Wedge at 0x7fa94f6b4b50>,\n",
              "  <matplotlib.patches.Wedge at 0x7fa94f6c00d0>,\n",
              "  <matplotlib.patches.Wedge at 0x7fa94f6c0610>,\n",
              "  <matplotlib.patches.Wedge at 0x7fa94f6c0b50>,\n",
              "  <matplotlib.patches.Wedge at 0x7fa94f64d0d0>,\n",
              "  <matplotlib.patches.Wedge at 0x7fa94f64d610>,\n",
              "  <matplotlib.patches.Wedge at 0x7fa94f64db50>,\n",
              "  <matplotlib.patches.Wedge at 0x7fa94f65a0d0>,\n",
              "  <matplotlib.patches.Wedge at 0x7fa94f65a610>,\n",
              "  <matplotlib.patches.Wedge at 0x7fa94f65ab50>,\n",
              "  <matplotlib.patches.Wedge at 0x7fa94f6680d0>,\n",
              "  <matplotlib.patches.Wedge at 0x7fa94f668610>,\n",
              "  <matplotlib.patches.Wedge at 0x7fa94f668b50>,\n",
              "  <matplotlib.patches.Wedge at 0x7fa94f6730d0>,\n",
              "  <matplotlib.patches.Wedge at 0x7fa94f673610>,\n",
              "  <matplotlib.patches.Wedge at 0x7fa94f673b50>,\n",
              "  <matplotlib.patches.Wedge at 0x7fa94f67e0d0>,\n",
              "  <matplotlib.patches.Wedge at 0x7fa94f67e610>,\n",
              "  <matplotlib.patches.Wedge at 0x7fa94f67eb50>,\n",
              "  <matplotlib.patches.Wedge at 0x7fa94f68b0d0>,\n",
              "  <matplotlib.patches.Wedge at 0x7fa94f68b610>,\n",
              "  <matplotlib.patches.Wedge at 0x7fa94f68bb50>,\n",
              "  <matplotlib.patches.Wedge at 0x7fa94f6180d0>,\n",
              "  <matplotlib.patches.Wedge at 0x7fa94f618610>,\n",
              "  <matplotlib.patches.Wedge at 0x7fa94f618b50>,\n",
              "  <matplotlib.patches.Wedge at 0x7fa94f6240d0>,\n",
              "  <matplotlib.patches.Wedge at 0x7fa94f624610>,\n",
              "  <matplotlib.patches.Wedge at 0x7fa94f624b50>,\n",
              "  <matplotlib.patches.Wedge at 0x7fa94f6320d0>,\n",
              "  <matplotlib.patches.Wedge at 0x7fa94f632610>,\n",
              "  <matplotlib.patches.Wedge at 0x7fa94f632b50>,\n",
              "  <matplotlib.patches.Wedge at 0x7fa94f63e0d0>,\n",
              "  <matplotlib.patches.Wedge at 0x7fa94f63e610>,\n",
              "  <matplotlib.patches.Wedge at 0x7fa94f63eb50>,\n",
              "  <matplotlib.patches.Wedge at 0x7fa94f64b0d0>,\n",
              "  <matplotlib.patches.Wedge at 0x7fa94f64b610>,\n",
              "  <matplotlib.patches.Wedge at 0x7fa94f64bb50>,\n",
              "  <matplotlib.patches.Wedge at 0x7fa94f5d70d0>,\n",
              "  <matplotlib.patches.Wedge at 0x7fa94f5d7610>,\n",
              "  <matplotlib.patches.Wedge at 0x7fa94f5d7b50>,\n",
              "  <matplotlib.patches.Wedge at 0x7fa94f5e40d0>,\n",
              "  <matplotlib.patches.Wedge at 0x7fa94f5e4610>,\n",
              "  <matplotlib.patches.Wedge at 0x7fa94f5e4b50>,\n",
              "  <matplotlib.patches.Wedge at 0x7fa94f5f00d0>,\n",
              "  <matplotlib.patches.Wedge at 0x7fa94f5f0610>,\n",
              "  <matplotlib.patches.Wedge at 0x7fa94f5f0b50>,\n",
              "  <matplotlib.patches.Wedge at 0x7fa94f5fc0d0>,\n",
              "  <matplotlib.patches.Wedge at 0x7fa94f5fc610>,\n",
              "  <matplotlib.patches.Wedge at 0x7fa94f5fcb50>,\n",
              "  <matplotlib.patches.Wedge at 0x7fa94f60b0d0>,\n",
              "  <matplotlib.patches.Wedge at 0x7fa94f60b610>,\n",
              "  <matplotlib.patches.Wedge at 0x7fa94f60bb50>,\n",
              "  <matplotlib.patches.Wedge at 0x7fa94f5960d0>,\n",
              "  <matplotlib.patches.Wedge at 0x7fa94f596610>,\n",
              "  <matplotlib.patches.Wedge at 0x7fa94f596b50>,\n",
              "  <matplotlib.patches.Wedge at 0x7fa94f5a10d0>,\n",
              "  <matplotlib.patches.Wedge at 0x7fa94f5a1610>,\n",
              "  <matplotlib.patches.Wedge at 0x7fa94f5a1b50>,\n",
              "  <matplotlib.patches.Wedge at 0x7fa94f5af0d0>,\n",
              "  <matplotlib.patches.Wedge at 0x7fa94f5af610>,\n",
              "  <matplotlib.patches.Wedge at 0x7fa94f5afb50>,\n",
              "  <matplotlib.patches.Wedge at 0x7fa94f5bc0d0>,\n",
              "  <matplotlib.patches.Wedge at 0x7fa94f5bc610>,\n",
              "  <matplotlib.patches.Wedge at 0x7fa94f5bcb50>,\n",
              "  <matplotlib.patches.Wedge at 0x7fa94f5c90d0>,\n",
              "  <matplotlib.patches.Wedge at 0x7fa94f5c9610>,\n",
              "  <matplotlib.patches.Wedge at 0x7fa94f5c9b50>,\n",
              "  <matplotlib.patches.Wedge at 0x7fa94f5550d0>,\n",
              "  <matplotlib.patches.Wedge at 0x7fa94f555610>,\n",
              "  <matplotlib.patches.Wedge at 0x7fa94f555b50>,\n",
              "  <matplotlib.patches.Wedge at 0x7fa94f5610d0>,\n",
              "  <matplotlib.patches.Wedge at 0x7fa94f561610>,\n",
              "  <matplotlib.patches.Wedge at 0x7fa94f561b50>,\n",
              "  <matplotlib.patches.Wedge at 0x7fa94f56d0d0>,\n",
              "  <matplotlib.patches.Wedge at 0x7fa94f56d610>,\n",
              "  <matplotlib.patches.Wedge at 0x7fa94f56db50>,\n",
              "  <matplotlib.patches.Wedge at 0x7fa94f57b0d0>,\n",
              "  <matplotlib.patches.Wedge at 0x7fa94f57b610>,\n",
              "  <matplotlib.patches.Wedge at 0x7fa94f57bb50>,\n",
              "  <matplotlib.patches.Wedge at 0x7fa94f5860d0>,\n",
              "  <matplotlib.patches.Wedge at 0x7fa94f586610>,\n",
              "  <matplotlib.patches.Wedge at 0x7fa94f586b50>,\n",
              "  <matplotlib.patches.Wedge at 0x7fa94f5140d0>,\n",
              "  <matplotlib.patches.Wedge at 0x7fa94f514610>,\n",
              "  <matplotlib.patches.Wedge at 0x7fa94f514b50>,\n",
              "  <matplotlib.patches.Wedge at 0x7fa94f5200d0>,\n",
              "  <matplotlib.patches.Wedge at 0x7fa94f520610>,\n",
              "  <matplotlib.patches.Wedge at 0x7fa94f520b50>,\n",
              "  <matplotlib.patches.Wedge at 0x7fa94f52c0d0>,\n",
              "  <matplotlib.patches.Wedge at 0x7fa94f52c610>,\n",
              "  <matplotlib.patches.Wedge at 0x7fa94f52cb50>,\n",
              "  <matplotlib.patches.Wedge at 0x7fa94f53a0d0>,\n",
              "  <matplotlib.patches.Wedge at 0x7fa94f53a610>,\n",
              "  <matplotlib.patches.Wedge at 0x7fa94f53ab50>,\n",
              "  <matplotlib.patches.Wedge at 0x7fa94f5460d0>,\n",
              "  <matplotlib.patches.Wedge at 0x7fa94f546610>,\n",
              "  <matplotlib.patches.Wedge at 0x7fa94f546b50>,\n",
              "  <matplotlib.patches.Wedge at 0x7fa94f4d10d0>,\n",
              "  <matplotlib.patches.Wedge at 0x7fa94f4d1610>,\n",
              "  <matplotlib.patches.Wedge at 0x7fa94f4d1b50>,\n",
              "  <matplotlib.patches.Wedge at 0x7fa94f4de0d0>,\n",
              "  <matplotlib.patches.Wedge at 0x7fa94f4de610>,\n",
              "  <matplotlib.patches.Wedge at 0x7fa94f4deb50>,\n",
              "  <matplotlib.patches.Wedge at 0x7fa94f4ec0d0>,\n",
              "  <matplotlib.patches.Wedge at 0x7fa94f4ec610>,\n",
              "  <matplotlib.patches.Wedge at 0x7fa94f4ecb50>,\n",
              "  <matplotlib.patches.Wedge at 0x7fa94f4f80d0>,\n",
              "  <matplotlib.patches.Wedge at 0x7fa94f4f8610>,\n",
              "  <matplotlib.patches.Wedge at 0x7fa94f4f8b50>,\n",
              "  <matplotlib.patches.Wedge at 0x7fa94f5030d0>,\n",
              "  <matplotlib.patches.Wedge at 0x7fa94f503610>,\n",
              "  <matplotlib.patches.Wedge at 0x7fa94f503b50>,\n",
              "  <matplotlib.patches.Wedge at 0x7fa94f4910d0>,\n",
              "  <matplotlib.patches.Wedge at 0x7fa94f491610>,\n",
              "  <matplotlib.patches.Wedge at 0x7fa94f491b50>,\n",
              "  <matplotlib.patches.Wedge at 0x7fa94f49e0d0>,\n",
              "  <matplotlib.patches.Wedge at 0x7fa94f49e610>,\n",
              "  <matplotlib.patches.Wedge at 0x7fa94f49eb50>,\n",
              "  <matplotlib.patches.Wedge at 0x7fa94f4ab0d0>,\n",
              "  <matplotlib.patches.Wedge at 0x7fa94f4ab610>,\n",
              "  ...],\n",
              " [Text(1.099999216188239, 0.0013131585052929644, 'KS'),\n",
              "  Text(1.0999936961666392, 0.0037240292232088037, 'OH'),\n",
              "  Text(1.0999823734174514, 0.006227212129878472, 'NJ'),\n",
              "  Text(1.0999672017694748, 0.008494411776677263, 'OH'),\n",
              "  Text(1.0999533960060974, 0.010125542684409548, 'OK'),\n",
              "  Text(1.0999333881449012, 0.012105438615690018, 'AL'),\n",
              "  Text(1.0999036724862685, 0.01455717181391269, 'MA'),\n",
              "  Text(1.0998638514218246, 0.017306309125586186, 'MO'),\n",
              "  Text(1.099817906492098, 0.020014308864878996, 'LA'),\n",
              "  Text(1.0997665639233578, 0.02266064597956342, 'WV'),\n",
              "  Text(1.0997209976801872, 0.02477351935623853, 'IN'),\n",
              "  Text(1.0996879579260097, 0.026199144881517613, 'RI'),\n",
              "  Text(1.0996260258131656, 0.028681062643201017, 'IA'),\n",
              "  Text(1.099552367718627, 0.03137818739764481, 'MT'),\n",
              "  Text(1.099505243595192, 0.03298816919257423, 'IA'),\n",
              "  Text(1.099434257213511, 0.035274836149523155, 'NY'),\n",
              "  Text(1.0993504327180394, 0.037797170299636806, 'ID'),\n",
              "  Text(1.0992861707408412, 0.03962215059708541, 'VT'),\n",
              "  Text(1.0992223542971278, 0.041354755633178336, 'VA'),\n",
              "  Text(1.099163824935022, 0.042882233549718624, 'TX'),\n",
              "  Text(1.0990735250710673, 0.04513741782444415, 'FL'),\n",
              "  Text(1.0989768294199116, 0.047433410146844074, 'CO'),\n",
              "  Text(1.0988832080931155, 0.049554969185569196, 'AZ'),\n",
              "  Text(1.0987690494209978, 0.052024763665749464, 'SC'),\n",
              "  Text(1.0986483231055888, 0.05451478824390685, 'VA'),\n",
              "  Text(1.0984882704831123, 0.05764997494380329, 'NE'),\n",
              "  Text(1.0983615201111065, 0.060016423912289306, 'WY'),\n",
              "  Text(1.098298800652953, 0.061153450305646215, 'MT'),\n",
              "  Text(1.098256333758376, 0.061911431574555906, 'MO'),\n",
              "  Text(1.0982162649586404, 0.06261817132664585, 'HI'),\n",
              "  Text(1.0981029780412632, 0.0645743727566084, 'IL'),\n",
              "  Text(1.097970041624853, 0.0667966143926388, 'NH'),\n",
              "  Text(1.0978132542010461, 0.0693257448608347, 'LA'),\n",
              "  Text(1.0976926706796262, 0.0712095550907999, 'AZ'),\n",
              "  Text(1.097646618446497, 0.07191593017524263, 'OK'),\n",
              "  Text(1.0975593014929985, 0.07323646432072993, 'GA'),\n",
              "  Text(1.0974849771256778, 0.07434194632541336, 'AK'),\n",
              "  Text(1.0974053156585464, 0.0755087621694731, 'MA'),\n",
              "  Text(1.097252425714829, 0.07769886912255464, 'AK'),\n",
              "  Text(1.0970420241307637, 0.08061511825381862, 'NJ'),\n",
              "  Text(1.096853406562833, 0.08314207425551091, 'GA'),\n",
              "  Text(1.0966701447213285, 0.08552539784707472, 'MD'),\n",
              "  Text(1.0965339805285284, 0.08725382253094321, 'AR'),\n",
              "  Text(1.0963743153433938, 0.0892376638830522, 'ID'),\n",
              "  Text(1.0961854951035745, 0.09152792101064867, 'WI'),\n",
              "  Text(1.0960797777306934, 0.09278534824978528, 'OR'),\n",
              "  Text(1.0959717408424883, 0.0940528748879366, 'MI'),\n",
              "  Text(1.0957881231522737, 0.09616854557711584, 'DE'),\n",
              "  Text(1.0955507840865546, 0.09883561851547001, 'ID'),\n",
              "  Text(1.0953494563722965, 0.10104240904152431, 'WY'),\n",
              "  Text(1.095207986702627, 0.10256444736251714, 'IA'),\n",
              "  Text(1.0951002546999178, 0.10370839964137583, 'IN'),\n",
              "  Text(1.095032315422971, 0.10442331243264921, 'VA'),\n",
              "  Text(1.0949285474803538, 0.10550580985217299, 'UT'),\n",
              "  Text(1.094746882538705, 0.10737440650260603, 'WY'),\n",
              "  Text(1.0945773005935893, 0.10908956423623335, 'IN'),\n",
              "  Text(1.0943490886698946, 0.11135561111758825, 'CO'),\n",
              "  Text(1.0940737222125685, 0.11402933992589719, 'CO'),\n",
              "  Text(1.093871024030113, 0.11595767670711611, 'WI'),\n",
              "  Text(1.093660528544609, 0.11792645294219034, 'OK'),\n",
              "  Text(1.0933274272774105, 0.12097576932162307, 'ID'),\n",
              "  Text(1.092996230447946, 0.1239324018430246, 'CA'),\n",
              "  Text(1.0927749040409327, 0.12586901564058794, 'MN'),\n",
              "  Text(1.092510759709889, 0.12814148398594946, 'SD'),\n",
              "  Text(1.0922856145393185, 0.1300466695862047, 'NC'),\n",
              "  Text(1.0921907217566906, 0.13084122939119436, 'WA'),\n",
              "  Text(1.0920891113583506, 0.13168664644726952, 'WY'),\n",
              "  Text(1.0918963619807474, 0.13327540918417274, 'MN'),\n",
              "  Text(1.091596577116992, 0.13570892684885147, 'UT'),\n",
              "  Text(1.0912436341077139, 0.13851834181576783, 'TX'),\n",
              "  Text(1.0908676368969814, 0.14144892636848097, 'NJ'),\n",
              "  Text(1.0904676042611765, 0.14450053306784205, 'MN'),\n",
              "  Text(1.090046646098775, 0.14764250515624586, 'NM'),\n",
              "  Text(1.089717640496203, 0.15005153778415042, 'NV'),\n",
              "  Text(1.0894712867516632, 0.15182988949372164, 'HI'),\n",
              "  Text(1.0892792594556002, 0.15320148471819475, 'MN'),\n",
              "  Text(1.0890898297922857, 0.15454236520452916, 'DC'),\n",
              "  Text(1.0887616711642232, 0.1568375701281045, 'NY'),\n",
              "  Text(1.0884820428882536, 0.15876662845136608, 'MN'),\n",
              "  Text(1.0883096420571328, 0.15994412463568647, 'MD'),\n",
              "  Text(1.08798824983845, 0.16211590980982232, 'WV'),\n",
              "  Text(1.087591942001692, 0.16475365760124605, 'OR'),\n",
              "  Text(1.0873278071477954, 0.1664879569313245, 'CO'),\n",
              "  Text(1.0871329763886335, 0.16775545191853175, 'GA'),\n",
              "  Text(1.0868561500042706, 0.16953969799989166, 'TX'),\n",
              "  Text(1.0864835619442355, 0.171911226000419, 'VT'),\n",
              "  Text(1.0861252975053892, 0.1741603804509788, 'IN'),\n",
              "  Text(1.085790332828346, 0.1762366395971906, 'WV'),\n",
              "  Text(1.0854846405214553, 0.17810978409960235, 'KY'),\n",
              "  Text(1.0851471671121984, 0.18015444959359433, 'NJ'),\n",
              "  Text(1.0847922452038048, 0.18227941393829575, 'DC'),\n",
              "  Text(1.0843866924778591, 0.18467674779714224, 'LA'),\n",
              "  Text(1.0839793310267098, 0.18705296016606274, 'AR'),\n",
              "  Text(1.083702518020611, 0.18865007934211778, 'ME'),\n",
              "  Text(1.083405603929634, 0.19034783259565913, 'AZ'),\n",
              "  Text(1.083059429867899, 0.19230775172681314, 'AK'),\n",
              "  Text(1.082740497492223, 0.19409537627232074, 'MT'),\n",
              "  Text(1.0824277478144961, 0.1958319962652622, 'AZ'),\n",
              "  Text(1.0820255065198143, 0.19804242787983362, 'MS'),\n",
              "  Text(1.0816598164544877, 0.20003010140387387, 'ID'),\n",
              "  Text(1.081331902364407, 0.2017952351493287, 'IA'),\n",
              "  Text(1.0809422096384191, 0.20387236061323236, 'MA'),\n",
              "  Text(1.080477394423292, 0.20632159397468372, 'VT'),\n",
              "  Text(1.0800323336741835, 0.20863882241399162, 'KY'),\n",
              "  Text(1.0796078722931683, 0.21082419709942696, 'IN'),\n",
              "  Text(1.0791789889543173, 0.21300870827160504, 'AZ'),\n",
              "  Text(1.0789179380485545, 0.21432704672312214, 'MI'),\n",
              "  Text(1.0786592988512416, 0.2156249452214382, 'NM'),\n",
              "  Text(1.0781861548479594, 0.21797847484137592, 'CO'),\n",
              "  Text(1.0775761702619866, 0.22097420049297664, 'UT'),\n",
              "  Text(1.0770017066708197, 0.22375728776543077, 'MI'),\n",
              "  Text(1.0765340095501799, 0.22599673953801513, 'MA'),\n",
              "  Text(1.0761084627395776, 0.22801442151816512, 'AL'),\n",
              "  Text(1.0756319136132177, 0.23025200632517287, 'DE'),\n",
              "  Text(1.0752265444903586, 0.23213762733198404, 'AZ'),\n",
              "  Text(1.0750117500871428, 0.23313030085035827, 'ME'),\n",
              "  Text(1.0747938556614125, 0.23413279956570562, 'NJ'),\n",
              "  Text(1.0744916261343131, 0.2355159131932267, 'NV'),\n",
              "  Text(1.0740814572060473, 0.23737949213471315, 'MO'),\n",
              "  Text(1.0736167121536289, 0.23947266103760678, 'ID'),\n",
              "  Text(1.0732963782740232, 0.24090430544899982, 'NE'),\n",
              "  Text(1.0731005557503448, 0.24177509641876135, 'TX'),\n",
              "  Text(1.072734038204476, 0.24339614474662052, 'MD'),\n",
              "  Text(1.0720166552632833, 0.2465365912762712, 'MS'),\n",
              "  Text(1.0712691177293365, 0.24976484420232015, 'NV'),\n",
              "  Text(1.0707661412831984, 0.2519124266118878, 'AZ'),\n",
              "  Text(1.070182989223631, 0.25437839840751786, 'MS'),\n",
              "  Text(1.0696516214298541, 0.2566036024152505, 'MS'),\n",
              "  Text(1.0692843743522487, 0.2581296704490217, 'TX'),\n",
              "  Text(1.0687452066617844, 0.26035299736599965, 'NE'),\n",
              "  Text(1.068206313652757, 0.26255527317574023, 'NE'),\n",
              "  Text(1.0678010137115328, 0.2641987795517291, 'CA'),\n",
              "  Text(1.0674229306395788, 0.2657221991945974, 'NJ'),\n",
              "  Text(1.067025224789676, 0.26731473895492824, 'TX'),\n",
              "  Text(1.066411633372419, 0.2697521607104743, 'AR'),\n",
              "  Text(1.0657696235162621, 0.2722776332900021, 'AL'),\n",
              "  Text(1.0653468104307247, 0.2739273142734794, 'NY'),\n",
              "  Text(1.064921443842489, 0.27557633868753784, 'FL'),\n",
              "  Text(1.0643589529759667, 0.27774092103956155, 'AK'),\n",
              "  Text(1.0637346088568016, 0.2801226194370372, 'NV'),\n",
              "  Text(1.0631497124641462, 0.2823343565480531, 'DE'),\n",
              "  Text(1.06254163866542, 0.2846142408633209, 'MD'),\n",
              "  Text(1.0618028167146647, 0.2873582753581395, 'MI'),\n",
              "  Text(1.06110289003253, 0.28993215890034063, 'VT'),\n",
              "  Text(1.0605057709550754, 0.2921087293645662, 'VT'),\n",
              "  Text(1.0598025733912466, 0.29464980134609176, 'MI'),\n",
              "  Text(1.0590655654900962, 0.29728795467213764, 'WA'),\n",
              "  Text(1.05848128231669, 0.2993616124108362, 'UT'),\n",
              "  Text(1.057909805039678, 0.3013749233113313, 'LA'),\n",
              "  Text(1.057158891698157, 0.303998483061223, 'RI'),\n",
              "  Text(1.0564243464659184, 0.30654135152383183, 'IA'),\n",
              "  Text(1.0557643623375053, 0.30880675384142947, 'NE'),\n",
              "  Text(1.0552386709074235, 0.31059836995955825, 'OH'),\n",
              "  Text(1.0548874900778487, 0.31178900442006724, 'RI'),\n",
              "  Text(1.0544444335948626, 0.31328411460016586, 'OK'),\n",
              "  Text(1.0537199476851755, 0.31571232451450315, 'LA'),\n",
              "  Text(1.0530284345048544, 0.31801118867778205, 'OH'),\n",
              "  Text(1.0523677473240953, 0.3201907625026201, 'VA'),\n",
              "  Text(1.0519337816566192, 0.32161361757488527, 'MO'),\n",
              "  Text(1.0515701722781141, 0.32280051545029703, 'FL'),\n",
              "  Text(1.0509601712308285, 0.32478103159893423, 'SC'),\n",
              "  Text(1.0502671741690142, 0.3270150804825883, 'VA'),\n",
              "  Text(1.0494034773080458, 0.32977619958660104, 'IA'),\n",
              "  Text(1.0487772442803547, 0.33176240275188706, 'MI'),\n",
              "  Text(1.0481316875030355, 0.33379629364634816, 'OK'),\n",
              "  Text(1.047388183057359, 0.33612199272258897, 'DE'),\n",
              "  Text(1.046516345890991, 0.33882670759987066, 'GA'),\n",
              "  Text(1.0454590080817106, 0.3420752291832981, 'DC'),\n",
              "  Text(1.0446842849779667, 0.34443394826885804, 'AZ'),\n",
              "  Text(1.0442788098062705, 0.34566134783860214, 'AL'),\n",
              "  Text(1.0439559776708256, 0.3466351348108714, 'CO'),\n",
              "  Text(1.0435284488864494, 0.34792007180477685, 'NH'),\n",
              "  Text(1.0432392981369552, 0.34878613335784053, 'NM'),\n",
              "  Text(1.0429461675648553, 0.34966168157489225, 'OR'),\n",
              "  Text(1.0421477620580988, 0.3520341489646942, 'LA'),\n",
              "  Text(1.0412480672181001, 0.35468642843301873, 'NE'),\n",
              "  Text(1.0407309248599574, 0.3562009854564387, 'MN'),\n",
              "  Text(1.0401014357617189, 0.35803491914394525, 'MI'),\n",
              "  Text(1.0392873443137922, 0.3603911984901758, 'AR'),\n",
              "  Text(1.038660605706984, 0.36219352030703306, 'KS'),\n",
              "  Text(1.0381054045336877, 0.36378176023262737, 'WV'),\n",
              "  Text(1.03735680856748, 0.36591098879193645, 'AK'),\n",
              "  Text(1.0366964894979085, 0.3677776348049365, 'NY'),\n",
              "  Text(1.03640117211531, 0.36860902110232174, 'NH'),\n",
              "  Text(1.035749818197752, 0.3704353035326466, 'VA'),\n",
              "  Text(1.034907634732208, 0.37278168889175206, 'NM'),\n",
              "  Text(1.0342838607681992, 0.3745088721972132, 'NY'),\n",
              "  Text(1.033587007818623, 0.37642781149716653, 'AZ'),\n",
              "  Text(1.0326817843811074, 0.3789041200718885, 'WY'),\n",
              "  Text(1.0319199383812143, 0.38097406837120945, 'WA'),\n",
              "  Text(1.0313574250787623, 0.382494263662745, 'CO'),\n",
              "  Text(1.0305094564230202, 0.38477299830254696, 'TX'),\n",
              "  Text(1.029753884594777, 0.3867905598149563, 'KY'),\n",
              "  Text(1.029124846889583, 0.3884611299917825, 'MT'),\n",
              "  Text(1.0283547707126424, 0.390495154326592, 'OK'),\n",
              "  Text(1.0274964506079478, 0.39274806681646357, 'MD'),\n",
              "  Text(1.0267804803634382, 0.3946160730946313, 'TN'),\n",
              "  Text(1.0257242482373519, 0.3973534529583446, 'TX'),\n",
              "  Text(1.0244628297195144, 0.40059444644563613, 'ME'),\n",
              "  Text(1.023736348117272, 0.4024473748746679, 'DC'),\n",
              "  Text(1.0233003558292781, 0.40355468249008475, 'MN'),\n",
              "  Text(1.0228669398404913, 0.4046519781013664, 'DE'),\n",
              "  Text(1.022265757195393, 0.40616834153553855, 'MD'),\n",
              "  Text(1.021498748691965, 0.4080935020565136, 'MI'),\n",
              "  Text(1.020498515465211, 0.4105883338982012, 'WA'),\n",
              "  Text(1.0196423714774787, 0.4127098669619902, 'MO'),\n",
              "  Text(1.0189171732618498, 0.4144970374225629, 'IN'),\n",
              "  Text(1.0182975158151009, 0.4160170300417933, 'OR'),\n",
              "  Text(1.0177378853700505, 0.4173842314732292, 'MD'),\n",
              "  Text(1.016938022756421, 0.4193292952707466, 'RI'),\n",
              "  Text(1.0161619434058855, 0.4212064870981619, 'LA'),\n",
              "  Text(1.015204746722861, 0.42350834965956896, 'AZ'),\n",
              "  Text(1.0143098344416892, 0.4256472245356158, 'PA'),\n",
              "  Text(1.0136416697367374, 0.4272359598317061, 'AZ'),\n",
              "  Text(1.0130190028479125, 0.42871027497486147, 'FL'),\n",
              "  Text(1.0123661049458004, 0.43024977577782547, 'LA'),\n",
              "  Text(1.011618222343572, 0.4320052918916984, 'FL'),\n",
              "  Text(1.0107580371796285, 0.43401404387045456, 'FL'),\n",
              "  Text(1.0097189220623044, 0.43642605150166996, 'MD'),\n",
              "  Text(1.0087313411419556, 0.43870386526443067, 'AL'),\n",
              "  Text(1.0079646907242927, 0.44046246406825784, 'WA'),\n",
              "  Text(1.007108344303206, 0.44241697846585293, 'TN'),\n",
              "  Text(1.006314506754885, 0.44421966806375496, 'MS'),\n",
              "  Text(1.0058997715833418, 0.44515800512692205, 'ME'),\n",
              "  Text(1.0053884474024215, 0.446311628606906, 'OK'),\n",
              "  Text(1.0047505636534995, 0.44774580381950607, 'IN'),\n",
              "  Text(1.0039639575773016, 0.4495068096099575, 'MO'),\n",
              "  Text(1.0029173721695104, 0.45183707749652846, 'IA'),\n",
              "  Text(1.0019458411731383, 0.45398736915893667, 'VA'),\n",
              "  Text(1.0013139970175517, 0.45537926981444254, 'KY'),\n",
              "  Text(1.000727074270741, 0.4566676283923824, 'MD'),\n",
              "  Text(1.0000616003126082, 0.45812312273032596, 'OH'),\n",
              "  Text(0.9993640038144491, 0.4596428916887043, 'OK'),\n",
              "  Text(0.9987071032572846, 0.4610684568515219, 'NV'),\n",
              "  Text(0.9980826736421686, 0.4624186161642938, 'ID'),\n",
              "  Text(0.9970841229024721, 0.4645678119024264, 'MN'),\n",
              "  Text(0.9960025802633232, 0.46688206231210305, 'SD'),\n",
              "  Text(0.9950425308079209, 0.46892468679241867, 'IL'),\n",
              "  Text(0.9936166119243452, 0.47193858552568596, 'WY'),\n",
              "  Text(0.9923453989399044, 0.4746057408026184, 'AL'),\n",
              "  Text(0.9914095142967067, 0.47655763026308634, 'NJ'),\n",
              "  Text(0.990183997327893, 0.479098790893648, 'NV'),\n",
              "  Text(0.9894096975921659, 0.4806957980995664, 'IN'),\n",
              "  Text(0.988866604463015, 0.48181203656383187, 'WV'),\n",
              "  Text(0.9879977424488646, 0.48359121261241617, 'VA'),\n",
              "  Text(0.9874106941652211, 0.48478873857398586, 'SC'),\n",
              "  Text(0.9868267268786741, 0.4859763483112351, 'RI'),\n",
              "  Text(0.9861095340545257, 0.4874299814812034, 'IN'),\n",
              "  Text(0.9854494664955288, 0.48876308062667545, 'AZ'),\n",
              "  Text(0.9844765822281881, 0.49071973573956224, 'NM'),\n",
              "  Text(0.9837799417409022, 0.4921148506479632, 'OR'),\n",
              "  Text(0.9831411516790649, 0.49338978087832563, 'NJ'),\n",
              "  Text(0.9822745482647921, 0.49511282737493156, 'MS'),\n",
              "  Text(0.9814975816337617, 0.4966512833438341, 'MI'),\n",
              "  Text(0.9806485011905242, 0.4983257138787631, 'TX'),\n",
              "  Text(0.9797032832419931, 0.5001814438829766, 'FL'),\n",
              "  Text(0.9787030443432434, 0.5021357893969196, 'DC'),\n",
              "  Text(0.977661293466647, 0.5041610806648238, 'TX'),\n",
              "  Text(0.9766908748214138, 0.5060384718977219, 'KS'),\n",
              "  Text(0.9759772585287153, 0.5074134318627892, 'UT'),\n",
              "  Text(0.9755841813770955, 0.5081687761431065, 'MN'),\n",
              "  Text(0.9747534888471394, 0.5097603711356247, 'IL'),\n",
              "  Text(0.9734763102702357, 0.5121951516196225, 'NM'),\n",
              "  Text(0.9725431969944813, 0.5139647166681325, 'SC'),\n",
              "  Text(0.9714240284945052, 0.5160768904567486, 'NC'),\n",
              "  Text(0.9701262364830723, 0.5185123771783953, 'WV'),\n",
              "  Text(0.9690214678858109, 0.5205741011387607, 'RI'),\n",
              "  Text(0.9678879451623222, 0.5226786064202914, 'NH'),\n",
              "  Text(0.9669944628370657, 0.5243297710815733, 'MO'),\n",
              "  Text(0.9661030692049124, 0.5259703980956042, 'MA'),\n",
              "  Text(0.9650267685296052, 0.527942549924997, 'PA'),\n",
              "  Text(0.9639513841349133, 0.5299035091640599, 'OK'),\n",
              "  Text(0.9631298408585012, 0.53139524804789, 'AL'),\n",
              "  Text(0.9621966307387808, 0.533083149044254, 'WY'),\n",
              "  Text(0.9610459236413419, 0.5351548679142891, 'PA'),\n",
              "  Text(0.9601712059092116, 0.5367226987400949, 'WA'),\n",
              "  Text(0.9590126624679196, 0.5387900455893669, 'HI'),\n",
              "  Text(0.9575418144789224, 0.5413997354306825, 'SD'),\n",
              "  Text(0.9561501044762557, 0.5438538201668215, 'AL'),\n",
              "  Text(0.9547419146150594, 0.5463221361771559, 'VT'),\n",
              "  Text(0.9532659282394459, 0.5488934960971826, 'MT'),\n",
              "  Text(0.9521171464918139, 0.5508837802624852, 'MN'),\n",
              "  Text(0.9514536853492969, 0.5520288802546851, 'AK'),\n",
              "  Text(0.9507630503660436, 0.5532175178522967, 'MI'),\n",
              "  Text(0.949951984488025, 0.5546090759870985, 'DE'),\n",
              "  Text(0.9488327948823582, 0.5565216324238736, 'SD'),\n",
              "  Text(0.9473658361899218, 0.5590151808494743, 'MI'),\n",
              "  Text(0.9459342163955246, 0.5614342866731468, 'KS'),\n",
              "  Text(0.9443386215693454, 0.5641139670425728, 'AL'),\n",
              "  Text(0.9429890744396625, 0.5663670236581829, 'OK'),\n",
              "  Text(0.9414644089683426, 0.5688978525586905, 'CT'),\n",
              "  Text(0.9397037139093457, 0.5718014778443501, 'NE'),\n",
              "  Text(0.9384964018704831, 0.5737808847253079, 'WI'),\n",
              "  Text(0.9374781787044135, 0.5754430158174272, 'CT'),\n",
              "  Text(0.9364462470294146, 0.5771208074784038, 'WI'),\n",
              "  Text(0.9350332465237288, 0.5794073074231081, 'IN'),\n",
              "  Text(0.9337339953298186, 0.5814987755493684, 'DC'),\n",
              "  Text(0.9331369413671698, 0.5824563920637521, 'AR'),\n",
              "  Text(0.932326638586724, 0.5837525494433239, 'ME'),\n",
              "  Text(0.9311979282336402, 0.5855513798578025, 'MN'),\n",
              "  Text(0.9303176427324171, 0.58694896168304, 'MD'),\n",
              "  Text(0.929254139697082, 0.5886312460750246, 'FL'),\n",
              "  Text(0.9278901804692792, 0.5907789882762323, 'RI'),\n",
              "  Text(0.926349793209332, 0.5931914198814983, 'IA'),\n",
              "  Text(0.9247198027064342, 0.5957292056652701, 'AZ'),\n",
              "  Text(0.922870775405641, 0.5985896189395461, 'MO'),\n",
              "  Text(0.9211418931514318, 0.6012467153185922, 'VT'),\n",
              "  Text(0.9198219252270567, 0.6032641427033361, 'IN'),\n",
              "  Text(0.9185031839394449, 0.6052701058974435, 'RI'),\n",
              "  Text(0.9166870259590494, 0.608017184328168, 'SD'),\n",
              "  Text(0.9151473619148484, 0.6103321275996323, 'MN'),\n",
              "  Text(0.9141671249308189, 0.6117993688258602, 'TX'),\n",
              "  Text(0.9134475513850755, 0.6128732094557651, 'VA'),\n",
              "  Text(0.9129385209451636, 0.6136312059979164, 'MA'),\n",
              "  Text(0.9117865990383445, 0.6153415294079293, 'ID'),\n",
              "  Text(0.9108270924121755, 0.6167608999669016, 'MA'),\n",
              "  Text(0.9100094862496543, 0.6179666131237516, 'GA'),\n",
              "  Text(0.9087280592821161, 0.6198494287110049, 'RI'),\n",
              "  Text(0.9070366479567809, 0.6223218775387277, 'ID'),\n",
              "  Text(0.9052860630808351, 0.6248657007642541, 'SD'),\n",
              "  Text(0.9040371212641628, 0.6266712721805634, 'MA'),\n",
              "  Text(0.9028666303175259, 0.6283564655982115, 'WY'),\n",
              "  Text(0.9015872171964013, 0.6301908360076727, 'VA'),\n",
              "  Text(0.9001036187894624, 0.632308054228407, 'OR'),\n",
              "  Text(0.8984671020570191, 0.6346312839131573, 'VA'),\n",
              "  Text(0.8971096411430555, 0.6365487347942641, 'ME'),\n",
              "  Text(0.8957957222116345, 0.6383964474112745, 'AL'),\n",
              "  Text(0.8942211661002858, 0.6406001140323386, 'GA'),\n",
              "  Text(0.8929108861047855, 0.6424252092466227, 'IA'),\n",
              "  Text(0.8915067445948857, 0.6443723491443665, 'AZ'),\n",
              "  Text(0.8898571825585038, 0.6466484320316891, 'FL'),\n",
              "  Text(0.8888308098273475, 0.6480584784582806, 'MT'),\n",
              "  Text(0.8879838839270257, 0.6492184700745003, 'AL'),\n",
              "  Text(0.8868077845298189, 0.650824057097857, 'DE'),\n",
              "  Text(0.8857504627718866, 0.6522623074342014, 'MT'),\n",
              "  Text(0.8844285807290643, 0.6540535800602068, 'KY'),\n",
              "  Text(0.8829011847541783, 0.6561139367211066, 'SC'),\n",
              "  Text(0.8819579193279429, 0.6573813417908404, 'WA'),\n",
              "  Text(0.8811479579745645, 0.6584666097512125, 'OR'),\n",
              "  Text(0.8801951623169959, 0.6597397033935106, 'AK'),\n",
              "  Text(0.8791665434003164, 0.6611098161164601, 'GA'),\n",
              "  Text(0.8779936649987238, 0.6626666765592706, 'MN'),\n",
              "  Text(0.8770967185469757, 0.6638534072475093, 'IL'),\n",
              "  Text(0.8762167749937366, 0.6650144082796823, 'IN'),\n",
              "  Text(0.8752110191130127, 0.6663375060906913, 'SC'),\n",
              "  Text(0.8739354399371271, 0.6680096158154465, 'VA'),\n",
              "  Text(0.8725504782123444, 0.669817634114995, 'WI'),\n",
              "  Text(0.871030218870879, 0.6717933892304604, 'VT'),\n",
              "  Text(0.8694929179491102, 0.6737819125179467, 'AZ'),\n",
              "  Text(0.8683416859611053, 0.6752649231392265, 'FL'),\n",
              "  Text(0.8673393815232799, 0.6765518437332164, 'AK'),\n",
              "  Text(0.8658355133374459, 0.6784753966384349, 'AR'),\n",
              "  Text(0.8642004511236597, 0.6805568163479544, 'AR'),\n",
              "  Text(0.8629549658792703, 0.6821354168083545, 'AK'),\n",
              "  Text(0.8618022373168606, 0.6835911817421679, 'MS'),\n",
              "  Text(0.8611962310866288, 0.6843544780025816, 'ME'),\n",
              "  Text(0.8602060329137281, 0.6855987025504251, 'CA'),\n",
              "  Text(0.8586308029693027, 0.687570464892356, 'NM'),\n",
              "  Text(0.8576102613483529, 0.688842971677878, 'NE'),\n",
              "  Text(0.8567937568737399, 0.6898582884782809, 'SC'),\n",
              "  Text(0.8551894061791894, 0.6918461386456427, 'CO'),\n",
              "  Text(0.8532050037071213, 0.6942918850520517, 'DE'),\n",
              "  Text(0.8519928345475105, 0.6957788512736633, 'OH'),\n",
              "  Text(0.8512395981389611, 0.6967001841252951, 'MS'),\n",
              "  Text(0.8494760009316854, 0.6988494285903877, 'OK'),\n",
              "  Text(0.8472033511079682, 0.7016027949427147, 'CO'),\n",
              "  Text(0.8454601916497556, 0.7037023975627472, 'NC'),\n",
              "  Text(0.8444288917432281, 0.7049396050650749, 'MD'),\n",
              "  Text(0.8432640450355734, 0.70633260603645, 'KS'),\n",
              "  Text(0.841548804774744, 0.708375330726727, 'MA'),\n",
              "  Text(0.8398087390684177, 0.7104373876594015, 'NC'),\n",
              "  Text(0.83854187340042, 0.7119322485701252, 'NM'),\n",
              "  Text(0.8371658784618471, 0.7135497823832644, 'CA'),\n",
              "  Text(0.8359468204837455, 0.7149775614123263, 'NY'),\n",
              "  Text(0.835132762106307, 0.7159282573391629, 'AZ'),\n",
              "  Text(0.833949788247869, 0.7173058975648635, 'SD'),\n",
              "  Text(0.83244272783009, 0.7190543128879757, 'DC'),\n",
              "  Text(0.8309857792893381, 0.7207375629304272, 'ND'),\n",
              "  Text(0.8298150757417198, 0.7220851335346574, 'MO'),\n",
              "  Text(0.8283182472142663, 0.723801686466594, 'KS'),\n",
              "  Text(0.8265336133870843, 0.7258389531716317, 'SD'),\n",
              "  Text(0.8249475895966351, 0.7276410340399323, 'OK'),\n",
              "  Text(0.8232759949866549, 0.7295317923701019, 'OR'),\n",
              "  Text(0.8214636222574654, 0.7315719495084845, 'IN'),\n",
              "  Text(0.82009076844978, 0.7331105861351679, 'OH'),\n",
              "  Text(0.8185779861024198, 0.7347993472156237, 'KS'),\n",
              "  Text(0.8169586867535549, 0.736599283286311, 'CT'),\n",
              "  Text(0.8159067716013166, 0.737764284887197, 'NH'),\n",
              "  Text(0.8149496697913016, 0.7388213828166106, 'WI'),\n",
              "  Text(0.8133284338077754, 0.740605737730806, 'MS'),\n",
              "  Text(0.8119940284017209, 0.742068526377413, 'WV'),\n",
              "  Text(0.8114539883126412, 0.742659023274819, 'MA'),\n",
              "  Text(0.8105321604869908, 0.7436649896400201, 'MD'),\n",
              "  Text(0.809074104329218, 0.745251027308164, 'PA'),\n",
              "  Text(0.8081838616962472, 0.7462163531401208, 'WI'),\n",
              "  Text(0.8073900196043124, 0.747075201196873, 'TN'),\n",
              "  Text(0.8061207663974272, 0.748444593796244, 'TX'),\n",
              "  Text(0.8048771622919484, 0.7497818040075798, 'OR'),\n",
              "  Text(0.8036313399966818, 0.751116947868398, 'IL'),\n",
              "  Text(0.8025797700196143, 0.7522404620566905, 'DC'),\n",
              "  Text(0.8014282560744276, 0.7534671528112569, 'GA'),\n",
              "  Text(0.8002185564369146, 0.754751788294682, 'ID'),\n",
              "  Text(0.799020899673204, 0.7560195777130536, 'UT'),\n",
              "  Text(0.7975033400412783, 0.7576202364133402, 'KY'),\n",
              "  Text(0.796145413460498, 0.7590470872256956, 'OH'),\n",
              "  Text(0.794976405589403, 0.760271342716634, 'WI'),\n",
              "  Text(0.7941747260453289, 0.7611087336976413, 'IL'),\n",
              "  Text(0.7931589468768527, 0.7621672290181479, 'DE'),\n",
              "  Text(0.7913440926694212, 0.7640513902855035, 'RI'),\n",
              "  Text(0.7893604464674375, 0.7661005714348006, 'TX'),\n",
              "  Text(0.7881448099579892, 0.7673511311885095, 'OR'),\n",
              "  Text(0.787507598186182, 0.7680050669097379, 'NV'),\n",
              "  Text(0.786439591099411, 0.7690986734817526, 'NE'),\n",
              "  Text(0.7849245807669155, 0.7706447965878198, 'MS'),\n",
              "  Text(0.7834713437256767, 0.7721221752810126, 'OR'),\n",
              "  Text(0.7821091137071154, 0.773501993698963, 'DE'),\n",
              "  Text(0.7796741371948102, 0.7759563388422885, 'DE'),\n",
              "  Text(0.7772024193807638, 0.7784320132861234, 'AZ'),\n",
              "  Text(0.7754216974522107, 0.7802058645769925, 'SD'),\n",
              "  Text(0.7736515129134149, 0.7819612116766307, 'NV'),\n",
              "  Text(0.7717823291350159, 0.7838061217130995, 'NM'),\n",
              "  Text(0.7703775535428243, 0.7851868726598612, 'MN'),\n",
              "  Text(0.7692710204995489, 0.7862710073629721, 'NJ'),\n",
              "  Text(0.7678324508408543, 0.7876759025358889, 'IN'),\n",
              "  Text(0.7663029994971795, 0.7891639328818986, 'DC'),\n",
              "  Text(0.7645272888648339, 0.7908843307216215, 'MA'),\n",
              "  Text(0.7623706313675991, 0.7929634420502426, 'ME'),\n",
              "  Text(0.7606679127630572, 0.794596958522177, 'NH'),\n",
              "  Text(0.759132473221371, 0.7960639974906569, 'AZ'),\n",
              "  Text(0.7577280790144819, 0.7974008767696604, 'OR'),\n",
              "  Text(0.7570212772152037, 0.7980719177138499, 'KS'),\n",
              "  Text(0.7555760682483887, 0.79944030739656, 'NE'),\n",
              "  Text(0.753635312201559, 0.8012701268628819, 'MI'),\n",
              "  Text(0.7522142643793849, 0.8026043237263185, 'SC'),\n",
              "  Text(0.7511731593812463, 0.8035787980187112, 'PA'),\n",
              "  Text(0.750280850570688, 0.8044119872720229, 'MT'),\n",
              "  Text(0.7486813860001018, 0.8059008513812148, 'NM'),\n",
              "  Text(0.7467626487632635, 0.8076791110410587, 'OH'),\n",
              "  Text(0.7451567008760256, 0.8091609797435597, 'WY'),\n",
              "  Text(0.7436914475977299, 0.8105078844588701, 'MI'),\n",
              "  Text(0.7420571674550374, 0.8120044089957928, 'AR'),\n",
              "  Text(0.7402832991782828, 0.8136219250719079, 'FL'),\n",
              "  Text(0.7390835644929996, 0.81471190288121, 'AR'),\n",
              "  Text(0.7376082777796731, 0.8160478102114512, 'MO'),\n",
              "  Text(0.7359323506687454, 0.8175595239731326, 'WI'),\n",
              "  Text(0.7347497230416954, 0.8186225286969276, 'TX'),\n",
              "  Text(0.7335426255744416, 0.8197043469845422, 'TX'),\n",
              "  Text(0.7324487527334542, 0.8206819265825265, 'NM'),\n",
              "  Text(0.7314531922960079, 0.821569368635406, 'GA'),\n",
              "  Text(0.7302724448691271, 0.8226190833337553, 'ID'),\n",
              "  Text(0.7290133692179954, 0.8237350954654215, 'AL'),\n",
              "  Text(0.7276987363437732, 0.8248966899701294, 'KS'),\n",
              "  Text(0.7263360266550107, 0.826096832328397, 'SD'),\n",
              "  Text(0.7244851239909915, 0.827720547718708, 'LA'),\n",
              "  Text(0.7225841818265362, 0.8293805520833458, 'OH'),\n",
              "  Text(0.7211521051879358, 0.8306260537588552, 'MA'),\n",
              "  Text(0.7200048979330769, 0.8316206749187876, 'AZ'),\n",
              "  Text(0.7191203028913506, 0.8323857218678442, 'KY'),\n",
              "  Text(0.7186155645614352, 0.8328215117118735, 'DC'),\n",
              "  Text(0.7176830462945075, 0.8336252425769244, 'WA'),\n",
              "  Text(0.7161346392951046, 0.8349557942799551, 'UT'),\n",
              "  Text(0.7145369672769175, 0.8363234556047711, 'RI'),\n",
              "  Text(0.712514711286759, 0.8380470071541016, 'OH'),\n",
              "  Text(0.7106762480929674, 0.8396066164558871, 'NV'),\n",
              "  Text(0.7091402802038628, 0.8409043126256325, 'ND'),\n",
              "  Text(0.7077590243364059, 0.8420671965291006, 'NV'),\n",
              "  Text(0.7061635032412539, 0.8434056596265168, 'FL'),\n",
              "  Text(0.7042423849130278, 0.8450104515874409, 'MD'),\n",
              "  Text(0.7026807637359047, 0.8463094849258904, 'AZ'),\n",
              "  Text(0.7016778561187168, 0.8471411843563277, 'AL'),\n",
              "  Text(0.7010060687308455, 0.8476971697502154, 'NE'),\n",
              "  Text(0.7000410864224538, 0.8484942411828562, 'NV'),\n",
              "  Text(0.6982431755617035, 0.8499743924269181, 'IL'),\n",
              "  Text(0.6964897799186086, 0.8514117608237088, 'WV'),\n",
              "  Text(0.6948129621893094, 0.8527807148228186, 'MI'),\n",
              "  Text(0.6931175214000616, 0.8541592951717119, 'AR'),\n",
              "  Text(0.6921292441273198, 0.8549602969867929, 'UT'),\n",
              "  Text(0.6906051677789439, 0.8561918606463256, 'GA'),\n",
              "  Text(0.6883589580507028, 0.8579988023717463, 'AZ'),\n",
              "  Text(0.6864447595015429, 0.8595310303606665, 'ID'),\n",
              "  Text(0.6843183348645049, 0.8612249511993202, 'HI'),\n",
              "  Text(0.6819865144291879, 0.8630726470794491, 'NV'),\n",
              "  Text(0.6803915769932796, 0.8643305513266313, 'MD'),\n",
              "  Text(0.6788508276233893, 0.8655411912988541, 'GA'),\n",
              "  Text(0.6772190002947867, 0.8668185655832079, 'GA'),\n",
              "  Text(0.6762403680868365, 0.8675822523367915, 'UT'),\n",
              "  Text(0.6751231910290731, 0.8684518852157106, 'MA'),\n",
              "  Text(0.6736805432213788, 0.8695714609420827, 'IN'),\n",
              "  Text(0.6717243375287006, 0.8710834715293526, 'VT'),\n",
              "  Text(0.6693251936045121, 0.8729282818229013, 'IA'),\n",
              "  Text(0.6676305471581291, 0.8742250582666555, 'IN'),\n",
              "  Text(0.6665456338581064, 0.8750525229863035, 'AL'),\n",
              "  Text(0.6653453260800639, 0.8759655227595511, 'ME'),\n",
              "  Text(0.6635384290326826, 0.8773350290492452, 'RI'),\n",
              "  Text(0.6623349947355426, 0.8782439039063517, 'MD'),\n",
              "  Text(0.6608679076771663, 0.8793484000112837, 'FL'),\n",
              "  Text(0.6587829592176723, 0.8809114669729341, 'CA'),\n",
              "  Text(0.6568342203093919, 0.8823654611500574, 'AL'),\n",
              "  Text(0.6550306339301154, 0.8837051932704205, 'ME'),\n",
              "  Text(0.653628705351371, 0.884742626722987, 'WV'),\n",
              "  Text(0.651803742308939, 0.8860879648838835, 'SD'),\n",
              "  Text(0.6497359669832816, 0.8876053026026265, 'FL'),\n",
              "  Text(0.6479382740136149, 0.8889184400541242, 'MI'),\n",
              "  Text(0.6462624603445933, 0.8901375356366864, 'MI'),\n",
              "  Text(0.6446924189045509, 0.8912753138099356, 'NM'),\n",
              "  Text(0.6436862080737582, 0.8920022788847721, 'AK'),\n",
              "  Text(0.6422128366996325, 0.8930636440804269, 'OH'),\n",
              "  Text(0.6403123560829583, 0.8944272394373346, 'MO'),\n",
              "  Text(0.6383504974623554, 0.8958284670569269, 'KS'),\n",
              "  Text(0.6361679885282749, 0.8973796801643599, 'MS'),\n",
              "  Text(0.6335624536079086, 0.8992211170665017, 'VT'),\n",
              "  Text(0.6313296953989643, 0.9007901063552215, 'NE'),\n",
              "  Text(0.6301950414054549, 0.9015842776956446, 'VA'),\n",
              "  Text(0.6294212232218562, 0.9021246719594262, 'DE'),\n",
              "  Text(0.6286637787990085, 0.90265267585387, 'AL'),\n",
              "  Text(0.6269115467310851, 0.903870517593775, 'ID'),\n",
              "  Text(0.624853037199721, 0.9052948038635173, 'MS'),\n",
              "  Text(0.6236028557656795, 0.9061564314625203, 'OK'),\n",
              "  Text(0.6224276168537279, 0.9069640906771276, 'NM'),\n",
              "  Text(0.6213444572680695, 0.9077064863832627, 'WI'),\n",
              "  Text(0.6200485814726543, 0.9085921838832587, 'WV'),\n",
              "  Text(0.61835272273933, 0.9097471683280238, 'SC'),\n",
              "  Text(0.616569755696166, 0.9109564953172958, 'KY'),\n",
              "  Text(0.6150140985172011, 0.9120074882505487, 'MO'),\n",
              "  Text(0.6137546608384246, 0.9128555287114772, 'IL'),\n",
              "  Text(0.6115137222903573, 0.9143582270918723, 'OK'),\n",
              "  Text(0.6097558923106032, 0.9155314040449406, 'MI'),\n",
              "  Text(0.6086881502502609, 0.9162416361118478, 'NJ'),\n",
              "  Text(0.6074827444224914, 0.917041283274051, 'ID'),\n",
              "  Text(0.6062334866759232, 0.9178676155267453, 'DC'),\n",
              "  Text(0.6049745367687926, 0.9186978882425849, 'NY'),\n",
              "  Text(0.6039116812187909, 0.9193969117239266, 'AL'),\n",
              "  Text(0.6024103094586843, 0.9203813443665034, 'OR'),\n",
              "  Text(0.600494808101953, 0.9216322398020801, 'OK'),\n",
              "  Text(0.598843505967913, 0.9227060503540975, 'LA'),\n",
              "  Text(0.5965956889037322, 0.9241610162636603, 'NE'),\n",
              "  Text(0.5938176505854204, 0.9259484855288721, 'TX'),\n",
              "  Text(0.5910688657834214, 0.9277055545276744, 'UT'),\n",
              "  Text(0.5879941133704293, 0.9296574221947151, 'OR'),\n",
              "  Text(0.5860506692079211, 0.930883780673478, 'NY'),\n",
              "  Text(0.5851301115766825, 0.9314626951876598, 'AL'),\n",
              "  Text(0.5834177455160627, 0.9325361838647093, 'RI'),\n",
              "  Text(0.5807888752699316, 0.9341757234924745, 'MN'),\n",
              "  Text(0.5792372492247477, 0.935138604224287, 'NC'),\n",
              "  Text(0.5783212153729145, 0.9357053873146159, 'MD'),\n",
              "  Text(0.5768019957921318, 0.9366426520558488, 'RI'),\n",
              "  Text(0.5753686970721377, 0.9375237929938157, 'WI'),\n",
              "  Text(0.5739340522962998, 0.9384027406261921, 'VT'),\n",
              "  Text(0.5728309129447051, 0.9390765385073444, 'CT'),\n",
              "  Text(0.5714990890896735, 0.9398876481631587, 'OK'),\n",
              "  Text(0.5694640919343665, 0.9411220154673715, 'AK'),\n",
              "  Text(0.5671100012524966, 0.9425424374952003, 'NY'),\n",
              "  Text(0.5653421073702839, 0.9436038902177791, 'GA'),\n",
              "  Text(0.5644177903538345, 0.9441570621099517, 'UT'),\n",
              "  Text(0.5633078955533827, 0.944819673169023, 'NM'),\n",
              "  Text(0.5620825854451468, 0.9455491352326962, 'NE'),\n",
              "  Text(0.5603443772811553, 0.946580254838117, 'NJ'),\n",
              "  Text(0.5587456758915365, 0.947524812167212, 'TX'),\n",
              "  Text(0.5575787678339673, 0.9482119581932907, 'MT'),\n",
              "  Text(0.5558179688345883, 0.9492451661823688, 'CO'),\n",
              "  Text(0.554002078452091, 0.950306107036445, 'VT'),\n",
              "  Text(0.5528228806409525, 0.9509925670791751, 'RI'),\n",
              "  Text(0.5514741846021263, 0.9517753010650256, 'WY'),\n",
              "  Text(0.5497156688780405, 0.9527920462461726, 'ID'),\n",
              "  Text(0.5482488068890232, 0.9536368521322793, 'CT'),\n",
              "  Text(0.5467984502627223, 0.9544692005456674, 'ME'),\n",
              "  Text(0.545266642408852, 0.9553451149590797, 'AZ'),\n",
              "  Text(0.5438404450380994, 0.9561577120646794, 'MD'),\n",
              "  Text(0.5421184833342783, 0.9571350740764556, 'IN'),\n",
              "  Text(0.5399657963919292, 0.9583511562714525, 'NC'),\n",
              "  Text(0.5383204142208978, 0.9592763583207089, 'DE'),\n",
              "  Text(0.536198755084653, 0.9604638957533326, 'MN'),\n",
              "  Text(0.534137256090801, 0.9616118716279403, 'WI'),\n",
              "  Text(0.5331683993208716, 0.962149394826822, 'FL'),\n",
              "  Text(0.5321990016209195, 0.9626859418697756, 'WV'),\n",
              "  Text(0.530779836163789, 0.9634691305495685, 'SD'),\n",
              "  Text(0.5289278014088403, 0.9644871076882318, 'FL'),\n",
              "  Text(0.5271098326287057, 0.9654818612206746, 'OR'),\n",
              "  Text(0.525308020320001, 0.9664633897812589, 'CO'),\n",
              "  Text(0.5238472122572583, 0.9672559631298735, 'CT'),\n",
              "  Text(0.5221775431701932, 0.9681583617408576, 'IN'),\n",
              "  Text(0.519611352402434, 0.9695380562177608, 'PA'),\n",
              "  Text(0.5171230105103501, 0.9708675460641953, 'NM'),\n",
              "  Text(0.5146856684508109, 0.9721618500493332, 'ME'),\n",
              "  Text(0.5122450869090052, 0.9734500351520801, 'SD'),\n",
              "  Text(0.5103012055727467, 0.9744704611177302, 'AR'),\n",
              "  Text(0.5084826562370592, 0.9754206212225087, 'TX'),\n",
              "  Text(0.5066259133363573, 0.9763862882773918, 'NH'),\n",
              "  Text(0.5046670671983309, 0.9774002001664598, 'OK'),\n",
              "  Text(0.5026788165721581, 0.9784242471288284, 'WI'),\n",
              "  Text(0.5006154090145124, 0.9794816038380878, 'AL'),\n",
              "  Text(0.4988698212635293, 0.9803718179509723, 'PA'),\n",
              "  Text(0.49727822192543625, 0.9811800905025931, 'OK'),\n",
              "  Text(0.4956853130224187, 0.9819857791505268, 'ME'),\n",
              "  Text(0.49410943038274113, 0.9827796654422818, 'WV'),\n",
              "  Text(0.49248640973270463, 0.9835939895244332, 'HI'),\n",
              "  Text(0.4905498692899087, 0.9845612351396198, 'MN'),\n",
              "  Text(0.48905256790141327, 0.9853058336521883, 'NY'),\n",
              "  Text(0.4879219540836437, 0.9858662012277319, 'AZ'),\n",
              "  Text(0.486459477626366, 0.9865886562430581, 'OH'),\n",
              "  Text(0.48483017970577724, 0.9873903467456344, 'MI'),\n",
              "  Text(0.48331936843890194, 0.98813075455216, 'MA'),\n",
              "  Text(0.48142926468699054, 0.9890530132924846, 'WV'),\n",
              "  Text(0.47962049537871093, 0.9899314018722106, 'MI'),\n",
              "  Text(0.4788540535587453, 0.9903023757370062, 'NM'),\n",
              "  Text(0.47754212653935263, 0.9909356777209473, 'MO'),\n",
              "  Text(0.47531363033437546, 0.9920065286168015, 'RI'),\n",
              "  Text(0.473536511709771, 0.992856068157788, 'NC'),\n",
              "  Text(0.4726937008127528, 0.993257602644925, 'WY'),\n",
              "  Text(0.47140567329981536, 0.9938695544088006, 'WY'),\n",
              "  Text(0.46953245191476867, 0.9947558879438239, 'PA'),\n",
              "  Text(0.4678525555561046, 0.9955470788765453, 'KY'),\n",
              "  Text(0.46561371894900105, 0.9965961392291668, 'OR'),\n",
              "  Text(0.46323295954751986, 0.9977049790338054, 'NV'),\n",
              "  Text(0.46187399940794355, 0.9983348179197754, 'DC'),\n",
              "  Text(0.4610451718874823, 0.9987178527888855, 'UT'),\n",
              "  Text(0.45905096168542375, 0.999636041054787, 'WA'),\n",
              "  Text(0.45676562591720976, 1.0006823486903624, 'FL'),\n",
              "  Text(0.4545993543072147, 1.0016683218827795, 'VA'),\n",
              "  Text(0.4521410506964001, 1.002780369909162, 'KS'),\n",
              "  Text(0.4495863982483176, 1.0039283194083657, 'KS'),\n",
              "  Text(0.44687884710492176, 1.0051364564128475, 'DC'),\n",
              "  Text(0.4447123444740968, 1.0060968793671674, 'ME'),\n",
              "  Text(0.4421116964404301, 1.0072423977725349, 'LA'),\n",
              "  Text(0.43931059307189585, 1.0084672542104771, 'DC'),\n",
              "  Text(0.4372122444034922, 1.0093787462313941, 'TX'),\n",
              "  Text(0.43540407899792466, 1.0101600308822207, 'NJ'),\n",
              "  Text(0.43368879975635166, 1.010897633277423, 'DE'),\n",
              "  Text(0.43195340117073594, 1.0116403803808118, 'VT'),\n",
              "  Text(0.43032058892370484, 1.012336006841778, 'GA'),\n",
              "  Text(0.4282803611068874, 1.0132008351211295, 'TX'),\n",
              "  Text(0.4253586823221172, 1.0144308706724143, 'MT'),\n",
              "  Text(0.42311538796656595, 1.0153685874921987, 'ND'),\n",
              "  Text(0.42131547287381954, 1.0161167611633566, 'NJ'),\n",
              "  Text(0.4198176936348553, 1.0167364968914565, 'MO'),\n",
              "  Text(0.41833797927116667, 1.017346221843536, 'CO'),\n",
              "  Text(0.41605027060027194, 1.0182839350266901, 'KS'),\n",
              "  Text(0.41429271904710085, 1.019000266410446, 'NC'),\n",
              "  Text(0.4135608338188113, 1.01929752120325, 'MT'),\n",
              "  Text(0.41242931905354835, 1.0197558809759455, 'DE'),\n",
              "  Text(0.4105835761897967, 1.0205004296732059, 'ND'),\n",
              "  Text(0.40904125568414873, 1.0211196066809876, 'VA'),\n",
              "  Text(0.40754564667860504, 1.0217174491381253, 'IL'),\n",
              "  Text(0.4062875156726191, 1.02221839868424, 'OK'),\n",
              "  Text(0.40476168302145993, 1.0228235331461804, 'CO'),\n",
              "  Text(0.40322540414735164, 1.0234301507431784, 'MT'),\n",
              "  Text(0.4012870615099266, 1.024191727297545, 'WV'),\n",
              "  Text(0.39898400951701546, 1.025091098463803, 'ME'),\n",
              "  Text(0.39688944631553646, 1.0259038782475418, 'WI'),\n",
              "  Text(0.39487940589285675, 1.0266792365689026, 'MO'),\n",
              "  Text(0.39278160746125695, 1.0274836294755023, 'NY'),\n",
              "  Text(0.39043281386209927, 1.0283784409738097, 'CT'),\n",
              "  Text(0.3889074032364939, 1.0289562827000218, 'AR'),\n",
              "  Text(0.38755396495447736, 1.0294668155157134, 'WY'),\n",
              "  Text(0.3857963758538086, 1.030126767139883, 'CA'),\n",
              "  Text(0.3841145700337878, 1.0307550616357692, 'CA'),\n",
              "  Text(0.38282609536387097, 1.0312342996179154, 'MN'),\n",
              "  Text(0.3810462489408895, 1.0318932871998334, 'AK'),\n",
              "  Text(0.37946749044648953, 1.0324749022103363, 'VA'),\n",
              "  Text(0.37780113062307813, 1.033085817200064, 'CO'),\n",
              "  Text(0.3754106460484206, 1.033956888285729, 'MT'),\n",
              "  Text(0.37373225164287516, 1.0345647413680532, 'SD'),\n",
              "  Text(0.3724969421181603, 1.0350101584586597, 'NE'),\n",
              "  Text(0.3704208143272523, 1.0357550001390945, 'VT'),\n",
              "  Text(0.3675310741811743, 1.0367839261443208, 'ND'),\n",
              "  Text(0.36502561050092297, 1.0376686868545415, 'GA'),\n",
              "  Text(0.36277952538827113, 1.0384560731966763, 'OR'),\n",
              "  Text(0.3613554796957689, 1.0389524615177737, 'MT'),\n",
              "  Text(0.35943630434149804, 1.03961797941423, 'WY'),\n",
              "  Text(0.3567978643090892, 1.0405264456151382, 'GA'),\n",
              "  Text(0.3555069077940845, 1.0409682216622602, 'WV'),\n",
              "  Text(0.3551670914092697, 1.041084212338214, 'CT'),\n",
              "  Text(0.3536714501998856, 1.041593253296847, 'IL'),\n",
              "  Text(0.351621043519705, 1.0422872165358807, 'CO'),\n",
              "  Text(0.3498805310898865, 1.0428727697875035, 'DE'),\n",
              "  Text(0.34830447798784886, 1.0434002063511452, 'LA'),\n",
              "  Text(0.347477218310937, 1.0436759951033143, 'MA'),\n",
              "  Text(0.346250525895493, 1.0440836045629174, 'IN'),\n",
              "  Text(0.34479929651306057, 1.044563758285773, 'NY'),\n",
              "  Text(0.343435118463201, 1.0450130714044525, 'TX'),\n",
              "  Text(0.3415730459726, 1.0456231894258086, 'KS'),\n",
              "  Text(0.3393976322025009, 1.04633132766602, 'WV'),\n",
              "  Text(0.3365078214661624, 1.0472642866497919, 'NE'),\n",
              "  Text(0.33345902897967766, 1.048239035712719, 'ND'),\n",
              "  Text(0.3311803634289185, 1.0489611846389215, 'AK'),\n",
              "  Text(0.32948746640605703, 1.0494941683884278, 'CO'),\n",
              "  Text(0.3271473141181418, 1.0502259922822736, 'ME'),\n",
              "  Text(0.324364435017659, 1.0510888227431947, 'SC'),\n",
              "  Text(0.3231780792811663, 1.0514541973248936, 'MN'),\n",
              "  Text(0.32235425136954904, 1.0517070583693815, 'CO'),\n",
              "  Text(0.3207943215648386, 1.0521839208293173, 'KS'),\n",
              "  Text(0.31858566911879205, 1.0528547722417045, 'MS'),\n",
              "  Text(0.3164345667425372, 1.0535032818982877, 'NE'),\n",
              "  Text(0.31472453025068026, 1.0540154031410018, 'NJ'),\n",
              "  Text(0.3121972718856224, 1.0547667341299567, 'WI'),\n",
              "  Text(0.3096288431055218, 1.055523557064046, 'MT'),\n",
              "  Text(0.30714723978791986, 1.056248348207306, 'AR'),\n",
              "  Text(0.30498922994993233, 1.0568734879892425, 'WA'),\n",
              "  Text(0.3040034136409343, 1.0571574738394744, 'NH'),\n",
              "  Text(0.30267214233941936, 1.0575393960754684, 'IA'),\n",
              "  Text(0.30051150484436157, 1.058155392868258, 'WV'),\n",
              "  Text(0.29838911151926506, 1.0587558444356961, 'RI'),\n",
              "  Text(0.2964828712470656, 1.0592912286321907, 'KS'),\n",
              "  Text(0.2938935893780739, 1.060012527342235, 'MT'),\n",
              "  Text(0.29068915157543895, 1.0608957616827168, 'MO'),\n",
              "  Text(0.28811576816301554, 1.0615975245524245, 'HI'),\n",
              "  Text(0.2860657469844526, 1.0621517727717764, 'CO'),\n",
              "  Text(0.2841633248185306, 1.0626623192849545, 'CT'),\n",
              "  Text(0.2825078727607067, 1.06310361763481, 'ID'),\n",
              "  Text(0.2803061514932343, 1.0636862608095736, 'DC'),\n",
              "  Text(0.2782421869963286, 1.0642280232053187, 'TN'),\n",
              "  Text(0.2762764786817035, 1.06474001865584, 'WY'),\n",
              "  Text(0.2739422189171956, 1.0653429779628358, 'MO'),\n",
              "  Text(0.2713183326331973, 1.066014241169949, 'VA'),\n",
              "  Text(0.2680759628513359, 1.0668342318004842, 'SD'),\n",
              "  Text(0.2652592572195164, 1.067538067920461, 'WV'),\n",
              "  Text(0.2635464330627534, 1.0679622079548976, 'GA'),\n",
              "  Text(0.26231118535255665, 1.0682662786210828, 'AZ'),\n",
              "  Text(0.2603779172270119, 1.0687391357204636, 'AK'),\n",
              "  Text(0.2583341047065674, 1.0692350023944486, 'AK'),\n",
              "  Text(0.25655871099548855, 1.0696623896409247, 'CT'),\n",
              "  Text(0.25453310149223596, 1.070146205078887, 'UT'),\n",
              "  Text(0.2523767714603056, 1.0706567915197067, 'KY'),\n",
              "  Text(0.25046916315946394, 1.0711046626292866, 'MI'),\n",
              "  Text(0.2484008579779287, 1.0715862138698076, 'OR'),\n",
              "  Text(0.24654159093259356, 1.0720155054570928, 'TN'),\n",
              "  Text(0.24515165401913233, 1.0723342140077803, 'WV'),\n",
              "  Text(0.24369127670294674, 1.072667032055562, 'NJ'),\n",
              "  Text(0.24219041851077, 1.0730068970801532, 'MS'),\n",
              "  Text(0.23981809762504455, 1.0735396033922107, 'ME'),\n",
              "  Text(0.23736446687208346, 1.0740847777836402, 'WY'),\n",
              "  Text(0.23552092449065293, 1.074490527704674, 'WY'),\n",
              "  Text(0.23413781222357366, 1.0747927636931496, 'IN'),\n",
              "  Text(0.2328044456780182, 1.0750823643203116, 'NM'),\n",
              "  Text(0.23101937993659183, 1.0754673617054646, 'NJ'),\n",
              "  Text(0.22839076683617018, 1.0760286509308135, 'DC'),\n",
              "  Text(0.22601180050339956, 1.076530847692351, 'UT'),\n",
              "  Text(0.22441516550286644, 1.0768648167213568, 'KY'),\n",
              "  Text(0.22281803701549205, 1.077196417734743, 'KS'),\n",
              "  Text(0.2211199230923433, 1.0775462772482844, 'MI'),\n",
              "  Text(0.2194313126741604, 1.0778914133706117, 'UT'),\n",
              "  Text(0.21809411383857766, 1.0781627694875044, 'NE'),\n",
              "  Text(0.2162637194250481, 1.078531410604459, 'FL'),\n",
              "  Text(0.21350689721929403, 1.0790805367718344, 'LA'),\n",
              "  Text(0.2111312897651263, 1.0795478583565041, 'MT'),\n",
              "  Text(0.2091474777598261, 1.079933948233272, 'WA'),\n",
              "  Text(0.2067397738798096, 1.0803974573721122, 'MI'),\n",
              "  Text(0.20396813311393697, 1.0809241419609497, 'KY'),\n",
              "  Text(0.20133635274911482, 1.0814174370064893, 'LA'),\n",
              "  Text(0.1993894788142146, 1.0817780898771225, 'NM'),\n",
              "  Text(0.19703824759542357, 1.0822088194911945, 'AL'),\n",
              "  Text(0.19454472497818515, 1.0826598496218296, 'MO'),\n",
              "  Text(0.19330262538378964, 1.0828823089420818, 'CO'),\n",
              "  Text(0.19217138652984944, 1.0830836339817878, 'TX'),\n",
              "  Text(0.1908479751346415, 1.0833176128850706, 'NY'),\n",
              "  Text(0.18973649357493141, 1.0835128347213476, 'OR'),\n",
              "  Text(0.18870566856771678, 1.0836928396231154, 'WY'),\n",
              "  Text(0.18723998637384356, 1.0839470409123884, 'UT'),\n",
              "  Text(0.18501553963911116, 1.0843289399864087, 'LA'),\n",
              "  Text(0.1825475154201931, 1.0847471616067563, 'NV'),\n",
              "  Text(0.17987612985989396, 1.0851933366486484, 'NC'),\n",
              "  Text(0.17830719360926275, 1.0854522305044978, 'NC'),\n",
              "  Text(0.17640372599159462, 1.085763199531225, 'WY'),\n",
              "  Text(0.1744389409247044, 1.0860805936435232, 'TN'),\n",
              "  Text(0.17288899086352208, 1.086328401929266, 'FL'),\n",
              "  Text(0.1705279341481344, 1.0867015338514847, 'CA'),\n",
              "  Text(0.16814579520282125, 1.0870726707794705, 'PA'),\n",
              "  Text(0.16540787325911155, 1.0874926369699696, 'WV'),\n",
              "  Text(0.16315590649462064, 1.087832776751978, 'NJ'),\n",
              "  Text(0.16132947357920277, 1.0881051424171553, 'MT'),\n",
              "  Text(0.1584366936694155, 1.088530116303221, 'MN'),\n",
              "  Text(0.15510607513461583, 1.0890096902490516, 'WI'),\n",
              "  Text(0.15281035129070553, 1.0893341987371972, 'ID'),\n",
              "  Text(0.15073752168731072, 1.0896229621091726, 'MA'),\n",
              "  Text(0.148633651557724, 1.089911940307389, 'OR'),\n",
              "  Text(0.1467427447687798, 1.0901681369668281, 'MT'),\n",
              "  Text(0.14504461874992386, 1.0903953680072607, 'AL'),\n",
              "  Text(0.14305116008534405, 1.0906586842813097, 'ND'),\n",
              "  Text(0.1405077904453518, 1.0909892578866967, 'LA'),\n",
              "  Text(0.13763795335909046, 1.0913550264671534, 'ND'),\n",
              "  Text(0.13484861796963946, 1.0917031877903802, 'MS'),\n",
              "  Text(0.13261855167128084, 1.0919763366266744, 'WV'),\n",
              "  Text(0.13112134695672287, 1.0921571280599942, 'WI'),\n",
              "  Text(0.1297155834557305, 1.0923249825069183, 'KS'),\n",
              "  Text(0.127575966668807, 1.0925769413311448, 'MO'),\n",
              "  Text(0.12578238678937873, 1.0927848787266263, 'PA'),\n",
              "  Text(0.12421272618032364, 1.0929644086862353, 'SD'),\n",
              "  Text(0.1231015775651516, 1.0930901159561233, 'NJ'),\n",
              "  Text(0.12193932273809639, 1.0932203810623797, 'AL'),\n",
              "  Text(0.11962459909639804, 1.0934760881203696, 'ME'),\n",
              "  Text(0.11728893824698941, 1.0937290820696386, 'AZ'),\n",
              "  Text(0.1159627785140477, 1.0938704831922754, 'VT'),\n",
              "  Text(0.11487111903116926, 1.0939856607892662, 'NV'),\n",
              "  Text(0.11370791672808592, 1.0941071746741078, 'WI'),\n",
              "  Text(0.11250376494801731, 1.094231649547993, 'HI'),\n",
              "  Text(0.11081976530426034, 1.094403481179546, 'DE'),\n",
              "  Text(0.10872715812764001, 1.0946133587187248, 'AZ'),\n",
              "  Text(0.1068792084633805, 1.09479533922932, 'VA'),\n",
              "  Text(0.10480628409470591, 1.0949957273041115, 'GA'),\n",
              "  Text(0.10240612457221072, 1.095222801830797, 'AZ'),\n",
              "  Text(0.1004039126636357, 1.095408167909037, 'MN'),\n",
              "  Text(0.09831962160715514, 1.0955972124859692, 'ME'),\n",
              "  Text(0.0963576106931031, 1.0957715139852453, 'FL'),\n",
              "  Text(0.09412953658397746, 1.0959651592740007, 'WA'),\n",
              "  Text(0.09202375102082912, 1.0961439819877936, 'MT'),\n",
              "  Text(0.09043907638416306, 1.0962758655843792, 'AL'),\n",
              "  Text(0.088189537014835, 1.0964591217009, 'WV'),\n",
              "  Text(0.08621577144521808, 1.0966160863101115, 'GA'),\n",
              "  Text(0.08501910359529966, 1.0967095112306868, 'OH'),\n",
              "  Text(0.08264592582582005, 1.096890902024624, 'DE'),\n",
              "  Text(0.07963798234822214, 1.0971133905697734, 'NE'),\n",
              "  Text(0.07778585392722896, 1.0972462626634059, 'FL'),\n",
              "  Text(0.07559575905126129, 1.0973993262315518, 'AK'),\n",
              "  Text(0.07229981799214535, 1.0976213993533028, 'WI'),\n",
              "  Text(0.06983255182834863, 1.0977811324235542, 'WA'),\n",
              "  Text(0.06829673005892233, 1.097877751237932, 'KY'),\n",
              "  Text(0.06667885331601976, 1.0979771994538234, 'OH'),\n",
              "  Text(0.06334024902743263, 1.0981748553181971, 'UT'),\n",
              "  Text(0.05928398186349239, 1.0984012971106731, 'NM'),\n",
              "  Text(0.05617977382230545, 1.0985644419028293, 'MN'),\n",
              "  Text(0.05370018195509236, 1.098688441032302, 'WV'),\n",
              "  Text(0.051937660370006536, 1.0987731701471828, 'MN'),\n",
              "  Text(0.04974456944628319, 1.0988746415358779, 'AL'),\n",
              "  Text(0.047582028775234514, 1.09897040475967, 'PA'),\n",
              "  Text(0.04528604955037156, 1.099067410906229, 'DE'),\n",
              "  Text(0.043020626293666216, 1.099158417023361, 'MO'),\n",
              "  Text(0.04084728827083954, 1.099241328844999, 'IL'),\n",
              "  Text(0.03796634555221583, 1.0993446032092984, 'FL'),\n",
              "  Text(0.035843917355627614, 1.099415851072106, 'HI'),\n",
              "  Text(0.033957202132456975, 1.0994757425352029, 'ME'),\n",
              "  Text(0.031485864882609835, 1.0995492896239778, 'CO'),\n",
              "  Text(0.029342542727989186, 1.0996085736234764, 'NH'),\n",
              "  Text(0.027547808877058464, 1.0996549996367375, 'SC'),\n",
              "  Text(0.02562992654604028, 1.099701371675622, 'IN'),\n",
              "  Text(0.023537602630863852, 1.0997481444687196, 'FL'),\n",
              "  Text(0.022193957092564505, 1.099776080967655, 'GA'),\n",
              "  Text(0.021086193796641742, 1.099797877989938, 'IL'),\n",
              "  Text(0.019598885582589928, 1.0998253878156845, 'NC'),\n",
              "  Text(0.017844841764959398, 1.0998552457584514, 'VT'),\n",
              "  Text(0.0158445611932229, 1.0998858803896858, 'DC'),\n",
              "  Text(0.013803195196157242, 1.099913392864355, 'VT'),\n",
              "  Text(0.011874624754582001, 1.0999359041721195, 'NV'),\n",
              "  Text(0.010397396863623246, 1.099950859874413, 'OR'),\n",
              "  Text(0.008663682087790085, 1.099965881567552, 'AL'),\n",
              "  Text(0.006119494881658137, 1.0999829779512016, 'ND'),\n",
              "  Text(0.003144396721481375, 1.0999955057950275, 'FL'),\n",
              "  Text(0.0006822281652346496, 1.0999997884384936, 'NE'),\n",
              "  Text(-0.0010207745311431662, 1.099999526372333, 'ND'),\n",
              "  Text(-0.0032675025527237923, 1.0999951470015983, 'ME'),\n",
              "  Text(-0.006119492656456931, 1.099982977963581, 'IL'),\n",
              "  Text(-0.00914583966388272, 1.0999619782596317, 'WA'),\n",
              "  Text(-0.01224392632263277, 1.0999318552838655, 'MA'),\n",
              "  Text(-0.015167528665833933, 1.0998954250628425, 'KS'),\n",
              "  Text(-0.017414014553983406, 1.0998621514067632, 'RI'),\n",
              "  Text(-0.019362962069336194, 1.0998295666601718, 'MO'),\n",
              "  Text(-0.02127082026189873, 1.0997943226828306, 'IA'),\n",
              "  Text(-0.02301450579345097, 1.0997592157027298, 'WY'),\n",
              "  Text(-0.025722230599397593, 1.099699216537409, 'NV'),\n",
              "  Text(-0.028686189394657762, 1.0996258920824, 'WI'),\n",
              "  Text(-0.03096286163066648, 1.099564141466809, 'AL'),\n",
              "  Text(-0.03364957351621843, 1.0994852005380413, 'HI'),\n",
              "  Text(-0.03597721163783244, 1.0994114972305715, 'MO'),\n",
              "  Text(-0.03734090776644355, 1.0993660248557704, 'CA'),\n",
              "  Text(-0.038571261046147554, 1.099323545559409, 'MO'),\n",
              "  Text(-0.04062174172453571, 1.0992496868770376, 'CT'),\n",
              "  Text(-0.042743840276720256, 1.0991692154160788, 'MD'),\n",
              "  Text(-0.04449675838803361, 1.0990996490277654, 'OH'),\n",
              "  Text(-0.0465980603574221, 1.0990125662479597, 'NV'),\n",
              "  Text(-0.04791000687986269, 1.0989561552859022, 'MD'),\n",
              "  Text(-0.04964208141282483, 1.0988792762414816, 'NE'),\n",
              "  Text(-0.05220409441675499, 1.098760543761072, 'OH'),\n",
              "  Text(-0.05446867804546048, 1.0986506101176934, 'MA'),\n",
              "  Text(-0.056999408996268375, 1.0985222197907862, 'OK'),\n",
              "  Text(-0.06016495669168363, 1.0983533939430823, 'MA'),\n",
              "  Text(-0.06285886526849267, 1.0982025145924397, 'WA'),\n",
              "  Text(-0.06526565042702082, 1.098062108841908, 'HI'),\n",
              "  Text(-0.06802026578172175, 1.0978949145719659, 'CO'),\n",
              "  Text(-0.07074373960755831, 1.097722789827349, 'FL'),\n",
              "  Text(-0.07269904909665559, 1.0975950292619052, 'WI'),\n",
              "  Text(-0.07458247991042515, 1.0974686572701797, 'ID'),\n",
              "  Text(-0.07615866098827813, 1.0973604049520251, 'WY'),\n",
              "  Text(-0.07736627799943964, 1.097275926569299, 'GA'),\n",
              "  Text(-0.07957658739510796, 1.097117845419784, 'FL'),\n",
              "  Text(-0.08133641804268046, 1.0969887816655128, 'WY'),\n",
              "  Text(-0.08251293251321767, 1.0969009143801776, 'DE'),\n",
              "  Text(-0.0839348536466587, 1.0967930252984444, 'ME'),\n",
              "  Text(-0.08566347403617043, 1.0966593679060306, 'DC'),\n",
              "  Text(-0.08802591770577685, 1.0964722695134865, 'IA'),\n",
              "  Text(-0.09039817712558089, 1.0962792388677132, 'CO'),\n",
              "  Text(-0.09251444827073592, 1.096102676240306, 'MN'),\n",
              "  Text(-0.09483479340162775, 1.0959043580351666, 'VT'),\n",
              "  Text(-0.09699120904235942, 1.0957156133634773, 'AZ'),\n",
              "  Text(-0.09899398865556705, 1.0955364851113183, 'LA'),\n",
              "  Text(-0.10181366692385582, 1.0952780364946237, 'MO'),\n",
              "  Text(-0.10451011945131908, 1.0950240339518906, 'ME'),\n",
              "  Text(-0.106583097942645, 1.0948242065432006, 'MD'),\n",
              "  Text(-0.10894153939278058, 1.094592043180806, 'VT'),\n",
              "  Text(-0.11131988800865397, 1.094352723089654, 'DC'),\n",
              "  Text(-0.1136977109539617, 1.0941082352874552, 'WY'),\n",
              "  Text(-0.11588116136494427, 1.093879132464237, 'VA'),\n",
              "  Text(-0.1175235468699665, 1.0937038977397415, 'VA'),\n",
              "  Text(-0.11849253225821303, 1.0935993415319143, 'CT'),\n",
              "  Text(-0.12024666862953465, 1.0934078555980375, 'HI'),\n",
              "  Text(-0.12251027030523236, 1.093156545820286, 'WI'),\n",
              "  Text(-0.12387633490239756, 1.0930025862966424, 'MD'),\n",
              "  Text(-0.12613908975350555, 1.0927437622956981, 'WV'),\n",
              "  Text(-0.12852357010767979, 1.0924658767791224, 'VT'),\n",
              "  Text(-0.13046942345408677, 1.0922351988210042, 'UT'),\n",
              "  Text(-0.13190562581676926, 1.0920626840423981, 'CO'),\n",
              "  Text(-0.1334332502623725, 1.0918770845312302, 'NC'),\n",
              "  Text(-0.1351540607935206, 1.0916654157071302, 'NJ'),\n",
              "  Text(-0.13678292112638454, 1.0914625199649017, 'AR'),\n",
              "  Text(-0.13844200940319157, 1.0912533207429, 'IA'),\n",
              "  Text(-0.13940881542231817, 1.0911302315409221, 'GA'),\n",
              "  Text(-0.1417388753859608, 1.0908300010562246, 'MO'),\n",
              "  Text(-0.14510563324613107, 1.0903872501089873, 'MO'),\n",
              "  Text(-0.14771874998799125, 1.0900363163225277, 'WY'),\n",
              "  Text(-0.1495179525016681, 1.0897909808214183, 'HI'),\n",
              "  Text(-0.15077816836635013, 1.089617338309229, 'PA'),\n",
              "  Text(-0.1525766751232055, 1.0893669529632097, 'TX'),\n",
              "  Text(-0.15529904492738314, 1.088982188396414, 'VA'),\n",
              "  Text(-0.15741126112466253, 1.0886788759184884, 'RI'),\n",
              "  Text(-0.15888336961813035, 1.0884650085596637, 'WI'),\n",
              "  Text(-0.1597055935680354, 1.0883446712246454, 'MS'),\n",
              "  Text(-0.16032473909509154, 1.0882536368117917, 'KY'),\n",
              "  Text(-0.16137006365726508, 1.0880991234971427, 'NC'),\n",
              "  Text(-0.16325735924584048, 1.0878175557748986, 'NV'),\n",
              "  Text(-0.16552957874426064, 1.0874741185705283, 'UT'),\n",
              "  Text(-0.1684296647774055, 1.0870287245620378, 'ME'),\n",
              "  Text(-0.17075089874761337, 1.0866665222490672, 'HI'),\n",
              "  Text(-0.17174402788779042, 1.0865100040427047, 'OH'),\n",
              "  Text(-0.17327397633332345, 1.0862670616039314, 'WV'),\n",
              "  Text(-0.17480358112883593, 1.0860219647983804, 'OK'),\n",
              "  Text(-0.1763024600392759, 1.0857796473429127, 'KY'),\n",
              "  Text(-0.17907652290828954, 1.0853255727859161, 'AL'),\n",
              "  Text(-0.18197082992373986, 1.0848440519525677, 'MD'),\n",
              "  Text(-0.1837614145617045, 1.0845421810691742, 'NE'),\n",
              "  Text(-0.18545037722162636, 1.0842546553224277, 'DC'),\n",
              "  Text(-0.18753314811109298, 1.0838963596024958, 'TX'),\n",
              "  Text(-0.1894131137502177, 1.0835694127924833, 'OH'),\n",
              "  Text(-0.19116117243687866, 1.083262390260346, 'DE'),\n",
              "  Text(-0.19297943352940425, 1.0829399513521838, 'IA'),\n",
              "  Text(-0.1948880223099392, 1.0825981058361966, 'VT'),\n",
              "  Text(-0.19749241878486457, 1.0821260298701367, 'OR'),\n",
              "  Text(-0.1996416989780697, 1.0817315711530056, 'NV'),\n",
              "  Text(-0.2016893408774108, 1.081351658701477, 'NC'),\n",
              "  Text(-0.20338339466344485, 1.0810343171126315, 'NJ'),\n",
              "  Text(-0.2053591594178423, 1.0806607310544774, 'MN'),\n",
              "  Text(-0.2078681966115859, 1.0801809167160135, 'ID'),\n",
              "  Text(-0.20974168648107025, 1.0798187000381485, 'AL'),\n",
              "  Text(-0.21170515133015766, 1.0794354676868254, 'AK'),\n",
              "  Text(-0.21380880524433232, 1.0790207573536255, 'VT'),\n",
              "  Text(-0.21535834663468179, 1.0787125578831354, 'PA'),\n",
              "  Text(-0.21721922101546134, 1.0783393760878048, 'AK'),\n",
              "  Text(-0.2201349638909916, 1.0777479286329952, 'CA'),\n",
              "  Text(-0.22286826651702438, 1.0771860265430928, 'MS'),\n",
              "  Text(-0.22478675156021433, 1.0767873124823706, 'AR'),\n",
              "  Text(-0.2270056787394527, 1.0763217092579898, 'NV'),\n",
              "  Text(-0.22936411327941858, 1.0758215946612832, 'AL'),\n",
              "  Text(-0.23085889115040328, 1.0755018235116138, 'GA'),\n",
              "  Text(-0.23149077740543023, 1.0753659934999942, 'AR'),\n",
              "  Text(-0.23251366174455124, 1.075145291159358, 'MA'),\n",
              "  Text(-0.23455879826273712, 1.0747009677847792, 'NJ'),\n",
              "  Text(-0.23705391651342259, 1.074153359937792, 'MO'),\n",
              "  Text(-0.23856639852735914, 1.0738184546252152, 'NY'),\n",
              "  Text(-0.23938754830421446, 1.0736356932017945, 'AZ'),\n",
              "  Text(-0.24059898906767796, 1.0733648617593234, 'NJ'),\n",
              "  Text(-0.24150987083461217, 1.073160278005783, 'WV'),\n",
              "  Text(-0.24316102552518523, 1.0727873580843226, 'NM'),\n",
              "  Text(-0.24531166555198536, 1.0722976204133399, 'SC'),\n",
              "  Text(-0.2470914495094824, 1.0718889007631822, 'VT'),\n",
              "  Text(-0.24853077664857878, 1.0715560895531575, 'TN'),\n",
              "  Text(-0.24998963680601524, 1.0712166827909266, 'LA'),\n",
              "  Text(-0.25222698600542137, 1.0706920881049888, 'OH'),\n",
              "  Text(-0.25380445470412505, 1.0703192508650594, 'OR'),\n",
              "  Text(-0.25530154166713565, 1.0699631408709291, 'DE'),\n",
              "  Text(-0.2576260248205935, 1.0694058309805212, 'KY'),\n",
              "  Text(-0.259590411668877, 1.068930689132641, 'GA'),\n",
              "  Text(-0.2611453453849661, 1.0685518745403833, 'VT'),\n",
              "  Text(-0.2633771031009198, 1.0680039801246846, 'OR'),\n",
              "  Text(-0.26547828798436246, 1.0674836198316544, 'TX'),\n",
              "  Text(-0.26700125347115927, 1.0671037112880968, 'MO'),\n",
              "  Text(-0.2688619170502795, 1.0666364280109923, 'ND'),\n",
              "  Text(-0.2706123828108162, 1.0661936682748836, 'MN'),\n",
              "  Text(-0.2722925416460387, 1.0657658146909856, 'NV'),\n",
              "  Text(-0.2736938135391085, 1.0654068220311055, 'NY'),\n",
              "  Text(-0.2759090423550633, 1.0648352925906956, 'FL'),\n",
              "  Text(-0.27857963519412055, 1.0641397402856032, 'KS'),\n",
              "  Text(-0.28104019005567954, 1.0634925536050865, 'NV'),\n",
              "  Text(-0.284173233058815, 1.0626596697028172, 'NV'),\n",
              "  Text(-0.2863133882187114, 1.0620850454303186, 'SC'),\n",
              "  Text(-0.28718497071055343, 1.0618497033940248, 'MI'),\n",
              "  Text(-0.2881256664749928, 1.0615948381177922, 'MI'),\n",
              "  Text(-0.28926410073510916, 1.0612852020196593, 'TN'),\n",
              "  Text(-0.2914113692946165, 1.0606976071651322, 'NY'),\n",
              "  Text(-0.2937947244651521, 1.0600399331517871, 'NV'),\n",
              "  Text(-0.29649274810322607, 1.05928846416932, 'IL'),\n",
              "  Text(-0.29940603377090685, 1.058468717979693, 'MS'),\n",
              "  Text(-0.30113318446762216, 1.0579786411891259, 'ND'),\n",
              "  Text(-0.303342766126529, 1.057347230685694, 'NC'),\n",
              "  ...])"
            ]
          },
          "metadata": {},
          "execution_count": 15
        },
        {
          "output_type": "display_data",
          "data": {
            "text/plain": [
              "<Figure size 432x360 with 1 Axes>"
            ],
            "image/png": "[encoded data removed]"
          },
          "metadata": {}
        }
      ]
    },
    {
      "cell_type": "code",
      "source": [
        "df.head()\n"
      ],
      "metadata": {
        "colab": {
          "base_uri": "https://localhost:8080/",
          "height": 334
        },
        "id": "4fqYqWONWajQ",
        "outputId": "be3d0ac2-d29c-463c-f569-26668b09f102"
      },
      "execution_count": null,
      "outputs": [
        {
          "output_type": "execute_result",
          "data": {
            "text/plain": [
              "  State  Account length  Area code International plan Voice mail plan  \\\n",
              "0    KS             128        415                 No             Yes   \n",
              "1    OH             107        415                 No             Yes   \n",
              "2    NJ             137        415                 No              No   \n",
              "3    OH              84        408                Yes              No   \n",
              "4    OK              75        415                Yes              No   \n",
              "\n",
              "   Number vmail messages  Total day minutes  Total day calls  \\\n",
              "0                     25              265.1              110   \n",
              "1                     26              161.6              123   \n",
              "2                      0              243.4              114   \n",
              "3                      0              299.4               71   \n",
              "4                      0              166.7              113   \n",
              "\n",
              "   Total day charge  Total eve minutes  ...  Total eve charge  \\\n",
              "0             45.07              197.4  ...             16.78   \n",
              "1             27.47              195.5  ...             16.62   \n",
              "2             41.38              121.2  ...             10.30   \n",
              "3             50.90               61.9  ...              5.26   \n",
              "4             28.34              148.3  ...             12.61   \n",
              "\n",
              "   Total night minutes  Total night calls  Total night charge  \\\n",
              "0                244.7                 91               11.01   \n",
              "1                254.4                103               11.45   \n",
              "2                162.6                104                7.32   \n",
              "3                196.9                 89                8.86   \n",
              "4                186.9                121                8.41   \n",
              "\n",
              "   Total intl minutes  Total intl calls  Total intl charge  \\\n",
              "0                10.0                 3               2.70   \n",
              "1                13.7                 3               3.70   \n",
              "2                12.2                 5               3.29   \n",
              "3                 6.6                 7               1.78   \n",
              "4                10.1                 3               2.73   \n",
              "\n",
              "   Customer service calls  Churn  Total charge  \n",
              "0                       1  False         72.86  \n",
              "1                       1  False         55.54  \n",
              "2                       0  False         59.00  \n",
              "3                       2  False         65.02  \n",
              "4                       3  False         49.36  \n",
              "\n",
              "[5 rows x 21 columns]"
            ],
            "text/html": [
              "\n",
              "  <div id=\"df-c854d8da-d06b-469c-8cd3-94b38bfef5ac\">\n",
              "    <div class=\"colab-df-container\">\n",
              "      <div>\n",
              "<style scoped>\n",
              "    .dataframe tbody tr th:only-of-type {\n",
              "        vertical-align: middle;\n",
              "    }\n",
              "\n",
              "    .dataframe tbody tr th {\n",
              "        vertical-align: top;\n",
              "    }\n",
              "\n",
              "    .dataframe thead th {\n",
              "        text-align: right;\n",
              "    }\n",
              "</style>\n",
              "<table border=\"1\" class=\"dataframe\">\n",
              "  <thead>\n",
              "    <tr style=\"text-align: right;\">\n",
              "      <th></th>\n",
              "      <th>State</th>\n",
              "      <th>Account length</th>\n",
              "      <th>Area code</th>\n",
              "      <th>International plan</th>\n",
              "      <th>Voice mail plan</th>\n",
              "      <th>Number vmail messages</th>\n",
              "      <th>Total day minutes</th>\n",
              "      <th>Total day calls</th>\n",
              "      <th>Total day charge</th>\n",
              "      <th>Total eve minutes</th>\n",
              "      <th>...</th>\n",
              "      <th>Total eve charge</th>\n",
              "      <th>Total night minutes</th>\n",
              "      <th>Total night calls</th>\n",
              "      <th>Total night charge</th>\n",
              "      <th>Total intl minutes</th>\n",
              "      <th>Total intl calls</th>\n",
              "      <th>Total intl charge</th>\n",
              "      <th>Customer service calls</th>\n",
              "      <th>Churn</th>\n",
              "      <th>Total charge</th>\n",
              "    </tr>\n",
              "  </thead>\n",
              "  <tbody>\n",
              "    <tr>\n",
              "      <th>0</th>\n",
              "      <td>KS</td>\n",
              "      <td>128</td>\n",
              "      <td>415</td>\n",
              "      <td>No</td>\n",
              "      <td>Yes</td>\n",
              "      <td>25</td>\n",
              "      <td>265.1</td>\n",
              "      <td>110</td>\n",
              "      <td>45.07</td>\n",
              "      <td>197.4</td>\n",
              "      <td>...</td>\n",
              "      <td>16.78</td>\n",
              "      <td>244.7</td>\n",
              "      <td>91</td>\n",
              "      <td>11.01</td>\n",
              "      <td>10.0</td>\n",
              "      <td>3</td>\n",
              "      <td>2.70</td>\n",
              "      <td>1</td>\n",
              "      <td>False</td>\n",
              "      <td>72.86</td>\n",
              "    </tr>\n",
              "    <tr>\n",
              "      <th>1</th>\n",
              "      <td>OH</td>\n",
              "      <td>107</td>\n",
              "      <td>415</td>\n",
              "      <td>No</td>\n",
              "      <td>Yes</td>\n",
              "      <td>26</td>\n",
              "      <td>161.6</td>\n",
              "      <td>123</td>\n",
              "      <td>27.47</td>\n",
              "      <td>195.5</td>\n",
              "      <td>...</td>\n",
              "      <td>16.62</td>\n",
              "      <td>254.4</td>\n",
              "      <td>103</td>\n",
              "      <td>11.45</td>\n",
              "      <td>13.7</td>\n",
              "      <td>3</td>\n",
              "      <td>3.70</td>\n",
              "      <td>1</td>\n",
              "      <td>False</td>\n",
              "      <td>55.54</td>\n",
              "    </tr>\n",
              "    <tr>\n",
              "      <th>2</th>\n",
              "      <td>NJ</td>\n",
              "      <td>137</td>\n",
              "      <td>415</td>\n",
              "      <td>No</td>\n",
              "      <td>No</td>\n",
              "      <td>0</td>\n",
              "      <td>243.4</td>\n",
              "      <td>114</td>\n",
              "      <td>41.38</td>\n",
              "      <td>121.2</td>\n",
              "      <td>...</td>\n",
              "      <td>10.30</td>\n",
              "      <td>162.6</td>\n",
              "      <td>104</td>\n",
              "      <td>7.32</td>\n",
              "      <td>12.2</td>\n",
              "      <td>5</td>\n",
              "      <td>3.29</td>\n",
              "      <td>0</td>\n",
              "      <td>False</td>\n",
              "      <td>59.00</td>\n",
              "    </tr>\n",
              "    <tr>\n",
              "      <th>3</th>\n",
              "      <td>OH</td>\n",
              "      <td>84</td>\n",
              "      <td>408</td>\n",
              "      <td>Yes</td>\n",
              "      <td>No</td>\n",
              "      <td>0</td>\n",
              "      <td>299.4</td>\n",
              "      <td>71</td>\n",
              "      <td>50.90</td>\n",
              "      <td>61.9</td>\n",
              "      <td>...</td>\n",
              "      <td>5.26</td>\n",
              "      <td>196.9</td>\n",
              "      <td>89</td>\n",
              "      <td>8.86</td>\n",
              "      <td>6.6</td>\n",
              "      <td>7</td>\n",
              "      <td>1.78</td>\n",
              "      <td>2</td>\n",
              "      <td>False</td>\n",
              "      <td>65.02</td>\n",
              "    </tr>\n",
              "    <tr>\n",
              "      <th>4</th>\n",
              "      <td>OK</td>\n",
              "      <td>75</td>\n",
              "      <td>415</td>\n",
              "      <td>Yes</td>\n",
              "      <td>No</td>\n",
              "      <td>0</td>\n",
              "      <td>166.7</td>\n",
              "      <td>113</td>\n",
              "      <td>28.34</td>\n",
              "      <td>148.3</td>\n",
              "      <td>...</td>\n",
              "      <td>12.61</td>\n",
              "      <td>186.9</td>\n",
              "      <td>121</td>\n",
              "      <td>8.41</td>\n",
              "      <td>10.1</td>\n",
              "      <td>3</td>\n",
              "      <td>2.73</td>\n",
              "      <td>3</td>\n",
              "      <td>False</td>\n",
              "      <td>49.36</td>\n",
              "    </tr>\n",
              "  </tbody>\n",
              "</table>\n",
              "<p>5 rows × 21 columns</p>\n",
              "</div>\n",
              "      <button class=\"colab-df-convert\" onclick=\"convertToInteractive('df-c854d8da-d06b-469c-8cd3-94b38bfef5ac')\"\n",
              "              title=\"Convert this dataframe to an interactive table.\"\n",
              "              style=\"display:none;\">\n",
              "        \n",
              "  <svg xmlns=\"http://www.w3.org/2000/svg\" height=\"24px\"viewBox=\"0 0 24 24\"\n",
              "       width=\"24px\">\n",
              "    <path d=\"M0 0h24v24H0V0z\" fill=\"none\"/>\n",
              "    <path d=\"M18.56 5.44l.94 2.06.94-2.06 2.06-.94-2.06-.94-.94-2.06-.94 2.06-2.06.94zm-11 1L8.5 8.5l.94-2.06 2.06-.94-2.06-.94L8.5 2.5l-.94 2.06-2.06.94zm10 10l.94 2.06.94-2.06 2.06-.94-2.06-.94-.94-2.06-.94 2.06-2.06.94z\"/><path d=\"M17.41 7.96l-1.37-1.37c-.4-.4-.92-.59-1.43-.59-.52 0-1.04.2-1.43.59L10.3 9.45l-7.72 7.72c-.78.78-.78 2.05 0 2.83L4 21.41c.39.39.9.59 1.41.59.51 0 1.02-.2 1.41-.59l7.78-7.78 2.81-2.81c.8-.78.8-2.07 0-2.86zM5.41 20L4 18.59l7.72-7.72 1.47 1.35L5.41 20z\"/>\n",
              "  </svg>\n",
              "      </button>\n",
              "      \n",
              "  <style>\n",
              "    .colab-df-container {\n",
              "      display:flex;\n",
              "      flex-wrap:wrap;\n",
              "      gap: 12px;\n",
              "    }\n",
              "\n",
              "    .colab-df-convert {\n",
              "      background-color: #E8F0FE;\n",
              "      border: none;\n",
              "      border-radius: 50%;\n",
              "      cursor: pointer;\n",
              "      display: none;\n",
              "      fill: #1967D2;\n",
              "      height: 32px;\n",
              "      padding: 0 0 0 0;\n",
              "      width: 32px;\n",
              "    }\n",
              "\n",
              "    .colab-df-convert:hover {\n",
              "      background-color: #E2EBFA;\n",
              "      box-shadow: 0px 1px 2px rgba(60, 64, 67, 0.3), 0px 1px 3px 1px rgba(60, 64, 67, 0.15);\n",
              "      fill: #174EA6;\n",
              "    }\n",
              "\n",
              "    [theme=dark] .colab-df-convert {\n",
              "      background-color: #3B4455;\n",
              "      fill: #D2E3FC;\n",
              "    }\n",
              "\n",
              "    [theme=dark] .colab-df-convert:hover {\n",
              "      background-color: #434B5C;\n",
              "      box-shadow: 0px 1px 3px 1px rgba(0, 0, 0, 0.15);\n",
              "      filter: drop-shadow(0px 1px 2px rgba(0, 0, 0, 0.3));\n",
              "      fill: #FFFFFF;\n",
              "    }\n",
              "  </style>\n",
              "\n",
              "      <script>\n",
              "        const buttonEl =\n",
              "          document.querySelector('#df-c854d8da-d06b-469c-8cd3-94b38bfef5ac button.colab-df-convert');\n",
              "        buttonEl.style.display =\n",
              "          google.colab.kernel.accessAllowed ? 'block' : 'none';\n",
              "\n",
              "        async function convertToInteractive(key) {\n",
              "          const element = document.querySelector('#df-c854d8da-d06b-469c-8cd3-94b38bfef5ac');\n",
              "          const dataTable =\n",
              "            await google.colab.kernel.invokeFunction('convertToInteractive',\n",
              "                                                     [key], {});\n",
              "          if (!dataTable) return;\n",
              "\n",
              "          const docLinkHtml = 'Like what you see? Visit the ' +\n",
              "            '<a target=\"_blank\" href=https://colab.research.google.com/notebooks/data_table.ipynb>data table notebook</a>'\n",
              "            + ' to learn more about interactive tables.';\n",
              "          element.innerHTML = '';\n",
              "          dataTable['output_type'] = 'display_data';\n",
              "          await google.colab.output.renderOutput(dataTable, element);\n",
              "          const docLink = document.createElement('div');\n",
              "          docLink.innerHTML = docLinkHtml;\n",
              "          element.appendChild(docLink);\n",
              "        }\n",
              "      </script>\n",
              "    </div>\n",
              "  </div>\n",
              "  "
            ]
          },
          "metadata": {},
          "execution_count": 7
        }
      ]
    }
  ]
}